{
 "cells": [
  {
   "cell_type": "code",
   "execution_count": null,
   "metadata": {},
   "outputs": [],
   "source": [
    "import common_import \n",
    "import torch\n",
    "import torch.nn.functional as F\n",
    "from torch_geometric.nn import GATConv, GCNConv, SAGEConv\n",
    "from torch_geometric.data import Data, InMemoryDataset\n",
    "from torch_geometric.transforms import NormalizeFeatures\n",
    "from sklearn.metrics import precision_score, recall_score, f1_score, roc_auc_score, matthews_corrcoef, confusion_matrix, accuracy_score\n",
    "import matplotlib.pyplot as plt\n",
    "import numpy as np\n",
    "import json"
   ]
  },
  {
   "cell_type": "code",
   "execution_count": null,
   "metadata": {},
   "outputs": [
    {
     "name": "stderr",
     "output_type": "stream",
     "text": [
      "/var/folders/yf/20z1hn994jd04q4kl0gpgh740000gn/T/ipykernel_88315/32871360.py:11: UserWarning:\n",
      "\n",
      "To copy construct from a tensor, it is recommended to use sourceTensor.clone().detach() or sourceTensor.clone().detach().requires_grad_(True), rather than torch.tensor(sourceTensor).\n",
      "\n"
     ]
    }
   ],
   "source": [
    "from torch_geometric.datasets import Planetoid\n",
    "\n",
    "# Assuming your numpy array is named `data_array`\n",
    "# data_array = np.loadtxt('data_mother/500label.csv', delimiter=',')\n",
    "# Load the Cora dataset\n",
    "dataset = Planetoid(root='/tmp/Cora', name='Cora')\n",
    "data = dataset[0]\n",
    "# data_array = np.loadtxt('label.csv', delimiter=',')\n",
    "\n",
    "# Convert numpy array to torch tensor\n",
    "x = torch.tensor(data.x, dtype=torch.float)\n",
    "num_nodes = x.size(0)\n",
    "edge_index = torch.randint(0, num_nodes, (2, 1000), dtype=torch.long)\n",
    "\n",
    "# Create a PyTorch Geometric Data object\n",
    "data = Data(x=x, edge_index=edge_index)\n",
    "\n",
    "# Add train_mask and test_mask\n",
    "num_nodes = x.size(0)\n",
    "train_mask = torch.zeros(num_nodes, dtype=torch.bool)\n",
    "train_mask[:int(0.8 * num_nodes)] = True\n",
    "test_mask = ~train_mask\n",
    "\n",
    "data.train_mask = train_mask\n",
    "data.test_mask = test_mask\n",
    "\n",
    "# Add labels (y) if not already present\n",
    "num_classes = 3\n",
    "data.y = torch.randint(0, num_classes, (num_nodes,), dtype=torch.long)\n",
    "\n",
    "# Now you can access num_node_features\n",
    "# gat_model = GAT(in_channels=data.num_node_features, out_channels=3)"
   ]
  },
  {
   "cell_type": "code",
   "execution_count": 15,
   "metadata": {},
   "outputs": [
    {
     "name": "stderr",
     "output_type": "stream",
     "text": [
      "/Users/visheshyadav/anaconda3/lib/python3.11/site-packages/torch/optim/lr_scheduler.py:28: UserWarning:\n",
      "\n",
      "The verbose parameter is deprecated. Please use get_last_lr() to access the learning rate.\n",
      "\n",
      "/Users/visheshyadav/anaconda3/lib/python3.11/site-packages/sklearn/metrics/_classification.py:1531: UndefinedMetricWarning:\n",
      "\n",
      "Precision is ill-defined and being set to 0.0 in labels with no predicted samples. Use `zero_division` parameter to control this behavior.\n",
      "\n",
      "/var/folders/yf/20z1hn994jd04q4kl0gpgh740000gn/T/ipykernel_88315/4155612595.py:129: RuntimeWarning:\n",
      "\n",
      "invalid value encountered in divide\n",
      "\n",
      "/Users/visheshyadav/anaconda3/lib/python3.11/site-packages/sklearn/metrics/_classification.py:1531: UndefinedMetricWarning:\n",
      "\n",
      "Precision is ill-defined and being set to 0.0 in labels with no predicted samples. Use `zero_division` parameter to control this behavior.\n",
      "\n",
      "/var/folders/yf/20z1hn994jd04q4kl0gpgh740000gn/T/ipykernel_88315/4155612595.py:129: RuntimeWarning:\n",
      "\n",
      "invalid value encountered in divide\n",
      "\n"
     ]
    },
    {
     "name": "stdout",
     "output_type": "stream",
     "text": [
      "Training Loss: 1.944578766822815\n",
      "GAT Epoch 0, Loss: 1.944578766822815, Accuracy: 0.3173431734317343\n",
      "Training Loss: 1.8974978923797607\n",
      "GAT Epoch 1, Loss: 1.8974978923797607, Accuracy: 0.3173431734317343\n",
      "Training Loss: 1.854889154434204\n",
      "GAT Epoch 2, Loss: 1.854889154434204, Accuracy: 0.3173431734317343\n",
      "Training Loss: 1.8467940092086792\n",
      "GAT Epoch 3, Loss: 1.8467940092086792, Accuracy: 0.3173431734317343\n"
     ]
    },
    {
     "name": "stderr",
     "output_type": "stream",
     "text": [
      "/Users/visheshyadav/anaconda3/lib/python3.11/site-packages/sklearn/metrics/_classification.py:1531: UndefinedMetricWarning:\n",
      "\n",
      "Precision is ill-defined and being set to 0.0 in labels with no predicted samples. Use `zero_division` parameter to control this behavior.\n",
      "\n",
      "/var/folders/yf/20z1hn994jd04q4kl0gpgh740000gn/T/ipykernel_88315/4155612595.py:129: RuntimeWarning:\n",
      "\n",
      "invalid value encountered in divide\n",
      "\n",
      "/Users/visheshyadav/anaconda3/lib/python3.11/site-packages/sklearn/metrics/_classification.py:1531: UndefinedMetricWarning:\n",
      "\n",
      "Precision is ill-defined and being set to 0.0 in labels with no predicted samples. Use `zero_division` parameter to control this behavior.\n",
      "\n",
      "/var/folders/yf/20z1hn994jd04q4kl0gpgh740000gn/T/ipykernel_88315/4155612595.py:129: RuntimeWarning:\n",
      "\n",
      "invalid value encountered in divide\n",
      "\n",
      "/Users/visheshyadav/anaconda3/lib/python3.11/site-packages/sklearn/metrics/_classification.py:1531: UndefinedMetricWarning:\n",
      "\n",
      "Precision is ill-defined and being set to 0.0 in labels with no predicted samples. Use `zero_division` parameter to control this behavior.\n",
      "\n",
      "/var/folders/yf/20z1hn994jd04q4kl0gpgh740000gn/T/ipykernel_88315/4155612595.py:129: RuntimeWarning:\n",
      "\n",
      "invalid value encountered in divide\n",
      "\n",
      "/Users/visheshyadav/anaconda3/lib/python3.11/site-packages/sklearn/metrics/_classification.py:1531: UndefinedMetricWarning:\n",
      "\n",
      "Precision is ill-defined and being set to 0.0 in labels with no predicted samples. Use `zero_division` parameter to control this behavior.\n",
      "\n",
      "/var/folders/yf/20z1hn994jd04q4kl0gpgh740000gn/T/ipykernel_88315/4155612595.py:129: RuntimeWarning:\n",
      "\n",
      "invalid value encountered in divide\n",
      "\n"
     ]
    },
    {
     "name": "stdout",
     "output_type": "stream",
     "text": [
      "Training Loss: 1.830358624458313\n",
      "GAT Epoch 4, Loss: 1.830358624458313, Accuracy: 0.3173431734317343\n",
      "Training Loss: 1.7960352897644043\n",
      "GAT Epoch 5, Loss: 1.7960352897644043, Accuracy: 0.3173431734317343\n",
      "Training Loss: 1.7617262601852417\n",
      "GAT Epoch 6, Loss: 1.7617262601852417, Accuracy: 0.32287822878228783\n",
      "Training Loss: 1.7494189739227295\n"
     ]
    },
    {
     "name": "stderr",
     "output_type": "stream",
     "text": [
      "/Users/visheshyadav/anaconda3/lib/python3.11/site-packages/sklearn/metrics/_classification.py:1531: UndefinedMetricWarning:\n",
      "\n",
      "Precision is ill-defined and being set to 0.0 in labels with no predicted samples. Use `zero_division` parameter to control this behavior.\n",
      "\n",
      "/var/folders/yf/20z1hn994jd04q4kl0gpgh740000gn/T/ipykernel_88315/4155612595.py:129: RuntimeWarning:\n",
      "\n",
      "invalid value encountered in divide\n",
      "\n",
      "/Users/visheshyadav/anaconda3/lib/python3.11/site-packages/sklearn/metrics/_classification.py:1531: UndefinedMetricWarning:\n",
      "\n",
      "Precision is ill-defined and being set to 0.0 in labels with no predicted samples. Use `zero_division` parameter to control this behavior.\n",
      "\n",
      "/var/folders/yf/20z1hn994jd04q4kl0gpgh740000gn/T/ipykernel_88315/4155612595.py:129: RuntimeWarning:\n",
      "\n",
      "invalid value encountered in divide\n",
      "\n",
      "/Users/visheshyadav/anaconda3/lib/python3.11/site-packages/sklearn/metrics/_classification.py:1531: UndefinedMetricWarning:\n",
      "\n",
      "Precision is ill-defined and being set to 0.0 in labels with no predicted samples. Use `zero_division` parameter to control this behavior.\n",
      "\n",
      "/var/folders/yf/20z1hn994jd04q4kl0gpgh740000gn/T/ipykernel_88315/4155612595.py:129: RuntimeWarning:\n",
      "\n",
      "invalid value encountered in divide\n",
      "\n"
     ]
    },
    {
     "name": "stdout",
     "output_type": "stream",
     "text": [
      "GAT Epoch 7, Loss: 1.7494189739227295, Accuracy: 0.37822878228782286\n",
      "Training Loss: 1.7058041095733643\n",
      "GAT Epoch 8, Loss: 1.7058041095733643, Accuracy: 0.47232472324723246\n",
      "Training Loss: 1.6653227806091309\n",
      "GAT Epoch 9, Loss: 1.6653227806091309, Accuracy: 0.496309963099631\n"
     ]
    },
    {
     "name": "stderr",
     "output_type": "stream",
     "text": [
      "/Users/visheshyadav/anaconda3/lib/python3.11/site-packages/sklearn/metrics/_classification.py:1531: UndefinedMetricWarning:\n",
      "\n",
      "Precision is ill-defined and being set to 0.0 in labels with no predicted samples. Use `zero_division` parameter to control this behavior.\n",
      "\n",
      "/var/folders/yf/20z1hn994jd04q4kl0gpgh740000gn/T/ipykernel_88315/4155612595.py:129: RuntimeWarning:\n",
      "\n",
      "invalid value encountered in divide\n",
      "\n",
      "/Users/visheshyadav/anaconda3/lib/python3.11/site-packages/sklearn/metrics/_classification.py:1531: UndefinedMetricWarning:\n",
      "\n",
      "Precision is ill-defined and being set to 0.0 in labels with no predicted samples. Use `zero_division` parameter to control this behavior.\n",
      "\n",
      "/var/folders/yf/20z1hn994jd04q4kl0gpgh740000gn/T/ipykernel_88315/4155612595.py:129: RuntimeWarning:\n",
      "\n",
      "invalid value encountered in divide\n",
      "\n",
      "/Users/visheshyadav/anaconda3/lib/python3.11/site-packages/sklearn/metrics/_classification.py:1531: UndefinedMetricWarning:\n",
      "\n",
      "Precision is ill-defined and being set to 0.0 in labels with no predicted samples. Use `zero_division` parameter to control this behavior.\n",
      "\n",
      "/var/folders/yf/20z1hn994jd04q4kl0gpgh740000gn/T/ipykernel_88315/4155612595.py:129: RuntimeWarning:\n",
      "\n",
      "invalid value encountered in divide\n",
      "\n"
     ]
    },
    {
     "name": "stdout",
     "output_type": "stream",
     "text": [
      "Training Loss: 1.6061782836914062\n",
      "GAT Epoch 10, Loss: 1.6061782836914062, Accuracy: 0.5202952029520295\n",
      "Training Loss: 1.5691784620285034\n",
      "GAT Epoch 11, Loss: 1.5691784620285034, Accuracy: 0.5682656826568265\n",
      "Training Loss: 1.5063968896865845\n",
      "GAT Epoch 12, Loss: 1.5063968896865845, Accuracy: 0.6291512915129152\n",
      "Training Loss: 1.4376602172851562\n"
     ]
    },
    {
     "name": "stderr",
     "output_type": "stream",
     "text": [
      "/Users/visheshyadav/anaconda3/lib/python3.11/site-packages/sklearn/metrics/_classification.py:1531: UndefinedMetricWarning:\n",
      "\n",
      "Precision is ill-defined and being set to 0.0 in labels with no predicted samples. Use `zero_division` parameter to control this behavior.\n",
      "\n",
      "/var/folders/yf/20z1hn994jd04q4kl0gpgh740000gn/T/ipykernel_88315/4155612595.py:129: RuntimeWarning:\n",
      "\n",
      "invalid value encountered in divide\n",
      "\n",
      "/Users/visheshyadav/anaconda3/lib/python3.11/site-packages/sklearn/metrics/_classification.py:1531: UndefinedMetricWarning:\n",
      "\n",
      "Precision is ill-defined and being set to 0.0 in labels with no predicted samples. Use `zero_division` parameter to control this behavior.\n",
      "\n",
      "/var/folders/yf/20z1hn994jd04q4kl0gpgh740000gn/T/ipykernel_88315/4155612595.py:129: RuntimeWarning:\n",
      "\n",
      "invalid value encountered in divide\n",
      "\n",
      "/Users/visheshyadav/anaconda3/lib/python3.11/site-packages/sklearn/metrics/_classification.py:1531: UndefinedMetricWarning:\n",
      "\n",
      "Precision is ill-defined and being set to 0.0 in labels with no predicted samples. Use `zero_division` parameter to control this behavior.\n",
      "\n",
      "/var/folders/yf/20z1hn994jd04q4kl0gpgh740000gn/T/ipykernel_88315/4155612595.py:129: RuntimeWarning:\n",
      "\n",
      "invalid value encountered in divide\n",
      "\n"
     ]
    },
    {
     "name": "stdout",
     "output_type": "stream",
     "text": [
      "GAT Epoch 13, Loss: 1.4376602172851562, Accuracy: 0.6826568265682657\n",
      "Training Loss: 1.3969489336013794\n",
      "GAT Epoch 14, Loss: 1.3969489336013794, Accuracy: 0.7490774907749077\n",
      "Training Loss: 1.3042303323745728\n",
      "GAT Epoch 15, Loss: 1.3042303323745728, Accuracy: 0.7693726937269373\n",
      "Training Loss: 1.2893683910369873\n",
      "GAT Epoch 16, Loss: 1.2893683910369873, Accuracy: 0.7859778597785978\n"
     ]
    },
    {
     "name": "stderr",
     "output_type": "stream",
     "text": [
      "/Users/visheshyadav/anaconda3/lib/python3.11/site-packages/sklearn/metrics/_classification.py:1531: UndefinedMetricWarning:\n",
      "\n",
      "Precision is ill-defined and being set to 0.0 in labels with no predicted samples. Use `zero_division` parameter to control this behavior.\n",
      "\n",
      "/var/folders/yf/20z1hn994jd04q4kl0gpgh740000gn/T/ipykernel_88315/4155612595.py:129: RuntimeWarning:\n",
      "\n",
      "invalid value encountered in divide\n",
      "\n"
     ]
    },
    {
     "name": "stdout",
     "output_type": "stream",
     "text": [
      "Training Loss: 1.2245410680770874\n",
      "GAT Epoch 17, Loss: 1.2245410680770874, Accuracy: 0.7896678966789668\n",
      "Training Loss: 1.188706636428833\n",
      "GAT Epoch 18, Loss: 1.188706636428833, Accuracy: 0.7988929889298892\n",
      "Training Loss: 1.0970834493637085\n",
      "GAT Epoch 19, Loss: 1.0970834493637085, Accuracy: 0.7970479704797048\n",
      "Training Loss: 1.112991452217102\n",
      "GAT Epoch 20, Loss: 1.112991452217102, Accuracy: 0.8044280442804428\n",
      "Training Loss: 1.052790641784668\n",
      "GAT Epoch 21, Loss: 1.052790641784668, Accuracy: 0.8247232472324724\n",
      "Training Loss: 1.0279364585876465\n",
      "GAT Epoch 22, Loss: 1.0279364585876465, Accuracy: 0.8357933579335793\n",
      "Training Loss: 1.0150045156478882\n",
      "GAT Epoch 23, Loss: 1.0150045156478882, Accuracy: 0.8376383763837638\n",
      "Training Loss: 1.0102314949035645\n",
      "GAT Epoch 24, Loss: 1.0102314949035645, Accuracy: 0.8376383763837638\n",
      "Training Loss: 0.9557235240936279\n",
      "GAT Epoch 25, Loss: 0.9557235240936279, Accuracy: 0.8394833948339483\n",
      "Training Loss: 0.9571360945701599\n",
      "GAT Epoch 26, Loss: 0.9571360945701599, Accuracy: 0.8560885608856088\n",
      "Training Loss: 0.972111701965332\n",
      "GAT Epoch 27, Loss: 0.972111701965332, Accuracy: 0.8560885608856088\n",
      "Training Loss: 0.9145329594612122\n",
      "GAT Epoch 28, Loss: 0.9145329594612122, Accuracy: 0.8634686346863468\n",
      "Training Loss: 0.9467819929122925\n",
      "GAT Epoch 29, Loss: 0.9467819929122925, Accuracy: 0.8634686346863468\n",
      "Training Loss: 0.9566013813018799\n",
      "GAT Epoch 30, Loss: 0.9566013813018799, Accuracy: 0.8745387453874539\n",
      "Training Loss: 0.9128941893577576\n",
      "GAT Epoch 31, Loss: 0.9128941893577576, Accuracy: 0.8690036900369004\n",
      "Training Loss: 0.8925879597663879\n",
      "GAT Epoch 32, Loss: 0.8925879597663879, Accuracy: 0.8708487084870848\n",
      "Training Loss: 0.8833175897598267\n",
      "GAT Epoch 33, Loss: 0.8833175897598267, Accuracy: 0.8800738007380073\n",
      "Training Loss: 0.8676416873931885\n",
      "GAT Epoch 34, Loss: 0.8676416873931885, Accuracy: 0.8708487084870848\n",
      "Training Loss: 0.8697710037231445\n",
      "GAT Epoch 35, Loss: 0.8697710037231445, Accuracy: 0.8763837638376384\n",
      "Training Loss: 0.8065468668937683\n",
      "GAT Epoch 36, Loss: 0.8065468668937683, Accuracy: 0.8782287822878229\n",
      "Training Loss: 0.8352085947990417\n",
      "GAT Epoch 37, Loss: 0.8352085947990417, Accuracy: 0.8763837638376384\n",
      "Training Loss: 0.8798472285270691\n",
      "GAT Epoch 38, Loss: 0.8798472285270691, Accuracy: 0.8800738007380073\n",
      "Training Loss: 0.8667367696762085\n",
      "GAT Epoch 39, Loss: 0.8667367696762085, Accuracy: 0.8819188191881919\n",
      "Training Loss: 0.834496021270752\n",
      "GAT Epoch 40, Loss: 0.834496021270752, Accuracy: 0.8837638376383764\n",
      "Training Loss: 0.8524734377861023\n",
      "GAT Epoch 41, Loss: 0.8524734377861023, Accuracy: 0.8874538745387454\n",
      "Training Loss: 0.8120426535606384\n",
      "GAT Epoch 42, Loss: 0.8120426535606384, Accuracy: 0.8874538745387454\n",
      "Training Loss: 0.8037408590316772\n",
      "GAT Epoch 43, Loss: 0.8037408590316772, Accuracy: 0.8874538745387454\n",
      "Training Loss: 0.8507927060127258\n",
      "GAT Epoch 44, Loss: 0.8507927060127258, Accuracy: 0.8874538745387454\n",
      "Training Loss: 0.8388813734054565\n",
      "GAT Epoch 45, Loss: 0.8388813734054565, Accuracy: 0.8874538745387454\n",
      "Training Loss: 0.8458091020584106\n",
      "GAT Epoch 46, Loss: 0.8458091020584106, Accuracy: 0.8874538745387454\n",
      "Training Loss: 0.814413845539093\n",
      "GAT Epoch 47, Loss: 0.814413845539093, Accuracy: 0.8837638376383764\n",
      "Training Loss: 0.8620191216468811\n",
      "GAT Epoch 48, Loss: 0.8620191216468811, Accuracy: 0.8837638376383764\n",
      "Training Loss: 0.8535327315330505\n",
      "GAT Epoch 49, Loss: 0.8535327315330505, Accuracy: 0.8874538745387454\n",
      "Training Loss: 0.8568901419639587\n",
      "GAT Epoch 50, Loss: 0.8568901419639587, Accuracy: 0.8874538745387454\n",
      "Training Loss: 0.8201623558998108\n",
      "GAT Epoch 51, Loss: 0.8201623558998108, Accuracy: 0.8874538745387454\n",
      "Training Loss: 0.8097183108329773\n",
      "GAT Epoch 52, Loss: 0.8097183108329773, Accuracy: 0.8874538745387454\n",
      "Training Loss: 0.8136407136917114\n",
      "GAT Epoch 53, Loss: 0.8136407136917114, Accuracy: 0.8874538745387454\n",
      "Training Loss: 0.8133442997932434\n",
      "GAT Epoch 54, Loss: 0.8133442997932434, Accuracy: 0.8874538745387454\n",
      "Training Loss: 0.8638176321983337\n",
      "GAT Epoch 55, Loss: 0.8638176321983337, Accuracy: 0.8874538745387454\n",
      "Training Loss: 0.8509352803230286\n",
      "GAT Epoch 56, Loss: 0.8509352803230286, Accuracy: 0.8874538745387454\n",
      "Training Loss: 0.827325165271759\n",
      "GAT Epoch 57, Loss: 0.827325165271759, Accuracy: 0.8874538745387454\n",
      "Training Loss: 0.8401046395301819\n",
      "GAT Epoch 58, Loss: 0.8401046395301819, Accuracy: 0.8874538745387454\n",
      "Training Loss: 0.8664711713790894\n",
      "GAT Epoch 59, Loss: 0.8664711713790894, Accuracy: 0.8874538745387454\n",
      "Training Loss: 0.8049721121788025\n",
      "GAT Epoch 60, Loss: 0.8049721121788025, Accuracy: 0.8874538745387454\n",
      "Training Loss: 0.8050594329833984\n",
      "GAT Epoch 61, Loss: 0.8050594329833984, Accuracy: 0.8874538745387454\n",
      "Training Loss: 0.8556941747665405\n",
      "GAT Epoch 62, Loss: 0.8556941747665405, Accuracy: 0.8874538745387454\n",
      "Training Loss: 0.8334735035896301\n",
      "GAT Epoch 63, Loss: 0.8334735035896301, Accuracy: 0.8874538745387454\n",
      "Training Loss: 0.8396551012992859\n",
      "GAT Epoch 64, Loss: 0.8396551012992859, Accuracy: 0.8874538745387454\n",
      "Training Loss: 0.8283119797706604\n",
      "GAT Epoch 65, Loss: 0.8283119797706604, Accuracy: 0.8874538745387454\n",
      "Training Loss: 0.8380730748176575\n",
      "GAT Epoch 66, Loss: 0.8380730748176575, Accuracy: 0.8874538745387454\n",
      "Training Loss: 0.8616421222686768\n",
      "GAT Epoch 67, Loss: 0.8616421222686768, Accuracy: 0.8874538745387454\n",
      "Training Loss: 0.8302040100097656\n",
      "GAT Epoch 68, Loss: 0.8302040100097656, Accuracy: 0.8874538745387454\n",
      "Training Loss: 0.8368048667907715\n",
      "GAT Epoch 69, Loss: 0.8368048667907715, Accuracy: 0.8874538745387454\n",
      "Training Loss: 0.8388893604278564\n",
      "GAT Epoch 70, Loss: 0.8388893604278564, Accuracy: 0.8874538745387454\n",
      "Training Loss: 0.8224496245384216\n",
      "GAT Epoch 71, Loss: 0.8224496245384216, Accuracy: 0.8874538745387454\n",
      "Training Loss: 0.8447546362876892\n",
      "GAT Epoch 72, Loss: 0.8447546362876892, Accuracy: 0.8874538745387454\n",
      "Training Loss: 0.7995293736457825\n",
      "GAT Epoch 73, Loss: 0.7995293736457825, Accuracy: 0.8874538745387454\n",
      "Training Loss: 0.8442187905311584\n",
      "GAT Epoch 74, Loss: 0.8442187905311584, Accuracy: 0.8874538745387454\n",
      "Training Loss: 0.8569760322570801\n",
      "GAT Epoch 75, Loss: 0.8569760322570801, Accuracy: 0.8874538745387454\n",
      "Training Loss: 0.7936497926712036\n",
      "GAT Epoch 76, Loss: 0.7936497926712036, Accuracy: 0.8874538745387454\n",
      "Training Loss: 0.8493084907531738\n",
      "GAT Epoch 77, Loss: 0.8493084907531738, Accuracy: 0.8874538745387454\n",
      "Training Loss: 0.8489529490470886\n",
      "GAT Epoch 78, Loss: 0.8489529490470886, Accuracy: 0.8874538745387454\n",
      "Training Loss: 0.8513193726539612\n",
      "GAT Epoch 79, Loss: 0.8513193726539612, Accuracy: 0.8874538745387454\n",
      "Training Loss: 0.8325147032737732\n",
      "GAT Epoch 80, Loss: 0.8325147032737732, Accuracy: 0.8874538745387454\n",
      "Training Loss: 0.8589662909507751\n",
      "GAT Epoch 81, Loss: 0.8589662909507751, Accuracy: 0.8874538745387454\n",
      "Training Loss: 0.862663984298706\n",
      "GAT Epoch 82, Loss: 0.862663984298706, Accuracy: 0.8874538745387454\n",
      "Training Loss: 0.8620952367782593\n",
      "GAT Epoch 83, Loss: 0.8620952367782593, Accuracy: 0.8874538745387454\n",
      "Training Loss: 0.8211244940757751\n",
      "GAT Epoch 84, Loss: 0.8211244940757751, Accuracy: 0.8874538745387454\n",
      "Training Loss: 0.8368101119995117\n",
      "GAT Epoch 85, Loss: 0.8368101119995117, Accuracy: 0.8874538745387454\n",
      "Training Loss: 0.8515955805778503\n",
      "GAT Epoch 86, Loss: 0.8515955805778503, Accuracy: 0.8874538745387454\n",
      "Training Loss: 0.8537145853042603\n",
      "GAT Epoch 87, Loss: 0.8537145853042603, Accuracy: 0.8874538745387454\n",
      "Training Loss: 0.83163982629776\n",
      "GAT Epoch 88, Loss: 0.83163982629776, Accuracy: 0.8874538745387454\n",
      "Training Loss: 0.8491144776344299\n",
      "GAT Epoch 89, Loss: 0.8491144776344299, Accuracy: 0.8874538745387454\n",
      "Training Loss: 0.840368390083313\n",
      "GAT Epoch 90, Loss: 0.840368390083313, Accuracy: 0.8874538745387454\n",
      "Training Loss: 0.8324681520462036\n",
      "GAT Epoch 91, Loss: 0.8324681520462036, Accuracy: 0.8874538745387454\n",
      "Training Loss: 0.8701964616775513\n",
      "GAT Epoch 92, Loss: 0.8701964616775513, Accuracy: 0.8874538745387454\n",
      "Training Loss: 0.8441858291625977\n",
      "GAT Epoch 93, Loss: 0.8441858291625977, Accuracy: 0.8874538745387454\n",
      "Training Loss: 0.8010819554328918\n",
      "GAT Epoch 94, Loss: 0.8010819554328918, Accuracy: 0.8874538745387454\n",
      "Training Loss: 0.8132326006889343\n",
      "GAT Epoch 95, Loss: 0.8132326006889343, Accuracy: 0.8874538745387454\n",
      "Training Loss: 0.8403276801109314\n",
      "GAT Epoch 96, Loss: 0.8403276801109314, Accuracy: 0.8874538745387454\n",
      "Training Loss: 0.8375130891799927\n",
      "GAT Epoch 97, Loss: 0.8375130891799927, Accuracy: 0.8874538745387454\n",
      "Training Loss: 0.8199445009231567\n",
      "GAT Epoch 98, Loss: 0.8199445009231567, Accuracy: 0.8874538745387454\n",
      "Training Loss: 0.8564253449440002\n",
      "GAT Epoch 99, Loss: 0.8564253449440002, Accuracy: 0.8874538745387454\n",
      "Training Loss: 0.8194966912269592\n",
      "GAT Epoch 100, Loss: 0.8194966912269592, Accuracy: 0.8874538745387454\n",
      "Training Loss: 0.8401861190795898\n",
      "GAT Epoch 101, Loss: 0.8401861190795898, Accuracy: 0.8874538745387454\n",
      "Training Loss: 0.8501954674720764\n",
      "GAT Epoch 102, Loss: 0.8501954674720764, Accuracy: 0.8874538745387454\n",
      "Training Loss: 0.8328083753585815\n",
      "GAT Epoch 103, Loss: 0.8328083753585815, Accuracy: 0.8874538745387454\n",
      "Training Loss: 0.7963472604751587\n",
      "GAT Epoch 104, Loss: 0.7963472604751587, Accuracy: 0.8874538745387454\n",
      "Training Loss: 0.8358808755874634\n",
      "GAT Epoch 105, Loss: 0.8358808755874634, Accuracy: 0.8874538745387454\n",
      "Training Loss: 0.8649081587791443\n",
      "GAT Epoch 106, Loss: 0.8649081587791443, Accuracy: 0.8874538745387454\n",
      "Training Loss: 0.8464349508285522\n",
      "GAT Epoch 107, Loss: 0.8464349508285522, Accuracy: 0.8874538745387454\n",
      "Training Loss: 0.8451667428016663\n",
      "GAT Epoch 108, Loss: 0.8451667428016663, Accuracy: 0.8874538745387454\n",
      "Training Loss: 0.8306816816329956\n",
      "GAT Epoch 109, Loss: 0.8306816816329956, Accuracy: 0.8874538745387454\n",
      "Training Loss: 0.8576393723487854\n",
      "GAT Epoch 110, Loss: 0.8576393723487854, Accuracy: 0.8874538745387454\n",
      "Training Loss: 0.8177376985549927\n",
      "GAT Epoch 111, Loss: 0.8177376985549927, Accuracy: 0.8874538745387454\n",
      "Training Loss: 0.8472029566764832\n",
      "GAT Epoch 112, Loss: 0.8472029566764832, Accuracy: 0.8874538745387454\n",
      "Training Loss: 0.8505862355232239\n",
      "GAT Epoch 113, Loss: 0.8505862355232239, Accuracy: 0.8874538745387454\n",
      "Training Loss: 0.84256911277771\n",
      "GAT Epoch 114, Loss: 0.84256911277771, Accuracy: 0.8874538745387454\n",
      "Training Loss: 0.8022423982620239\n",
      "GAT Epoch 115, Loss: 0.8022423982620239, Accuracy: 0.8874538745387454\n",
      "Training Loss: 0.8340317010879517\n",
      "GAT Epoch 116, Loss: 0.8340317010879517, Accuracy: 0.8874538745387454\n",
      "Training Loss: 0.8792243003845215\n",
      "GAT Epoch 117, Loss: 0.8792243003845215, Accuracy: 0.8874538745387454\n",
      "Training Loss: 0.8413128852844238\n",
      "GAT Epoch 118, Loss: 0.8413128852844238, Accuracy: 0.8874538745387454\n",
      "Training Loss: 0.8091707825660706\n",
      "GAT Epoch 119, Loss: 0.8091707825660706, Accuracy: 0.8874538745387454\n",
      "Training Loss: 0.8370352983474731\n",
      "GAT Epoch 120, Loss: 0.8370352983474731, Accuracy: 0.8874538745387454\n",
      "Training Loss: 0.8339911103248596\n",
      "GAT Epoch 121, Loss: 0.8339911103248596, Accuracy: 0.8874538745387454\n",
      "Training Loss: 0.813763439655304\n",
      "GAT Epoch 122, Loss: 0.813763439655304, Accuracy: 0.8874538745387454\n",
      "Training Loss: 0.8512272834777832\n",
      "GAT Epoch 123, Loss: 0.8512272834777832, Accuracy: 0.8874538745387454\n",
      "Training Loss: 0.8393751382827759\n",
      "GAT Epoch 124, Loss: 0.8393751382827759, Accuracy: 0.8874538745387454\n",
      "Training Loss: 0.8289949893951416\n",
      "GAT Epoch 125, Loss: 0.8289949893951416, Accuracy: 0.8874538745387454\n",
      "Training Loss: 0.7821358442306519\n",
      "GAT Epoch 126, Loss: 0.7821358442306519, Accuracy: 0.8874538745387454\n",
      "Training Loss: 0.8109222054481506\n",
      "GAT Epoch 127, Loss: 0.8109222054481506, Accuracy: 0.8874538745387454\n",
      "Training Loss: 0.8114109039306641\n",
      "GAT Epoch 128, Loss: 0.8114109039306641, Accuracy: 0.8874538745387454\n",
      "Training Loss: 0.84317946434021\n",
      "GAT Epoch 129, Loss: 0.84317946434021, Accuracy: 0.8874538745387454\n",
      "Training Loss: 0.8507359027862549\n",
      "GAT Epoch 130, Loss: 0.8507359027862549, Accuracy: 0.8874538745387454\n",
      "Training Loss: 0.8303472399711609\n",
      "GAT Epoch 131, Loss: 0.8303472399711609, Accuracy: 0.8874538745387454\n",
      "Training Loss: 0.8545050621032715\n",
      "GAT Epoch 132, Loss: 0.8545050621032715, Accuracy: 0.8874538745387454\n",
      "Training Loss: 0.8380143046379089\n",
      "GAT Epoch 133, Loss: 0.8380143046379089, Accuracy: 0.8874538745387454\n",
      "Training Loss: 0.8307598233222961\n",
      "GAT Epoch 134, Loss: 0.8307598233222961, Accuracy: 0.8874538745387454\n",
      "Training Loss: 0.8370035290718079\n",
      "GAT Epoch 135, Loss: 0.8370035290718079, Accuracy: 0.8874538745387454\n",
      "Training Loss: 0.8400784730911255\n",
      "GAT Epoch 136, Loss: 0.8400784730911255, Accuracy: 0.8874538745387454\n",
      "Training Loss: 0.8041470050811768\n",
      "GAT Epoch 137, Loss: 0.8041470050811768, Accuracy: 0.8874538745387454\n",
      "Training Loss: 0.8317852020263672\n",
      "GAT Epoch 138, Loss: 0.8317852020263672, Accuracy: 0.8874538745387454\n",
      "Training Loss: 0.8363596200942993\n",
      "GAT Epoch 139, Loss: 0.8363596200942993, Accuracy: 0.8874538745387454\n",
      "Training Loss: 0.8048882484436035\n",
      "GAT Epoch 140, Loss: 0.8048882484436035, Accuracy: 0.8874538745387454\n",
      "Training Loss: 0.8347207307815552\n",
      "GAT Epoch 141, Loss: 0.8347207307815552, Accuracy: 0.8874538745387454\n",
      "Training Loss: 0.8080194592475891\n",
      "GAT Epoch 142, Loss: 0.8080194592475891, Accuracy: 0.8874538745387454\n",
      "Training Loss: 0.8281968235969543\n",
      "GAT Epoch 143, Loss: 0.8281968235969543, Accuracy: 0.8874538745387454\n",
      "Training Loss: 0.8251768350601196\n",
      "GAT Epoch 144, Loss: 0.8251768350601196, Accuracy: 0.8874538745387454\n",
      "Training Loss: 0.8205218315124512\n",
      "GAT Epoch 145, Loss: 0.8205218315124512, Accuracy: 0.8874538745387454\n",
      "Training Loss: 0.8459224700927734\n",
      "GAT Epoch 146, Loss: 0.8459224700927734, Accuracy: 0.8874538745387454\n",
      "Training Loss: 0.8401966691017151\n",
      "GAT Epoch 147, Loss: 0.8401966691017151, Accuracy: 0.8874538745387454\n",
      "Training Loss: 0.8384022116661072\n",
      "GAT Epoch 148, Loss: 0.8384022116661072, Accuracy: 0.8874538745387454\n",
      "Training Loss: 0.8183543682098389\n",
      "GAT Epoch 149, Loss: 0.8183543682098389, Accuracy: 0.8874538745387454\n",
      "Training Loss: 0.8441734910011292\n",
      "GAT Epoch 150, Loss: 0.8441734910011292, Accuracy: 0.8874538745387454\n",
      "Training Loss: 0.846230685710907\n",
      "GAT Epoch 151, Loss: 0.846230685710907, Accuracy: 0.8874538745387454\n",
      "Training Loss: 0.816879391670227\n",
      "GAT Epoch 152, Loss: 0.816879391670227, Accuracy: 0.8874538745387454\n",
      "Training Loss: 0.8431841135025024\n",
      "GAT Epoch 153, Loss: 0.8431841135025024, Accuracy: 0.8874538745387454\n",
      "Training Loss: 0.8331831693649292\n",
      "GAT Epoch 154, Loss: 0.8331831693649292, Accuracy: 0.8874538745387454\n",
      "Training Loss: 0.8343625068664551\n",
      "GAT Epoch 155, Loss: 0.8343625068664551, Accuracy: 0.8874538745387454\n",
      "Training Loss: 0.8657826781272888\n",
      "GAT Epoch 156, Loss: 0.8657826781272888, Accuracy: 0.8874538745387454\n",
      "Training Loss: 0.8185417652130127\n",
      "GAT Epoch 157, Loss: 0.8185417652130127, Accuracy: 0.8874538745387454\n",
      "Training Loss: 0.8422731161117554\n",
      "GAT Epoch 158, Loss: 0.8422731161117554, Accuracy: 0.8874538745387454\n",
      "Training Loss: 0.8396834135055542\n",
      "GAT Epoch 159, Loss: 0.8396834135055542, Accuracy: 0.8874538745387454\n",
      "Training Loss: 0.8129680156707764\n",
      "GAT Epoch 160, Loss: 0.8129680156707764, Accuracy: 0.8874538745387454\n",
      "Training Loss: 0.833379864692688\n",
      "GAT Epoch 161, Loss: 0.833379864692688, Accuracy: 0.8874538745387454\n",
      "Training Loss: 0.8248035311698914\n",
      "GAT Epoch 162, Loss: 0.8248035311698914, Accuracy: 0.8874538745387454\n",
      "Training Loss: 0.8441553711891174\n",
      "GAT Epoch 163, Loss: 0.8441553711891174, Accuracy: 0.8874538745387454\n",
      "Training Loss: 0.8181437253952026\n",
      "GAT Epoch 164, Loss: 0.8181437253952026, Accuracy: 0.8874538745387454\n",
      "Training Loss: 0.8311571478843689\n",
      "GAT Epoch 165, Loss: 0.8311571478843689, Accuracy: 0.8874538745387454\n",
      "Training Loss: 0.8237157464027405\n",
      "GAT Epoch 166, Loss: 0.8237157464027405, Accuracy: 0.8874538745387454\n",
      "Training Loss: 0.8620569109916687\n",
      "GAT Epoch 167, Loss: 0.8620569109916687, Accuracy: 0.8874538745387454\n",
      "Training Loss: 0.8582682609558105\n",
      "GAT Epoch 168, Loss: 0.8582682609558105, Accuracy: 0.8874538745387454\n",
      "Training Loss: 0.849144458770752\n",
      "GAT Epoch 169, Loss: 0.849144458770752, Accuracy: 0.8874538745387454\n",
      "Training Loss: 0.8322389721870422\n",
      "GAT Epoch 170, Loss: 0.8322389721870422, Accuracy: 0.8874538745387454\n",
      "Training Loss: 0.8288173079490662\n",
      "GAT Epoch 171, Loss: 0.8288173079490662, Accuracy: 0.8874538745387454\n",
      "Training Loss: 0.8314078450202942\n",
      "GAT Epoch 172, Loss: 0.8314078450202942, Accuracy: 0.8874538745387454\n",
      "Training Loss: 0.8495631217956543\n",
      "GAT Epoch 173, Loss: 0.8495631217956543, Accuracy: 0.8874538745387454\n",
      "Training Loss: 0.8196262717247009\n",
      "GAT Epoch 174, Loss: 0.8196262717247009, Accuracy: 0.8874538745387454\n",
      "Training Loss: 0.8113219738006592\n",
      "GAT Epoch 175, Loss: 0.8113219738006592, Accuracy: 0.8874538745387454\n",
      "Training Loss: 0.8351355791091919\n",
      "GAT Epoch 176, Loss: 0.8351355791091919, Accuracy: 0.8874538745387454\n",
      "Training Loss: 0.8233798742294312\n",
      "GAT Epoch 177, Loss: 0.8233798742294312, Accuracy: 0.8874538745387454\n",
      "Training Loss: 0.85542893409729\n",
      "GAT Epoch 178, Loss: 0.85542893409729, Accuracy: 0.8874538745387454\n",
      "Training Loss: 0.8509465456008911\n",
      "GAT Epoch 179, Loss: 0.8509465456008911, Accuracy: 0.8874538745387454\n",
      "Training Loss: 0.845918595790863\n",
      "GAT Epoch 180, Loss: 0.845918595790863, Accuracy: 0.8874538745387454\n",
      "Training Loss: 0.8533627390861511\n",
      "GAT Epoch 181, Loss: 0.8533627390861511, Accuracy: 0.8874538745387454\n",
      "Training Loss: 0.8214169144630432\n",
      "GAT Epoch 182, Loss: 0.8214169144630432, Accuracy: 0.8874538745387454\n",
      "Training Loss: 0.8140648603439331\n",
      "GAT Epoch 183, Loss: 0.8140648603439331, Accuracy: 0.8874538745387454\n",
      "Training Loss: 0.8560904264450073\n",
      "GAT Epoch 184, Loss: 0.8560904264450073, Accuracy: 0.8874538745387454\n",
      "Training Loss: 0.8451244831085205\n",
      "GAT Epoch 185, Loss: 0.8451244831085205, Accuracy: 0.8874538745387454\n",
      "Training Loss: 0.8451881408691406\n",
      "GAT Epoch 186, Loss: 0.8451881408691406, Accuracy: 0.8874538745387454\n",
      "Training Loss: 0.8199852705001831\n",
      "GAT Epoch 187, Loss: 0.8199852705001831, Accuracy: 0.8874538745387454\n",
      "Training Loss: 0.8368955850601196\n",
      "GAT Epoch 188, Loss: 0.8368955850601196, Accuracy: 0.8874538745387454\n",
      "Training Loss: 0.8244624733924866\n",
      "GAT Epoch 189, Loss: 0.8244624733924866, Accuracy: 0.8874538745387454\n",
      "Training Loss: 0.8311038017272949\n",
      "GAT Epoch 190, Loss: 0.8311038017272949, Accuracy: 0.8874538745387454\n",
      "Training Loss: 0.8417065739631653\n",
      "GAT Epoch 191, Loss: 0.8417065739631653, Accuracy: 0.8874538745387454\n",
      "Training Loss: 0.8047736883163452\n",
      "GAT Epoch 192, Loss: 0.8047736883163452, Accuracy: 0.8874538745387454\n",
      "Training Loss: 0.8438705801963806\n",
      "GAT Epoch 193, Loss: 0.8438705801963806, Accuracy: 0.8874538745387454\n",
      "Training Loss: 0.8199167847633362\n",
      "GAT Epoch 194, Loss: 0.8199167847633362, Accuracy: 0.8874538745387454\n",
      "Training Loss: 0.8265253305435181\n",
      "GAT Epoch 195, Loss: 0.8265253305435181, Accuracy: 0.8874538745387454\n",
      "Training Loss: 0.8293934464454651\n",
      "GAT Epoch 196, Loss: 0.8293934464454651, Accuracy: 0.8874538745387454\n",
      "Training Loss: 0.8561294078826904\n",
      "GAT Epoch 197, Loss: 0.8561294078826904, Accuracy: 0.8874538745387454\n",
      "Training Loss: 0.8174495100975037\n",
      "GAT Epoch 198, Loss: 0.8174495100975037, Accuracy: 0.8874538745387454\n",
      "Training Loss: 0.8089189529418945\n",
      "GAT Epoch 199, Loss: 0.8089189529418945, Accuracy: 0.8874538745387454\n",
      "Training Loss: 1.9455918073654175\n",
      "GCN Epoch 0, Loss: 1.9455918073654175, Accuracy: 0.3173431734317343\n",
      "Training Loss: 1.9330856800079346\n",
      "GCN Epoch 1, Loss: 1.9330856800079346, Accuracy: 0.3173431734317343\n",
      "Training Loss: 1.9205578565597534\n",
      "GCN Epoch 2, Loss: 1.9205578565597534, Accuracy: 0.3173431734317343\n",
      "Training Loss: 1.9070578813552856\n",
      "GCN Epoch 3, Loss: 1.9070578813552856, Accuracy: 0.3173431734317343\n",
      "Training Loss: 1.8930988311767578\n",
      "GCN Epoch 4, Loss: 1.8930988311767578, Accuracy: 0.3173431734317343\n",
      "Training Loss: 1.8799229860305786\n",
      "GCN Epoch 5, Loss: 1.8799229860305786, Accuracy: 0.3173431734317343\n",
      "Training Loss: 1.8655884265899658\n",
      "GCN Epoch 6, Loss: 1.8655884265899658, Accuracy: 0.3173431734317343\n",
      "Training Loss: 1.8523640632629395\n",
      "GCN Epoch 7, Loss: 1.8523640632629395, Accuracy: 0.3173431734317343\n",
      "Training Loss: 1.8409274816513062\n",
      "GCN Epoch 8, Loss: 1.8409274816513062, Accuracy: 0.3173431734317343\n",
      "Training Loss: 1.8279772996902466\n",
      "GCN Epoch 9, Loss: 1.8279772996902466, Accuracy: 0.3173431734317343\n",
      "Training Loss: 1.8193186521530151\n",
      "GCN Epoch 10, Loss: 1.8193186521530151, Accuracy: 0.3173431734317343\n",
      "Training Loss: 1.8056135177612305\n",
      "GCN Epoch 11, Loss: 1.8056135177612305, Accuracy: 0.3173431734317343\n",
      "Training Loss: 1.7972599267959595\n",
      "GCN Epoch 12, Loss: 1.7972599267959595, Accuracy: 0.3173431734317343\n"
     ]
    },
    {
     "name": "stderr",
     "output_type": "stream",
     "text": [
      "/Users/visheshyadav/anaconda3/lib/python3.11/site-packages/sklearn/metrics/_classification.py:1531: UndefinedMetricWarning:\n",
      "\n",
      "Precision is ill-defined and being set to 0.0 in labels with no predicted samples. Use `zero_division` parameter to control this behavior.\n",
      "\n",
      "/var/folders/yf/20z1hn994jd04q4kl0gpgh740000gn/T/ipykernel_88315/4155612595.py:129: RuntimeWarning:\n",
      "\n",
      "invalid value encountered in divide\n",
      "\n",
      "/Users/visheshyadav/anaconda3/lib/python3.11/site-packages/sklearn/metrics/_classification.py:1531: UndefinedMetricWarning:\n",
      "\n",
      "Precision is ill-defined and being set to 0.0 in labels with no predicted samples. Use `zero_division` parameter to control this behavior.\n",
      "\n",
      "/var/folders/yf/20z1hn994jd04q4kl0gpgh740000gn/T/ipykernel_88315/4155612595.py:129: RuntimeWarning:\n",
      "\n",
      "invalid value encountered in divide\n",
      "\n",
      "/Users/visheshyadav/anaconda3/lib/python3.11/site-packages/sklearn/metrics/_classification.py:1531: UndefinedMetricWarning:\n",
      "\n",
      "Precision is ill-defined and being set to 0.0 in labels with no predicted samples. Use `zero_division` parameter to control this behavior.\n",
      "\n",
      "/var/folders/yf/20z1hn994jd04q4kl0gpgh740000gn/T/ipykernel_88315/4155612595.py:129: RuntimeWarning:\n",
      "\n",
      "invalid value encountered in divide\n",
      "\n",
      "/Users/visheshyadav/anaconda3/lib/python3.11/site-packages/sklearn/metrics/_classification.py:1531: UndefinedMetricWarning:\n",
      "\n",
      "Precision is ill-defined and being set to 0.0 in labels with no predicted samples. Use `zero_division` parameter to control this behavior.\n",
      "\n",
      "/var/folders/yf/20z1hn994jd04q4kl0gpgh740000gn/T/ipykernel_88315/4155612595.py:129: RuntimeWarning:\n",
      "\n",
      "invalid value encountered in divide\n",
      "\n",
      "/Users/visheshyadav/anaconda3/lib/python3.11/site-packages/sklearn/metrics/_classification.py:1531: UndefinedMetricWarning:\n",
      "\n",
      "Precision is ill-defined and being set to 0.0 in labels with no predicted samples. Use `zero_division` parameter to control this behavior.\n",
      "\n",
      "/var/folders/yf/20z1hn994jd04q4kl0gpgh740000gn/T/ipykernel_88315/4155612595.py:129: RuntimeWarning:\n",
      "\n",
      "invalid value encountered in divide\n",
      "\n",
      "/Users/visheshyadav/anaconda3/lib/python3.11/site-packages/sklearn/metrics/_classification.py:1531: UndefinedMetricWarning:\n",
      "\n",
      "Precision is ill-defined and being set to 0.0 in labels with no predicted samples. Use `zero_division` parameter to control this behavior.\n",
      "\n",
      "/var/folders/yf/20z1hn994jd04q4kl0gpgh740000gn/T/ipykernel_88315/4155612595.py:129: RuntimeWarning:\n",
      "\n",
      "invalid value encountered in divide\n",
      "\n",
      "/Users/visheshyadav/anaconda3/lib/python3.11/site-packages/sklearn/metrics/_classification.py:1531: UndefinedMetricWarning:\n",
      "\n",
      "Precision is ill-defined and being set to 0.0 in labels with no predicted samples. Use `zero_division` parameter to control this behavior.\n",
      "\n",
      "/var/folders/yf/20z1hn994jd04q4kl0gpgh740000gn/T/ipykernel_88315/4155612595.py:129: RuntimeWarning:\n",
      "\n",
      "invalid value encountered in divide\n",
      "\n",
      "/Users/visheshyadav/anaconda3/lib/python3.11/site-packages/sklearn/metrics/_classification.py:1531: UndefinedMetricWarning:\n",
      "\n",
      "Precision is ill-defined and being set to 0.0 in labels with no predicted samples. Use `zero_division` parameter to control this behavior.\n",
      "\n",
      "/var/folders/yf/20z1hn994jd04q4kl0gpgh740000gn/T/ipykernel_88315/4155612595.py:129: RuntimeWarning:\n",
      "\n",
      "invalid value encountered in divide\n",
      "\n",
      "/Users/visheshyadav/anaconda3/lib/python3.11/site-packages/sklearn/metrics/_classification.py:1531: UndefinedMetricWarning:\n",
      "\n",
      "Precision is ill-defined and being set to 0.0 in labels with no predicted samples. Use `zero_division` parameter to control this behavior.\n",
      "\n",
      "/var/folders/yf/20z1hn994jd04q4kl0gpgh740000gn/T/ipykernel_88315/4155612595.py:129: RuntimeWarning:\n",
      "\n",
      "invalid value encountered in divide\n",
      "\n",
      "/Users/visheshyadav/anaconda3/lib/python3.11/site-packages/sklearn/metrics/_classification.py:1531: UndefinedMetricWarning:\n",
      "\n",
      "Precision is ill-defined and being set to 0.0 in labels with no predicted samples. Use `zero_division` parameter to control this behavior.\n",
      "\n",
      "/var/folders/yf/20z1hn994jd04q4kl0gpgh740000gn/T/ipykernel_88315/4155612595.py:129: RuntimeWarning:\n",
      "\n",
      "invalid value encountered in divide\n",
      "\n",
      "/Users/visheshyadav/anaconda3/lib/python3.11/site-packages/sklearn/metrics/_classification.py:1531: UndefinedMetricWarning:\n",
      "\n",
      "Precision is ill-defined and being set to 0.0 in labels with no predicted samples. Use `zero_division` parameter to control this behavior.\n",
      "\n",
      "/var/folders/yf/20z1hn994jd04q4kl0gpgh740000gn/T/ipykernel_88315/4155612595.py:129: RuntimeWarning:\n",
      "\n",
      "invalid value encountered in divide\n",
      "\n",
      "/Users/visheshyadav/anaconda3/lib/python3.11/site-packages/sklearn/metrics/_classification.py:1531: UndefinedMetricWarning:\n",
      "\n",
      "Precision is ill-defined and being set to 0.0 in labels with no predicted samples. Use `zero_division` parameter to control this behavior.\n",
      "\n",
      "/var/folders/yf/20z1hn994jd04q4kl0gpgh740000gn/T/ipykernel_88315/4155612595.py:129: RuntimeWarning:\n",
      "\n",
      "invalid value encountered in divide\n",
      "\n",
      "/Users/visheshyadav/anaconda3/lib/python3.11/site-packages/sklearn/metrics/_classification.py:1531: UndefinedMetricWarning:\n",
      "\n",
      "Precision is ill-defined and being set to 0.0 in labels with no predicted samples. Use `zero_division` parameter to control this behavior.\n",
      "\n",
      "/var/folders/yf/20z1hn994jd04q4kl0gpgh740000gn/T/ipykernel_88315/4155612595.py:129: RuntimeWarning:\n",
      "\n",
      "invalid value encountered in divide\n",
      "\n"
     ]
    },
    {
     "name": "stdout",
     "output_type": "stream",
     "text": [
      "Training Loss: 1.782051920890808\n",
      "GCN Epoch 13, Loss: 1.782051920890808, Accuracy: 0.3173431734317343\n",
      "Training Loss: 1.770574688911438\n",
      "GCN Epoch 14, Loss: 1.770574688911438, Accuracy: 0.3173431734317343\n",
      "Training Loss: 1.7670050859451294\n",
      "GCN Epoch 15, Loss: 1.7670050859451294, Accuracy: 0.3173431734317343\n",
      "Training Loss: 1.7564506530761719\n",
      "GCN Epoch 16, Loss: 1.7564506530761719, Accuracy: 0.3173431734317343\n",
      "Training Loss: 1.7433429956436157\n",
      "GCN Epoch 17, Loss: 1.7433429956436157, Accuracy: 0.3173431734317343\n",
      "Training Loss: 1.741274356842041\n",
      "GCN Epoch 18, Loss: 1.741274356842041, Accuracy: 0.3173431734317343\n",
      "Training Loss: 1.73518705368042\n",
      "GCN Epoch 19, Loss: 1.73518705368042, Accuracy: 0.3173431734317343\n",
      "Training Loss: 1.7269246578216553\n",
      "GCN Epoch 20, Loss: 1.7269246578216553, Accuracy: 0.3173431734317343\n",
      "Training Loss: 1.7111964225769043\n",
      "GCN Epoch 21, Loss: 1.7111964225769043, Accuracy: 0.3173431734317343\n",
      "Training Loss: 1.6993790864944458\n",
      "GCN Epoch 22, Loss: 1.6993790864944458, Accuracy: 0.3191881918819188\n",
      "Training Loss: 1.69870126247406\n",
      "GCN Epoch 23, Loss: 1.69870126247406, Accuracy: 0.3210332103321033\n",
      "Training Loss: 1.6771433353424072\n",
      "GCN Epoch 24, Loss: 1.6771433353424072, Accuracy: 0.3210332103321033\n",
      "Training Loss: 1.673660159111023\n",
      "GCN Epoch 25, Loss: 1.673660159111023, Accuracy: 0.3210332103321033\n"
     ]
    },
    {
     "name": "stderr",
     "output_type": "stream",
     "text": [
      "/Users/visheshyadav/anaconda3/lib/python3.11/site-packages/sklearn/metrics/_classification.py:1531: UndefinedMetricWarning:\n",
      "\n",
      "Precision is ill-defined and being set to 0.0 in labels with no predicted samples. Use `zero_division` parameter to control this behavior.\n",
      "\n",
      "/var/folders/yf/20z1hn994jd04q4kl0gpgh740000gn/T/ipykernel_88315/4155612595.py:129: RuntimeWarning:\n",
      "\n",
      "invalid value encountered in divide\n",
      "\n",
      "/Users/visheshyadav/anaconda3/lib/python3.11/site-packages/sklearn/metrics/_classification.py:1531: UndefinedMetricWarning:\n",
      "\n",
      "Precision is ill-defined and being set to 0.0 in labels with no predicted samples. Use `zero_division` parameter to control this behavior.\n",
      "\n",
      "/var/folders/yf/20z1hn994jd04q4kl0gpgh740000gn/T/ipykernel_88315/4155612595.py:129: RuntimeWarning:\n",
      "\n",
      "invalid value encountered in divide\n",
      "\n",
      "/Users/visheshyadav/anaconda3/lib/python3.11/site-packages/sklearn/metrics/_classification.py:1531: UndefinedMetricWarning:\n",
      "\n",
      "Precision is ill-defined and being set to 0.0 in labels with no predicted samples. Use `zero_division` parameter to control this behavior.\n",
      "\n",
      "/var/folders/yf/20z1hn994jd04q4kl0gpgh740000gn/T/ipykernel_88315/4155612595.py:129: RuntimeWarning:\n",
      "\n",
      "invalid value encountered in divide\n",
      "\n",
      "/Users/visheshyadav/anaconda3/lib/python3.11/site-packages/sklearn/metrics/_classification.py:1531: UndefinedMetricWarning:\n",
      "\n",
      "Precision is ill-defined and being set to 0.0 in labels with no predicted samples. Use `zero_division` parameter to control this behavior.\n",
      "\n",
      "/var/folders/yf/20z1hn994jd04q4kl0gpgh740000gn/T/ipykernel_88315/4155612595.py:129: RuntimeWarning:\n",
      "\n",
      "invalid value encountered in divide\n",
      "\n",
      "/Users/visheshyadav/anaconda3/lib/python3.11/site-packages/sklearn/metrics/_classification.py:1531: UndefinedMetricWarning:\n",
      "\n",
      "Precision is ill-defined and being set to 0.0 in labels with no predicted samples. Use `zero_division` parameter to control this behavior.\n",
      "\n",
      "/var/folders/yf/20z1hn994jd04q4kl0gpgh740000gn/T/ipykernel_88315/4155612595.py:129: RuntimeWarning:\n",
      "\n",
      "invalid value encountered in divide\n",
      "\n",
      "/Users/visheshyadav/anaconda3/lib/python3.11/site-packages/sklearn/metrics/_classification.py:1531: UndefinedMetricWarning:\n",
      "\n",
      "Precision is ill-defined and being set to 0.0 in labels with no predicted samples. Use `zero_division` parameter to control this behavior.\n",
      "\n",
      "/var/folders/yf/20z1hn994jd04q4kl0gpgh740000gn/T/ipykernel_88315/4155612595.py:129: RuntimeWarning:\n",
      "\n",
      "invalid value encountered in divide\n",
      "\n",
      "/Users/visheshyadav/anaconda3/lib/python3.11/site-packages/sklearn/metrics/_classification.py:1531: UndefinedMetricWarning:\n",
      "\n",
      "Precision is ill-defined and being set to 0.0 in labels with no predicted samples. Use `zero_division` parameter to control this behavior.\n",
      "\n",
      "/var/folders/yf/20z1hn994jd04q4kl0gpgh740000gn/T/ipykernel_88315/4155612595.py:129: RuntimeWarning:\n",
      "\n",
      "invalid value encountered in divide\n",
      "\n",
      "/Users/visheshyadav/anaconda3/lib/python3.11/site-packages/sklearn/metrics/_classification.py:1531: UndefinedMetricWarning:\n",
      "\n",
      "Precision is ill-defined and being set to 0.0 in labels with no predicted samples. Use `zero_division` parameter to control this behavior.\n",
      "\n",
      "/var/folders/yf/20z1hn994jd04q4kl0gpgh740000gn/T/ipykernel_88315/4155612595.py:129: RuntimeWarning:\n",
      "\n",
      "invalid value encountered in divide\n",
      "\n",
      "/Users/visheshyadav/anaconda3/lib/python3.11/site-packages/sklearn/metrics/_classification.py:1531: UndefinedMetricWarning:\n",
      "\n",
      "Precision is ill-defined and being set to 0.0 in labels with no predicted samples. Use `zero_division` parameter to control this behavior.\n",
      "\n",
      "/var/folders/yf/20z1hn994jd04q4kl0gpgh740000gn/T/ipykernel_88315/4155612595.py:129: RuntimeWarning:\n",
      "\n",
      "invalid value encountered in divide\n",
      "\n",
      "/Users/visheshyadav/anaconda3/lib/python3.11/site-packages/sklearn/metrics/_classification.py:1531: UndefinedMetricWarning:\n",
      "\n",
      "Precision is ill-defined and being set to 0.0 in labels with no predicted samples. Use `zero_division` parameter to control this behavior.\n",
      "\n",
      "/var/folders/yf/20z1hn994jd04q4kl0gpgh740000gn/T/ipykernel_88315/4155612595.py:129: RuntimeWarning:\n",
      "\n",
      "invalid value encountered in divide\n",
      "\n",
      "/Users/visheshyadav/anaconda3/lib/python3.11/site-packages/sklearn/metrics/_classification.py:1531: UndefinedMetricWarning:\n",
      "\n",
      "Precision is ill-defined and being set to 0.0 in labels with no predicted samples. Use `zero_division` parameter to control this behavior.\n",
      "\n",
      "/var/folders/yf/20z1hn994jd04q4kl0gpgh740000gn/T/ipykernel_88315/4155612595.py:129: RuntimeWarning:\n",
      "\n",
      "invalid value encountered in divide\n",
      "\n",
      "/Users/visheshyadav/anaconda3/lib/python3.11/site-packages/sklearn/metrics/_classification.py:1531: UndefinedMetricWarning:\n",
      "\n",
      "Precision is ill-defined and being set to 0.0 in labels with no predicted samples. Use `zero_division` parameter to control this behavior.\n",
      "\n",
      "/var/folders/yf/20z1hn994jd04q4kl0gpgh740000gn/T/ipykernel_88315/4155612595.py:129: RuntimeWarning:\n",
      "\n",
      "invalid value encountered in divide\n",
      "\n",
      "/Users/visheshyadav/anaconda3/lib/python3.11/site-packages/sklearn/metrics/_classification.py:1531: UndefinedMetricWarning:\n",
      "\n",
      "Precision is ill-defined and being set to 0.0 in labels with no predicted samples. Use `zero_division` parameter to control this behavior.\n",
      "\n",
      "/var/folders/yf/20z1hn994jd04q4kl0gpgh740000gn/T/ipykernel_88315/4155612595.py:129: RuntimeWarning:\n",
      "\n",
      "invalid value encountered in divide\n",
      "\n"
     ]
    },
    {
     "name": "stdout",
     "output_type": "stream",
     "text": [
      "Training Loss: 1.6652467250823975\n",
      "GCN Epoch 26, Loss: 1.6652467250823975, Accuracy: 0.3210332103321033\n",
      "Training Loss: 1.6540595293045044\n",
      "GCN Epoch 27, Loss: 1.6540595293045044, Accuracy: 0.3210332103321033\n",
      "Training Loss: 1.636468768119812\n",
      "GCN Epoch 28, Loss: 1.636468768119812, Accuracy: 0.3247232472324723\n",
      "Training Loss: 1.6363701820373535\n",
      "GCN Epoch 29, Loss: 1.6363701820373535, Accuracy: 0.3284132841328413\n",
      "Training Loss: 1.6236140727996826\n",
      "GCN Epoch 30, Loss: 1.6236140727996826, Accuracy: 0.33210332103321033\n",
      "Training Loss: 1.6117150783538818\n",
      "GCN Epoch 31, Loss: 1.6117150783538818, Accuracy: 0.33948339483394835\n",
      "Training Loss: 1.6055707931518555\n",
      "GCN Epoch 32, Loss: 1.6055707931518555, Accuracy: 0.34317343173431736\n",
      "Training Loss: 1.5838139057159424\n"
     ]
    },
    {
     "name": "stderr",
     "output_type": "stream",
     "text": [
      "/Users/visheshyadav/anaconda3/lib/python3.11/site-packages/sklearn/metrics/_classification.py:1531: UndefinedMetricWarning:\n",
      "\n",
      "Precision is ill-defined and being set to 0.0 in labels with no predicted samples. Use `zero_division` parameter to control this behavior.\n",
      "\n",
      "/var/folders/yf/20z1hn994jd04q4kl0gpgh740000gn/T/ipykernel_88315/4155612595.py:129: RuntimeWarning:\n",
      "\n",
      "invalid value encountered in divide\n",
      "\n",
      "/Users/visheshyadav/anaconda3/lib/python3.11/site-packages/sklearn/metrics/_classification.py:1531: UndefinedMetricWarning:\n",
      "\n",
      "Precision is ill-defined and being set to 0.0 in labels with no predicted samples. Use `zero_division` parameter to control this behavior.\n",
      "\n",
      "/var/folders/yf/20z1hn994jd04q4kl0gpgh740000gn/T/ipykernel_88315/4155612595.py:129: RuntimeWarning:\n",
      "\n",
      "invalid value encountered in divide\n",
      "\n",
      "/Users/visheshyadav/anaconda3/lib/python3.11/site-packages/sklearn/metrics/_classification.py:1531: UndefinedMetricWarning:\n",
      "\n",
      "Precision is ill-defined and being set to 0.0 in labels with no predicted samples. Use `zero_division` parameter to control this behavior.\n",
      "\n",
      "/var/folders/yf/20z1hn994jd04q4kl0gpgh740000gn/T/ipykernel_88315/4155612595.py:129: RuntimeWarning:\n",
      "\n",
      "invalid value encountered in divide\n",
      "\n",
      "/Users/visheshyadav/anaconda3/lib/python3.11/site-packages/sklearn/metrics/_classification.py:1531: UndefinedMetricWarning:\n",
      "\n",
      "Precision is ill-defined and being set to 0.0 in labels with no predicted samples. Use `zero_division` parameter to control this behavior.\n",
      "\n",
      "/var/folders/yf/20z1hn994jd04q4kl0gpgh740000gn/T/ipykernel_88315/4155612595.py:129: RuntimeWarning:\n",
      "\n",
      "invalid value encountered in divide\n",
      "\n",
      "/Users/visheshyadav/anaconda3/lib/python3.11/site-packages/sklearn/metrics/_classification.py:1531: UndefinedMetricWarning:\n",
      "\n",
      "Precision is ill-defined and being set to 0.0 in labels with no predicted samples. Use `zero_division` parameter to control this behavior.\n",
      "\n",
      "/var/folders/yf/20z1hn994jd04q4kl0gpgh740000gn/T/ipykernel_88315/4155612595.py:129: RuntimeWarning:\n",
      "\n",
      "invalid value encountered in divide\n",
      "\n",
      "/Users/visheshyadav/anaconda3/lib/python3.11/site-packages/sklearn/metrics/_classification.py:1531: UndefinedMetricWarning:\n",
      "\n",
      "Precision is ill-defined and being set to 0.0 in labels with no predicted samples. Use `zero_division` parameter to control this behavior.\n",
      "\n",
      "/var/folders/yf/20z1hn994jd04q4kl0gpgh740000gn/T/ipykernel_88315/4155612595.py:129: RuntimeWarning:\n",
      "\n",
      "invalid value encountered in divide\n",
      "\n",
      "/Users/visheshyadav/anaconda3/lib/python3.11/site-packages/sklearn/metrics/_classification.py:1531: UndefinedMetricWarning:\n",
      "\n",
      "Precision is ill-defined and being set to 0.0 in labels with no predicted samples. Use `zero_division` parameter to control this behavior.\n",
      "\n",
      "/var/folders/yf/20z1hn994jd04q4kl0gpgh740000gn/T/ipykernel_88315/4155612595.py:129: RuntimeWarning:\n",
      "\n",
      "invalid value encountered in divide\n",
      "\n",
      "/Users/visheshyadav/anaconda3/lib/python3.11/site-packages/sklearn/metrics/_classification.py:1531: UndefinedMetricWarning:\n",
      "\n",
      "Precision is ill-defined and being set to 0.0 in labels with no predicted samples. Use `zero_division` parameter to control this behavior.\n",
      "\n",
      "/var/folders/yf/20z1hn994jd04q4kl0gpgh740000gn/T/ipykernel_88315/4155612595.py:129: RuntimeWarning:\n",
      "\n",
      "invalid value encountered in divide\n",
      "\n",
      "/Users/visheshyadav/anaconda3/lib/python3.11/site-packages/sklearn/metrics/_classification.py:1531: UndefinedMetricWarning:\n",
      "\n",
      "Precision is ill-defined and being set to 0.0 in labels with no predicted samples. Use `zero_division` parameter to control this behavior.\n",
      "\n",
      "/var/folders/yf/20z1hn994jd04q4kl0gpgh740000gn/T/ipykernel_88315/4155612595.py:129: RuntimeWarning:\n",
      "\n",
      "invalid value encountered in divide\n",
      "\n",
      "/Users/visheshyadav/anaconda3/lib/python3.11/site-packages/sklearn/metrics/_classification.py:1531: UndefinedMetricWarning:\n",
      "\n",
      "Precision is ill-defined and being set to 0.0 in labels with no predicted samples. Use `zero_division` parameter to control this behavior.\n",
      "\n",
      "/var/folders/yf/20z1hn994jd04q4kl0gpgh740000gn/T/ipykernel_88315/4155612595.py:129: RuntimeWarning:\n",
      "\n",
      "invalid value encountered in divide\n",
      "\n",
      "/Users/visheshyadav/anaconda3/lib/python3.11/site-packages/sklearn/metrics/_classification.py:1531: UndefinedMetricWarning:\n",
      "\n",
      "Precision is ill-defined and being set to 0.0 in labels with no predicted samples. Use `zero_division` parameter to control this behavior.\n",
      "\n",
      "/var/folders/yf/20z1hn994jd04q4kl0gpgh740000gn/T/ipykernel_88315/4155612595.py:129: RuntimeWarning:\n",
      "\n",
      "invalid value encountered in divide\n",
      "\n",
      "/Users/visheshyadav/anaconda3/lib/python3.11/site-packages/sklearn/metrics/_classification.py:1531: UndefinedMetricWarning:\n",
      "\n",
      "Precision is ill-defined and being set to 0.0 in labels with no predicted samples. Use `zero_division` parameter to control this behavior.\n",
      "\n",
      "/var/folders/yf/20z1hn994jd04q4kl0gpgh740000gn/T/ipykernel_88315/4155612595.py:129: RuntimeWarning:\n",
      "\n",
      "invalid value encountered in divide\n",
      "\n",
      "/Users/visheshyadav/anaconda3/lib/python3.11/site-packages/sklearn/metrics/_classification.py:1531: UndefinedMetricWarning:\n",
      "\n",
      "Precision is ill-defined and being set to 0.0 in labels with no predicted samples. Use `zero_division` parameter to control this behavior.\n",
      "\n",
      "/var/folders/yf/20z1hn994jd04q4kl0gpgh740000gn/T/ipykernel_88315/4155612595.py:129: RuntimeWarning:\n",
      "\n",
      "invalid value encountered in divide\n",
      "\n",
      "/Users/visheshyadav/anaconda3/lib/python3.11/site-packages/sklearn/metrics/_classification.py:1531: UndefinedMetricWarning:\n",
      "\n",
      "Precision is ill-defined and being set to 0.0 in labels with no predicted samples. Use `zero_division` parameter to control this behavior.\n",
      "\n",
      "/var/folders/yf/20z1hn994jd04q4kl0gpgh740000gn/T/ipykernel_88315/4155612595.py:129: RuntimeWarning:\n",
      "\n",
      "invalid value encountered in divide\n",
      "\n",
      "/Users/visheshyadav/anaconda3/lib/python3.11/site-packages/sklearn/metrics/_classification.py:1531: UndefinedMetricWarning:\n",
      "\n",
      "Precision is ill-defined and being set to 0.0 in labels with no predicted samples. Use `zero_division` parameter to control this behavior.\n",
      "\n",
      "/var/folders/yf/20z1hn994jd04q4kl0gpgh740000gn/T/ipykernel_88315/4155612595.py:129: RuntimeWarning:\n",
      "\n",
      "invalid value encountered in divide\n",
      "\n",
      "/Users/visheshyadav/anaconda3/lib/python3.11/site-packages/sklearn/metrics/_classification.py:1531: UndefinedMetricWarning:\n",
      "\n",
      "Precision is ill-defined and being set to 0.0 in labels with no predicted samples. Use `zero_division` parameter to control this behavior.\n",
      "\n",
      "/var/folders/yf/20z1hn994jd04q4kl0gpgh740000gn/T/ipykernel_88315/4155612595.py:129: RuntimeWarning:\n",
      "\n",
      "invalid value encountered in divide\n",
      "\n",
      "/Users/visheshyadav/anaconda3/lib/python3.11/site-packages/sklearn/metrics/_classification.py:1531: UndefinedMetricWarning:\n",
      "\n",
      "Precision is ill-defined and being set to 0.0 in labels with no predicted samples. Use `zero_division` parameter to control this behavior.\n",
      "\n",
      "/var/folders/yf/20z1hn994jd04q4kl0gpgh740000gn/T/ipykernel_88315/4155612595.py:129: RuntimeWarning:\n",
      "\n",
      "invalid value encountered in divide\n",
      "\n",
      "/Users/visheshyadav/anaconda3/lib/python3.11/site-packages/sklearn/metrics/_classification.py:1531: UndefinedMetricWarning:\n",
      "\n",
      "Precision is ill-defined and being set to 0.0 in labels with no predicted samples. Use `zero_division` parameter to control this behavior.\n",
      "\n",
      "/var/folders/yf/20z1hn994jd04q4kl0gpgh740000gn/T/ipykernel_88315/4155612595.py:129: RuntimeWarning:\n",
      "\n",
      "invalid value encountered in divide\n",
      "\n",
      "/Users/visheshyadav/anaconda3/lib/python3.11/site-packages/sklearn/metrics/_classification.py:1531: UndefinedMetricWarning:\n",
      "\n",
      "Precision is ill-defined and being set to 0.0 in labels with no predicted samples. Use `zero_division` parameter to control this behavior.\n",
      "\n",
      "/var/folders/yf/20z1hn994jd04q4kl0gpgh740000gn/T/ipykernel_88315/4155612595.py:129: RuntimeWarning:\n",
      "\n",
      "invalid value encountered in divide\n",
      "\n",
      "/Users/visheshyadav/anaconda3/lib/python3.11/site-packages/sklearn/metrics/_classification.py:1531: UndefinedMetricWarning:\n",
      "\n",
      "Precision is ill-defined and being set to 0.0 in labels with no predicted samples. Use `zero_division` parameter to control this behavior.\n",
      "\n",
      "/var/folders/yf/20z1hn994jd04q4kl0gpgh740000gn/T/ipykernel_88315/4155612595.py:129: RuntimeWarning:\n",
      "\n",
      "invalid value encountered in divide\n",
      "\n",
      "/Users/visheshyadav/anaconda3/lib/python3.11/site-packages/sklearn/metrics/_classification.py:1531: UndefinedMetricWarning:\n",
      "\n",
      "Precision is ill-defined and being set to 0.0 in labels with no predicted samples. Use `zero_division` parameter to control this behavior.\n",
      "\n",
      "/var/folders/yf/20z1hn994jd04q4kl0gpgh740000gn/T/ipykernel_88315/4155612595.py:129: RuntimeWarning:\n",
      "\n",
      "invalid value encountered in divide\n",
      "\n"
     ]
    },
    {
     "name": "stdout",
     "output_type": "stream",
     "text": [
      "GCN Epoch 33, Loss: 1.5838139057159424, Accuracy: 0.3505535055350554\n",
      "Training Loss: 1.578108787536621\n",
      "GCN Epoch 34, Loss: 1.578108787536621, Accuracy: 0.35424354243542433\n",
      "Training Loss: 1.5683262348175049\n",
      "GCN Epoch 35, Loss: 1.5683262348175049, Accuracy: 0.35977859778597787\n",
      "Training Loss: 1.551276445388794\n",
      "GCN Epoch 36, Loss: 1.551276445388794, Accuracy: 0.36531365313653136\n",
      "Training Loss: 1.5508794784545898\n",
      "GCN Epoch 37, Loss: 1.5508794784545898, Accuracy: 0.37453874538745385\n",
      "Training Loss: 1.5293240547180176\n",
      "GCN Epoch 38, Loss: 1.5293240547180176, Accuracy: 0.37822878228782286\n",
      "Training Loss: 1.523378610610962\n",
      "GCN Epoch 39, Loss: 1.523378610610962, Accuracy: 0.3856088560885609\n",
      "Training Loss: 1.5107762813568115\n",
      "GCN Epoch 40, Loss: 1.5107762813568115, Accuracy: 0.3966789667896679\n",
      "Training Loss: 1.5190919637680054\n",
      "GCN Epoch 41, Loss: 1.5190919637680054, Accuracy: 0.4059040590405904\n",
      "Training Loss: 1.4947314262390137\n",
      "GCN Epoch 42, Loss: 1.4947314262390137, Accuracy: 0.41697416974169743\n",
      "Training Loss: 1.4805601835250854\n",
      "GCN Epoch 43, Loss: 1.4805601835250854, Accuracy: 0.4317343173431734\n",
      "Training Loss: 1.4607181549072266\n",
      "GCN Epoch 44, Loss: 1.4607181549072266, Accuracy: 0.44649446494464945\n",
      "Training Loss: 1.456138253211975\n",
      "GCN Epoch 45, Loss: 1.456138253211975, Accuracy: 0.4575645756457565\n",
      "Training Loss: 1.4367053508758545\n",
      "GCN Epoch 46, Loss: 1.4367053508758545, Accuracy: 0.474169741697417\n",
      "Training Loss: 1.426637053489685\n"
     ]
    },
    {
     "name": "stderr",
     "output_type": "stream",
     "text": [
      "/Users/visheshyadav/anaconda3/lib/python3.11/site-packages/sklearn/metrics/_classification.py:1531: UndefinedMetricWarning:\n",
      "\n",
      "Precision is ill-defined and being set to 0.0 in labels with no predicted samples. Use `zero_division` parameter to control this behavior.\n",
      "\n",
      "/var/folders/yf/20z1hn994jd04q4kl0gpgh740000gn/T/ipykernel_88315/4155612595.py:129: RuntimeWarning:\n",
      "\n",
      "invalid value encountered in divide\n",
      "\n",
      "/Users/visheshyadav/anaconda3/lib/python3.11/site-packages/sklearn/metrics/_classification.py:1531: UndefinedMetricWarning:\n",
      "\n",
      "Precision is ill-defined and being set to 0.0 in labels with no predicted samples. Use `zero_division` parameter to control this behavior.\n",
      "\n",
      "/var/folders/yf/20z1hn994jd04q4kl0gpgh740000gn/T/ipykernel_88315/4155612595.py:129: RuntimeWarning:\n",
      "\n",
      "invalid value encountered in divide\n",
      "\n",
      "/Users/visheshyadav/anaconda3/lib/python3.11/site-packages/sklearn/metrics/_classification.py:1531: UndefinedMetricWarning:\n",
      "\n",
      "Precision is ill-defined and being set to 0.0 in labels with no predicted samples. Use `zero_division` parameter to control this behavior.\n",
      "\n",
      "/var/folders/yf/20z1hn994jd04q4kl0gpgh740000gn/T/ipykernel_88315/4155612595.py:129: RuntimeWarning:\n",
      "\n",
      "invalid value encountered in divide\n",
      "\n",
      "/Users/visheshyadav/anaconda3/lib/python3.11/site-packages/sklearn/metrics/_classification.py:1531: UndefinedMetricWarning:\n",
      "\n",
      "Precision is ill-defined and being set to 0.0 in labels with no predicted samples. Use `zero_division` parameter to control this behavior.\n",
      "\n",
      "/var/folders/yf/20z1hn994jd04q4kl0gpgh740000gn/T/ipykernel_88315/4155612595.py:129: RuntimeWarning:\n",
      "\n",
      "invalid value encountered in divide\n",
      "\n",
      "/Users/visheshyadav/anaconda3/lib/python3.11/site-packages/sklearn/metrics/_classification.py:1531: UndefinedMetricWarning:\n",
      "\n",
      "Precision is ill-defined and being set to 0.0 in labels with no predicted samples. Use `zero_division` parameter to control this behavior.\n",
      "\n",
      "/var/folders/yf/20z1hn994jd04q4kl0gpgh740000gn/T/ipykernel_88315/4155612595.py:129: RuntimeWarning:\n",
      "\n",
      "invalid value encountered in divide\n",
      "\n",
      "/Users/visheshyadav/anaconda3/lib/python3.11/site-packages/sklearn/metrics/_classification.py:1531: UndefinedMetricWarning:\n",
      "\n",
      "Precision is ill-defined and being set to 0.0 in labels with no predicted samples. Use `zero_division` parameter to control this behavior.\n",
      "\n",
      "/var/folders/yf/20z1hn994jd04q4kl0gpgh740000gn/T/ipykernel_88315/4155612595.py:129: RuntimeWarning:\n",
      "\n",
      "invalid value encountered in divide\n",
      "\n",
      "/Users/visheshyadav/anaconda3/lib/python3.11/site-packages/sklearn/metrics/_classification.py:1531: UndefinedMetricWarning:\n",
      "\n",
      "Precision is ill-defined and being set to 0.0 in labels with no predicted samples. Use `zero_division` parameter to control this behavior.\n",
      "\n",
      "/var/folders/yf/20z1hn994jd04q4kl0gpgh740000gn/T/ipykernel_88315/4155612595.py:129: RuntimeWarning:\n",
      "\n",
      "invalid value encountered in divide\n",
      "\n",
      "/Users/visheshyadav/anaconda3/lib/python3.11/site-packages/sklearn/metrics/_classification.py:1531: UndefinedMetricWarning:\n",
      "\n",
      "Precision is ill-defined and being set to 0.0 in labels with no predicted samples. Use `zero_division` parameter to control this behavior.\n",
      "\n",
      "/var/folders/yf/20z1hn994jd04q4kl0gpgh740000gn/T/ipykernel_88315/4155612595.py:129: RuntimeWarning:\n",
      "\n",
      "invalid value encountered in divide\n",
      "\n",
      "/Users/visheshyadav/anaconda3/lib/python3.11/site-packages/sklearn/metrics/_classification.py:1531: UndefinedMetricWarning:\n",
      "\n",
      "Precision is ill-defined and being set to 0.0 in labels with no predicted samples. Use `zero_division` parameter to control this behavior.\n",
      "\n",
      "/var/folders/yf/20z1hn994jd04q4kl0gpgh740000gn/T/ipykernel_88315/4155612595.py:129: RuntimeWarning:\n",
      "\n",
      "invalid value encountered in divide\n",
      "\n",
      "/Users/visheshyadav/anaconda3/lib/python3.11/site-packages/sklearn/metrics/_classification.py:1531: UndefinedMetricWarning:\n",
      "\n",
      "Precision is ill-defined and being set to 0.0 in labels with no predicted samples. Use `zero_division` parameter to control this behavior.\n",
      "\n",
      "/var/folders/yf/20z1hn994jd04q4kl0gpgh740000gn/T/ipykernel_88315/4155612595.py:129: RuntimeWarning:\n",
      "\n",
      "invalid value encountered in divide\n",
      "\n",
      "/Users/visheshyadav/anaconda3/lib/python3.11/site-packages/sklearn/metrics/_classification.py:1531: UndefinedMetricWarning:\n",
      "\n",
      "Precision is ill-defined and being set to 0.0 in labels with no predicted samples. Use `zero_division` parameter to control this behavior.\n",
      "\n",
      "/var/folders/yf/20z1hn994jd04q4kl0gpgh740000gn/T/ipykernel_88315/4155612595.py:129: RuntimeWarning:\n",
      "\n",
      "invalid value encountered in divide\n",
      "\n",
      "/Users/visheshyadav/anaconda3/lib/python3.11/site-packages/sklearn/metrics/_classification.py:1531: UndefinedMetricWarning:\n",
      "\n",
      "Precision is ill-defined and being set to 0.0 in labels with no predicted samples. Use `zero_division` parameter to control this behavior.\n",
      "\n",
      "/var/folders/yf/20z1hn994jd04q4kl0gpgh740000gn/T/ipykernel_88315/4155612595.py:129: RuntimeWarning:\n",
      "\n",
      "invalid value encountered in divide\n",
      "\n",
      "/Users/visheshyadav/anaconda3/lib/python3.11/site-packages/sklearn/metrics/_classification.py:1531: UndefinedMetricWarning:\n",
      "\n",
      "Precision is ill-defined and being set to 0.0 in labels with no predicted samples. Use `zero_division` parameter to control this behavior.\n",
      "\n",
      "/var/folders/yf/20z1hn994jd04q4kl0gpgh740000gn/T/ipykernel_88315/4155612595.py:129: RuntimeWarning:\n",
      "\n",
      "invalid value encountered in divide\n",
      "\n",
      "/Users/visheshyadav/anaconda3/lib/python3.11/site-packages/sklearn/metrics/_classification.py:1531: UndefinedMetricWarning:\n",
      "\n",
      "Precision is ill-defined and being set to 0.0 in labels with no predicted samples. Use `zero_division` parameter to control this behavior.\n",
      "\n",
      "/var/folders/yf/20z1hn994jd04q4kl0gpgh740000gn/T/ipykernel_88315/4155612595.py:129: RuntimeWarning:\n",
      "\n",
      "invalid value encountered in divide\n",
      "\n"
     ]
    },
    {
     "name": "stdout",
     "output_type": "stream",
     "text": [
      "GCN Epoch 47, Loss: 1.426637053489685, Accuracy: 0.4833948339483395\n",
      "Training Loss: 1.4238978624343872\n",
      "GCN Epoch 48, Loss: 1.4238978624343872, Accuracy: 0.5018450184501845\n",
      "Training Loss: 1.4026446342468262\n",
      "GCN Epoch 49, Loss: 1.4026446342468262, Accuracy: 0.5092250922509225\n",
      "Training Loss: 1.3899399042129517\n",
      "GCN Epoch 50, Loss: 1.3899399042129517, Accuracy: 0.518450184501845\n",
      "Training Loss: 1.3930011987686157\n",
      "GCN Epoch 51, Loss: 1.3930011987686157, Accuracy: 0.5276752767527675\n",
      "Training Loss: 1.363767385482788\n",
      "GCN Epoch 52, Loss: 1.363767385482788, Accuracy: 0.5313653136531366\n",
      "Training Loss: 1.373428225517273\n",
      "GCN Epoch 53, Loss: 1.373428225517273, Accuracy: 0.5387453874538746\n",
      "Training Loss: 1.3563004732131958\n",
      "GCN Epoch 54, Loss: 1.3563004732131958, Accuracy: 0.5461254612546126\n",
      "Training Loss: 1.3275411128997803\n",
      "GCN Epoch 55, Loss: 1.3275411128997803, Accuracy: 0.5571955719557196\n",
      "Training Loss: 1.323676347732544\n",
      "GCN Epoch 56, Loss: 1.323676347732544, Accuracy: 0.5701107011070111\n",
      "Training Loss: 1.3240272998809814\n",
      "GCN Epoch 57, Loss: 1.3240272998809814, Accuracy: 0.5793357933579336\n",
      "Training Loss: 1.3003803491592407\n",
      "GCN Epoch 58, Loss: 1.3003803491592407, Accuracy: 0.6070110701107011\n",
      "Training Loss: 1.2953979969024658\n",
      "GCN Epoch 59, Loss: 1.2953979969024658, Accuracy: 0.6107011070110702\n",
      "Training Loss: 1.2881790399551392\n",
      "GCN Epoch 60, Loss: 1.2881790399551392, Accuracy: 0.6180811808118081\n",
      "Training Loss: 1.2737540006637573\n"
     ]
    },
    {
     "name": "stderr",
     "output_type": "stream",
     "text": [
      "/Users/visheshyadav/anaconda3/lib/python3.11/site-packages/sklearn/metrics/_classification.py:1531: UndefinedMetricWarning:\n",
      "\n",
      "Precision is ill-defined and being set to 0.0 in labels with no predicted samples. Use `zero_division` parameter to control this behavior.\n",
      "\n",
      "/var/folders/yf/20z1hn994jd04q4kl0gpgh740000gn/T/ipykernel_88315/4155612595.py:129: RuntimeWarning:\n",
      "\n",
      "invalid value encountered in divide\n",
      "\n",
      "/Users/visheshyadav/anaconda3/lib/python3.11/site-packages/sklearn/metrics/_classification.py:1531: UndefinedMetricWarning:\n",
      "\n",
      "Precision is ill-defined and being set to 0.0 in labels with no predicted samples. Use `zero_division` parameter to control this behavior.\n",
      "\n",
      "/var/folders/yf/20z1hn994jd04q4kl0gpgh740000gn/T/ipykernel_88315/4155612595.py:129: RuntimeWarning:\n",
      "\n",
      "invalid value encountered in divide\n",
      "\n",
      "/Users/visheshyadav/anaconda3/lib/python3.11/site-packages/sklearn/metrics/_classification.py:1531: UndefinedMetricWarning:\n",
      "\n",
      "Precision is ill-defined and being set to 0.0 in labels with no predicted samples. Use `zero_division` parameter to control this behavior.\n",
      "\n",
      "/var/folders/yf/20z1hn994jd04q4kl0gpgh740000gn/T/ipykernel_88315/4155612595.py:129: RuntimeWarning:\n",
      "\n",
      "invalid value encountered in divide\n",
      "\n",
      "/Users/visheshyadav/anaconda3/lib/python3.11/site-packages/sklearn/metrics/_classification.py:1531: UndefinedMetricWarning:\n",
      "\n",
      "Precision is ill-defined and being set to 0.0 in labels with no predicted samples. Use `zero_division` parameter to control this behavior.\n",
      "\n",
      "/var/folders/yf/20z1hn994jd04q4kl0gpgh740000gn/T/ipykernel_88315/4155612595.py:129: RuntimeWarning:\n",
      "\n",
      "invalid value encountered in divide\n",
      "\n",
      "/Users/visheshyadav/anaconda3/lib/python3.11/site-packages/sklearn/metrics/_classification.py:1531: UndefinedMetricWarning:\n",
      "\n",
      "Precision is ill-defined and being set to 0.0 in labels with no predicted samples. Use `zero_division` parameter to control this behavior.\n",
      "\n",
      "/var/folders/yf/20z1hn994jd04q4kl0gpgh740000gn/T/ipykernel_88315/4155612595.py:129: RuntimeWarning:\n",
      "\n",
      "invalid value encountered in divide\n",
      "\n",
      "/Users/visheshyadav/anaconda3/lib/python3.11/site-packages/sklearn/metrics/_classification.py:1531: UndefinedMetricWarning:\n",
      "\n",
      "Precision is ill-defined and being set to 0.0 in labels with no predicted samples. Use `zero_division` parameter to control this behavior.\n",
      "\n",
      "/var/folders/yf/20z1hn994jd04q4kl0gpgh740000gn/T/ipykernel_88315/4155612595.py:129: RuntimeWarning:\n",
      "\n",
      "invalid value encountered in divide\n",
      "\n",
      "/Users/visheshyadav/anaconda3/lib/python3.11/site-packages/sklearn/metrics/_classification.py:1531: UndefinedMetricWarning:\n",
      "\n",
      "Precision is ill-defined and being set to 0.0 in labels with no predicted samples. Use `zero_division` parameter to control this behavior.\n",
      "\n",
      "/var/folders/yf/20z1hn994jd04q4kl0gpgh740000gn/T/ipykernel_88315/4155612595.py:129: RuntimeWarning:\n",
      "\n",
      "invalid value encountered in divide\n",
      "\n",
      "/Users/visheshyadav/anaconda3/lib/python3.11/site-packages/sklearn/metrics/_classification.py:1531: UndefinedMetricWarning:\n",
      "\n",
      "Precision is ill-defined and being set to 0.0 in labels with no predicted samples. Use `zero_division` parameter to control this behavior.\n",
      "\n",
      "/var/folders/yf/20z1hn994jd04q4kl0gpgh740000gn/T/ipykernel_88315/4155612595.py:129: RuntimeWarning:\n",
      "\n",
      "invalid value encountered in divide\n",
      "\n",
      "/Users/visheshyadav/anaconda3/lib/python3.11/site-packages/sklearn/metrics/_classification.py:1531: UndefinedMetricWarning:\n",
      "\n",
      "Precision is ill-defined and being set to 0.0 in labels with no predicted samples. Use `zero_division` parameter to control this behavior.\n",
      "\n",
      "/var/folders/yf/20z1hn994jd04q4kl0gpgh740000gn/T/ipykernel_88315/4155612595.py:129: RuntimeWarning:\n",
      "\n",
      "invalid value encountered in divide\n",
      "\n",
      "/Users/visheshyadav/anaconda3/lib/python3.11/site-packages/sklearn/metrics/_classification.py:1531: UndefinedMetricWarning:\n",
      "\n",
      "Precision is ill-defined and being set to 0.0 in labels with no predicted samples. Use `zero_division` parameter to control this behavior.\n",
      "\n",
      "/var/folders/yf/20z1hn994jd04q4kl0gpgh740000gn/T/ipykernel_88315/4155612595.py:129: RuntimeWarning:\n",
      "\n",
      "invalid value encountered in divide\n",
      "\n",
      "/Users/visheshyadav/anaconda3/lib/python3.11/site-packages/sklearn/metrics/_classification.py:1531: UndefinedMetricWarning:\n",
      "\n",
      "Precision is ill-defined and being set to 0.0 in labels with no predicted samples. Use `zero_division` parameter to control this behavior.\n",
      "\n",
      "/var/folders/yf/20z1hn994jd04q4kl0gpgh740000gn/T/ipykernel_88315/4155612595.py:129: RuntimeWarning:\n",
      "\n",
      "invalid value encountered in divide\n",
      "\n",
      "/Users/visheshyadav/anaconda3/lib/python3.11/site-packages/sklearn/metrics/_classification.py:1531: UndefinedMetricWarning:\n",
      "\n",
      "Precision is ill-defined and being set to 0.0 in labels with no predicted samples. Use `zero_division` parameter to control this behavior.\n",
      "\n",
      "/var/folders/yf/20z1hn994jd04q4kl0gpgh740000gn/T/ipykernel_88315/4155612595.py:129: RuntimeWarning:\n",
      "\n",
      "invalid value encountered in divide\n",
      "\n",
      "/Users/visheshyadav/anaconda3/lib/python3.11/site-packages/sklearn/metrics/_classification.py:1531: UndefinedMetricWarning:\n",
      "\n",
      "Precision is ill-defined and being set to 0.0 in labels with no predicted samples. Use `zero_division` parameter to control this behavior.\n",
      "\n",
      "/var/folders/yf/20z1hn994jd04q4kl0gpgh740000gn/T/ipykernel_88315/4155612595.py:129: RuntimeWarning:\n",
      "\n",
      "invalid value encountered in divide\n",
      "\n",
      "/Users/visheshyadav/anaconda3/lib/python3.11/site-packages/sklearn/metrics/_classification.py:1531: UndefinedMetricWarning:\n",
      "\n",
      "Precision is ill-defined and being set to 0.0 in labels with no predicted samples. Use `zero_division` parameter to control this behavior.\n",
      "\n",
      "/var/folders/yf/20z1hn994jd04q4kl0gpgh740000gn/T/ipykernel_88315/4155612595.py:129: RuntimeWarning:\n",
      "\n",
      "invalid value encountered in divide\n",
      "\n",
      "/Users/visheshyadav/anaconda3/lib/python3.11/site-packages/sklearn/metrics/_classification.py:1531: UndefinedMetricWarning:\n",
      "\n",
      "Precision is ill-defined and being set to 0.0 in labels with no predicted samples. Use `zero_division` parameter to control this behavior.\n",
      "\n"
     ]
    },
    {
     "name": "stdout",
     "output_type": "stream",
     "text": [
      "GCN Epoch 61, Loss: 1.2737540006637573, Accuracy: 0.6199261992619927\n",
      "Training Loss: 1.2616002559661865\n",
      "GCN Epoch 62, Loss: 1.2616002559661865, Accuracy: 0.6217712177121771\n",
      "Training Loss: 1.2599167823791504\n",
      "GCN Epoch 63, Loss: 1.2599167823791504, Accuracy: 0.6328413284132841\n",
      "Training Loss: 1.254517674446106\n",
      "GCN Epoch 64, Loss: 1.254517674446106, Accuracy: 0.6420664206642066\n",
      "Training Loss: 1.2444429397583008\n",
      "GCN Epoch 65, Loss: 1.2444429397583008, Accuracy: 0.6457564575645757\n",
      "Training Loss: 1.2358839511871338\n",
      "GCN Epoch 66, Loss: 1.2358839511871338, Accuracy: 0.6494464944649446\n",
      "Training Loss: 1.2070890665054321\n",
      "GCN Epoch 67, Loss: 1.2070890665054321, Accuracy: 0.6549815498154982\n",
      "Training Loss: 1.2157602310180664\n",
      "GCN Epoch 68, Loss: 1.2157602310180664, Accuracy: 0.6586715867158671\n",
      "Training Loss: 1.1939970254898071\n",
      "GCN Epoch 69, Loss: 1.1939970254898071, Accuracy: 0.6642066420664207\n",
      "Training Loss: 1.1974211931228638\n",
      "GCN Epoch 70, Loss: 1.1974211931228638, Accuracy: 0.6734317343173432\n",
      "Training Loss: 1.1833114624023438\n",
      "GCN Epoch 71, Loss: 1.1833114624023438, Accuracy: 0.6789667896678967\n",
      "Training Loss: 1.1571826934814453\n",
      "GCN Epoch 72, Loss: 1.1571826934814453, Accuracy: 0.6900369003690037\n",
      "Training Loss: 1.1621366739273071\n",
      "GCN Epoch 73, Loss: 1.1621366739273071, Accuracy: 0.6918819188191881\n",
      "Training Loss: 1.1417180299758911\n",
      "GCN Epoch 74, Loss: 1.1417180299758911, Accuracy: 0.6992619926199262\n",
      "Training Loss: 1.1388875246047974\n"
     ]
    },
    {
     "name": "stderr",
     "output_type": "stream",
     "text": [
      "/var/folders/yf/20z1hn994jd04q4kl0gpgh740000gn/T/ipykernel_88315/4155612595.py:129: RuntimeWarning:\n",
      "\n",
      "invalid value encountered in divide\n",
      "\n",
      "/Users/visheshyadav/anaconda3/lib/python3.11/site-packages/sklearn/metrics/_classification.py:1531: UndefinedMetricWarning:\n",
      "\n",
      "Precision is ill-defined and being set to 0.0 in labels with no predicted samples. Use `zero_division` parameter to control this behavior.\n",
      "\n",
      "/var/folders/yf/20z1hn994jd04q4kl0gpgh740000gn/T/ipykernel_88315/4155612595.py:129: RuntimeWarning:\n",
      "\n",
      "invalid value encountered in divide\n",
      "\n",
      "/Users/visheshyadav/anaconda3/lib/python3.11/site-packages/sklearn/metrics/_classification.py:1531: UndefinedMetricWarning:\n",
      "\n",
      "Precision is ill-defined and being set to 0.0 in labels with no predicted samples. Use `zero_division` parameter to control this behavior.\n",
      "\n",
      "/var/folders/yf/20z1hn994jd04q4kl0gpgh740000gn/T/ipykernel_88315/4155612595.py:129: RuntimeWarning:\n",
      "\n",
      "invalid value encountered in divide\n",
      "\n",
      "/Users/visheshyadav/anaconda3/lib/python3.11/site-packages/sklearn/metrics/_classification.py:1531: UndefinedMetricWarning:\n",
      "\n",
      "Precision is ill-defined and being set to 0.0 in labels with no predicted samples. Use `zero_division` parameter to control this behavior.\n",
      "\n",
      "/var/folders/yf/20z1hn994jd04q4kl0gpgh740000gn/T/ipykernel_88315/4155612595.py:129: RuntimeWarning:\n",
      "\n",
      "invalid value encountered in divide\n",
      "\n",
      "/Users/visheshyadav/anaconda3/lib/python3.11/site-packages/sklearn/metrics/_classification.py:1531: UndefinedMetricWarning:\n",
      "\n",
      "Precision is ill-defined and being set to 0.0 in labels with no predicted samples. Use `zero_division` parameter to control this behavior.\n",
      "\n",
      "/var/folders/yf/20z1hn994jd04q4kl0gpgh740000gn/T/ipykernel_88315/4155612595.py:129: RuntimeWarning:\n",
      "\n",
      "invalid value encountered in divide\n",
      "\n",
      "/Users/visheshyadav/anaconda3/lib/python3.11/site-packages/sklearn/metrics/_classification.py:1531: UndefinedMetricWarning:\n",
      "\n",
      "Precision is ill-defined and being set to 0.0 in labels with no predicted samples. Use `zero_division` parameter to control this behavior.\n",
      "\n",
      "/var/folders/yf/20z1hn994jd04q4kl0gpgh740000gn/T/ipykernel_88315/4155612595.py:129: RuntimeWarning:\n",
      "\n",
      "invalid value encountered in divide\n",
      "\n",
      "/Users/visheshyadav/anaconda3/lib/python3.11/site-packages/sklearn/metrics/_classification.py:1531: UndefinedMetricWarning:\n",
      "\n",
      "Precision is ill-defined and being set to 0.0 in labels with no predicted samples. Use `zero_division` parameter to control this behavior.\n",
      "\n",
      "/var/folders/yf/20z1hn994jd04q4kl0gpgh740000gn/T/ipykernel_88315/4155612595.py:129: RuntimeWarning:\n",
      "\n",
      "invalid value encountered in divide\n",
      "\n",
      "/Users/visheshyadav/anaconda3/lib/python3.11/site-packages/sklearn/metrics/_classification.py:1531: UndefinedMetricWarning:\n",
      "\n",
      "Precision is ill-defined and being set to 0.0 in labels with no predicted samples. Use `zero_division` parameter to control this behavior.\n",
      "\n",
      "/var/folders/yf/20z1hn994jd04q4kl0gpgh740000gn/T/ipykernel_88315/4155612595.py:129: RuntimeWarning:\n",
      "\n",
      "invalid value encountered in divide\n",
      "\n",
      "/Users/visheshyadav/anaconda3/lib/python3.11/site-packages/sklearn/metrics/_classification.py:1531: UndefinedMetricWarning:\n",
      "\n",
      "Precision is ill-defined and being set to 0.0 in labels with no predicted samples. Use `zero_division` parameter to control this behavior.\n",
      "\n",
      "/var/folders/yf/20z1hn994jd04q4kl0gpgh740000gn/T/ipykernel_88315/4155612595.py:129: RuntimeWarning:\n",
      "\n",
      "invalid value encountered in divide\n",
      "\n",
      "/Users/visheshyadav/anaconda3/lib/python3.11/site-packages/sklearn/metrics/_classification.py:1531: UndefinedMetricWarning:\n",
      "\n",
      "Precision is ill-defined and being set to 0.0 in labels with no predicted samples. Use `zero_division` parameter to control this behavior.\n",
      "\n",
      "/var/folders/yf/20z1hn994jd04q4kl0gpgh740000gn/T/ipykernel_88315/4155612595.py:129: RuntimeWarning:\n",
      "\n",
      "invalid value encountered in divide\n",
      "\n",
      "/Users/visheshyadav/anaconda3/lib/python3.11/site-packages/sklearn/metrics/_classification.py:1531: UndefinedMetricWarning:\n",
      "\n",
      "Precision is ill-defined and being set to 0.0 in labels with no predicted samples. Use `zero_division` parameter to control this behavior.\n",
      "\n",
      "/var/folders/yf/20z1hn994jd04q4kl0gpgh740000gn/T/ipykernel_88315/4155612595.py:129: RuntimeWarning:\n",
      "\n",
      "invalid value encountered in divide\n",
      "\n"
     ]
    },
    {
     "name": "stdout",
     "output_type": "stream",
     "text": [
      "GCN Epoch 75, Loss: 1.1388875246047974, Accuracy: 0.7029520295202952\n",
      "Training Loss: 1.1435532569885254\n",
      "GCN Epoch 76, Loss: 1.1435532569885254, Accuracy: 0.7066420664206642\n",
      "Training Loss: 1.1183032989501953\n",
      "GCN Epoch 77, Loss: 1.1183032989501953, Accuracy: 0.7066420664206642\n",
      "Training Loss: 1.1256632804870605\n",
      "GCN Epoch 78, Loss: 1.1256632804870605, Accuracy: 0.7140221402214022\n",
      "Training Loss: 1.0990350246429443\n",
      "GCN Epoch 79, Loss: 1.0990350246429443, Accuracy: 0.7232472324723247\n",
      "Training Loss: 1.1017048358917236\n",
      "GCN Epoch 80, Loss: 1.1017048358917236, Accuracy: 0.7324723247232472\n",
      "Training Loss: 1.0935022830963135\n",
      "GCN Epoch 81, Loss: 1.0935022830963135, Accuracy: 0.7435424354243543\n",
      "Training Loss: 1.0879786014556885\n",
      "GCN Epoch 82, Loss: 1.0879786014556885, Accuracy: 0.7601476014760148\n",
      "Training Loss: 1.0815885066986084\n",
      "GCN Epoch 83, Loss: 1.0815885066986084, Accuracy: 0.7601476014760148\n",
      "Training Loss: 1.0423299074172974\n",
      "GCN Epoch 84, Loss: 1.0423299074172974, Accuracy: 0.7638376383763837\n",
      "Training Loss: 1.06805419921875\n",
      "GCN Epoch 85, Loss: 1.06805419921875, Accuracy: 0.7619926199261993\n",
      "Training Loss: 1.0661602020263672\n"
     ]
    },
    {
     "name": "stderr",
     "output_type": "stream",
     "text": [
      "/Users/visheshyadav/anaconda3/lib/python3.11/site-packages/sklearn/metrics/_classification.py:1531: UndefinedMetricWarning:\n",
      "\n",
      "Precision is ill-defined and being set to 0.0 in labels with no predicted samples. Use `zero_division` parameter to control this behavior.\n",
      "\n",
      "/var/folders/yf/20z1hn994jd04q4kl0gpgh740000gn/T/ipykernel_88315/4155612595.py:129: RuntimeWarning:\n",
      "\n",
      "invalid value encountered in divide\n",
      "\n",
      "/Users/visheshyadav/anaconda3/lib/python3.11/site-packages/sklearn/metrics/_classification.py:1531: UndefinedMetricWarning:\n",
      "\n",
      "Precision is ill-defined and being set to 0.0 in labels with no predicted samples. Use `zero_division` parameter to control this behavior.\n",
      "\n",
      "/var/folders/yf/20z1hn994jd04q4kl0gpgh740000gn/T/ipykernel_88315/4155612595.py:129: RuntimeWarning:\n",
      "\n",
      "invalid value encountered in divide\n",
      "\n",
      "/Users/visheshyadav/anaconda3/lib/python3.11/site-packages/sklearn/metrics/_classification.py:1531: UndefinedMetricWarning:\n",
      "\n",
      "Precision is ill-defined and being set to 0.0 in labels with no predicted samples. Use `zero_division` parameter to control this behavior.\n",
      "\n",
      "/var/folders/yf/20z1hn994jd04q4kl0gpgh740000gn/T/ipykernel_88315/4155612595.py:129: RuntimeWarning:\n",
      "\n",
      "invalid value encountered in divide\n",
      "\n",
      "/Users/visheshyadav/anaconda3/lib/python3.11/site-packages/sklearn/metrics/_classification.py:1531: UndefinedMetricWarning:\n",
      "\n",
      "Precision is ill-defined and being set to 0.0 in labels with no predicted samples. Use `zero_division` parameter to control this behavior.\n",
      "\n",
      "/var/folders/yf/20z1hn994jd04q4kl0gpgh740000gn/T/ipykernel_88315/4155612595.py:129: RuntimeWarning:\n",
      "\n",
      "invalid value encountered in divide\n",
      "\n",
      "/Users/visheshyadav/anaconda3/lib/python3.11/site-packages/sklearn/metrics/_classification.py:1531: UndefinedMetricWarning:\n",
      "\n",
      "Precision is ill-defined and being set to 0.0 in labels with no predicted samples. Use `zero_division` parameter to control this behavior.\n",
      "\n",
      "/var/folders/yf/20z1hn994jd04q4kl0gpgh740000gn/T/ipykernel_88315/4155612595.py:129: RuntimeWarning:\n",
      "\n",
      "invalid value encountered in divide\n",
      "\n",
      "/Users/visheshyadav/anaconda3/lib/python3.11/site-packages/sklearn/metrics/_classification.py:1531: UndefinedMetricWarning:\n",
      "\n",
      "Precision is ill-defined and being set to 0.0 in labels with no predicted samples. Use `zero_division` parameter to control this behavior.\n",
      "\n",
      "/var/folders/yf/20z1hn994jd04q4kl0gpgh740000gn/T/ipykernel_88315/4155612595.py:129: RuntimeWarning:\n",
      "\n",
      "invalid value encountered in divide\n",
      "\n",
      "/Users/visheshyadav/anaconda3/lib/python3.11/site-packages/sklearn/metrics/_classification.py:1531: UndefinedMetricWarning:\n",
      "\n",
      "Precision is ill-defined and being set to 0.0 in labels with no predicted samples. Use `zero_division` parameter to control this behavior.\n",
      "\n",
      "/var/folders/yf/20z1hn994jd04q4kl0gpgh740000gn/T/ipykernel_88315/4155612595.py:129: RuntimeWarning:\n",
      "\n",
      "invalid value encountered in divide\n",
      "\n",
      "/Users/visheshyadav/anaconda3/lib/python3.11/site-packages/sklearn/metrics/_classification.py:1531: UndefinedMetricWarning:\n",
      "\n",
      "Precision is ill-defined and being set to 0.0 in labels with no predicted samples. Use `zero_division` parameter to control this behavior.\n",
      "\n",
      "/var/folders/yf/20z1hn994jd04q4kl0gpgh740000gn/T/ipykernel_88315/4155612595.py:129: RuntimeWarning:\n",
      "\n",
      "invalid value encountered in divide\n",
      "\n",
      "/Users/visheshyadav/anaconda3/lib/python3.11/site-packages/sklearn/metrics/_classification.py:1531: UndefinedMetricWarning:\n",
      "\n",
      "Precision is ill-defined and being set to 0.0 in labels with no predicted samples. Use `zero_division` parameter to control this behavior.\n",
      "\n",
      "/var/folders/yf/20z1hn994jd04q4kl0gpgh740000gn/T/ipykernel_88315/4155612595.py:129: RuntimeWarning:\n",
      "\n",
      "invalid value encountered in divide\n",
      "\n",
      "/Users/visheshyadav/anaconda3/lib/python3.11/site-packages/sklearn/metrics/_classification.py:1531: UndefinedMetricWarning:\n",
      "\n",
      "Precision is ill-defined and being set to 0.0 in labels with no predicted samples. Use `zero_division` parameter to control this behavior.\n",
      "\n",
      "/var/folders/yf/20z1hn994jd04q4kl0gpgh740000gn/T/ipykernel_88315/4155612595.py:129: RuntimeWarning:\n",
      "\n",
      "invalid value encountered in divide\n",
      "\n",
      "/Users/visheshyadav/anaconda3/lib/python3.11/site-packages/sklearn/metrics/_classification.py:1531: UndefinedMetricWarning:\n",
      "\n",
      "Precision is ill-defined and being set to 0.0 in labels with no predicted samples. Use `zero_division` parameter to control this behavior.\n",
      "\n",
      "/var/folders/yf/20z1hn994jd04q4kl0gpgh740000gn/T/ipykernel_88315/4155612595.py:129: RuntimeWarning:\n",
      "\n",
      "invalid value encountered in divide\n",
      "\n",
      "/Users/visheshyadav/anaconda3/lib/python3.11/site-packages/sklearn/metrics/_classification.py:1531: UndefinedMetricWarning:\n",
      "\n",
      "Precision is ill-defined and being set to 0.0 in labels with no predicted samples. Use `zero_division` parameter to control this behavior.\n",
      "\n",
      "/var/folders/yf/20z1hn994jd04q4kl0gpgh740000gn/T/ipykernel_88315/4155612595.py:129: RuntimeWarning:\n",
      "\n",
      "invalid value encountered in divide\n",
      "\n",
      "/Users/visheshyadav/anaconda3/lib/python3.11/site-packages/sklearn/metrics/_classification.py:1531: UndefinedMetricWarning:\n",
      "\n",
      "Precision is ill-defined and being set to 0.0 in labels with no predicted samples. Use `zero_division` parameter to control this behavior.\n",
      "\n",
      "/var/folders/yf/20z1hn994jd04q4kl0gpgh740000gn/T/ipykernel_88315/4155612595.py:129: RuntimeWarning:\n",
      "\n",
      "invalid value encountered in divide\n",
      "\n"
     ]
    },
    {
     "name": "stdout",
     "output_type": "stream",
     "text": [
      "GCN Epoch 86, Loss: 1.0661602020263672, Accuracy: 0.7619926199261993\n",
      "Training Loss: 1.0220417976379395\n",
      "GCN Epoch 87, Loss: 1.0220417976379395, Accuracy: 0.7619926199261993\n",
      "Training Loss: 1.0152465105056763\n",
      "GCN Epoch 88, Loss: 1.0152465105056763, Accuracy: 0.7675276752767528\n",
      "Training Loss: 1.036152720451355\n",
      "GCN Epoch 89, Loss: 1.036152720451355, Accuracy: 0.7712177121771218\n",
      "Training Loss: 1.0182390213012695\n",
      "GCN Epoch 90, Loss: 1.0182390213012695, Accuracy: 0.7785977859778598\n",
      "Training Loss: 1.0128133296966553\n",
      "GCN Epoch 91, Loss: 1.0128133296966553, Accuracy: 0.7841328413284133\n",
      "Training Loss: 1.0084004402160645\n",
      "GCN Epoch 92, Loss: 1.0084004402160645, Accuracy: 0.7878228782287823\n",
      "Training Loss: 0.9999880790710449\n",
      "GCN Epoch 93, Loss: 0.9999880790710449, Accuracy: 0.7896678966789668\n",
      "Training Loss: 1.0038665533065796\n",
      "GCN Epoch 94, Loss: 1.0038665533065796, Accuracy: 0.7915129151291513\n",
      "Training Loss: 0.99256432056427\n",
      "GCN Epoch 95, Loss: 0.99256432056427, Accuracy: 0.7878228782287823\n",
      "Training Loss: 1.0003046989440918\n",
      "GCN Epoch 96, Loss: 1.0003046989440918, Accuracy: 0.7859778597785978\n",
      "Training Loss: 0.9780885577201843\n",
      "GCN Epoch 97, Loss: 0.9780885577201843, Accuracy: 0.7878228782287823\n",
      "Training Loss: 0.9935082793235779\n",
      "GCN Epoch 98, Loss: 0.9935082793235779, Accuracy: 0.7915129151291513\n",
      "Training Loss: 0.9585535526275635\n"
     ]
    },
    {
     "name": "stderr",
     "output_type": "stream",
     "text": [
      "/Users/visheshyadav/anaconda3/lib/python3.11/site-packages/sklearn/metrics/_classification.py:1531: UndefinedMetricWarning:\n",
      "\n",
      "Precision is ill-defined and being set to 0.0 in labels with no predicted samples. Use `zero_division` parameter to control this behavior.\n",
      "\n",
      "/var/folders/yf/20z1hn994jd04q4kl0gpgh740000gn/T/ipykernel_88315/4155612595.py:129: RuntimeWarning:\n",
      "\n",
      "invalid value encountered in divide\n",
      "\n",
      "/Users/visheshyadav/anaconda3/lib/python3.11/site-packages/sklearn/metrics/_classification.py:1531: UndefinedMetricWarning:\n",
      "\n",
      "Precision is ill-defined and being set to 0.0 in labels with no predicted samples. Use `zero_division` parameter to control this behavior.\n",
      "\n",
      "/var/folders/yf/20z1hn994jd04q4kl0gpgh740000gn/T/ipykernel_88315/4155612595.py:129: RuntimeWarning:\n",
      "\n",
      "invalid value encountered in divide\n",
      "\n",
      "/Users/visheshyadav/anaconda3/lib/python3.11/site-packages/sklearn/metrics/_classification.py:1531: UndefinedMetricWarning:\n",
      "\n",
      "Precision is ill-defined and being set to 0.0 in labels with no predicted samples. Use `zero_division` parameter to control this behavior.\n",
      "\n",
      "/var/folders/yf/20z1hn994jd04q4kl0gpgh740000gn/T/ipykernel_88315/4155612595.py:129: RuntimeWarning:\n",
      "\n",
      "invalid value encountered in divide\n",
      "\n",
      "/Users/visheshyadav/anaconda3/lib/python3.11/site-packages/sklearn/metrics/_classification.py:1531: UndefinedMetricWarning:\n",
      "\n",
      "Precision is ill-defined and being set to 0.0 in labels with no predicted samples. Use `zero_division` parameter to control this behavior.\n",
      "\n",
      "/var/folders/yf/20z1hn994jd04q4kl0gpgh740000gn/T/ipykernel_88315/4155612595.py:129: RuntimeWarning:\n",
      "\n",
      "invalid value encountered in divide\n",
      "\n"
     ]
    },
    {
     "name": "stdout",
     "output_type": "stream",
     "text": [
      "GCN Epoch 99, Loss: 0.9585535526275635, Accuracy: 0.7970479704797048\n",
      "Training Loss: 0.9663204550743103\n",
      "GCN Epoch 100, Loss: 0.9663204550743103, Accuracy: 0.8025830258302583\n",
      "Training Loss: 0.9600095152854919\n",
      "GCN Epoch 101, Loss: 0.9600095152854919, Accuracy: 0.8062730627306273\n",
      "Training Loss: 0.9569928050041199\n",
      "GCN Epoch 102, Loss: 0.9569928050041199, Accuracy: 0.8025830258302583\n",
      "Training Loss: 0.9555763006210327\n",
      "GCN Epoch 103, Loss: 0.9555763006210327, Accuracy: 0.8044280442804428\n",
      "Training Loss: 0.9417783617973328\n",
      "GCN Epoch 104, Loss: 0.9417783617973328, Accuracy: 0.8025830258302583\n",
      "Training Loss: 0.9379696846008301\n",
      "GCN Epoch 105, Loss: 0.9379696846008301, Accuracy: 0.8099630996309963\n",
      "Training Loss: 0.961941123008728\n",
      "GCN Epoch 106, Loss: 0.961941123008728, Accuracy: 0.8118081180811808\n",
      "Training Loss: 0.9097833037376404\n",
      "GCN Epoch 107, Loss: 0.9097833037376404, Accuracy: 0.8154981549815498\n",
      "Training Loss: 0.9274007678031921\n",
      "GCN Epoch 108, Loss: 0.9274007678031921, Accuracy: 0.8154981549815498\n",
      "Training Loss: 0.8936673998832703\n",
      "GCN Epoch 109, Loss: 0.8936673998832703, Accuracy: 0.8118081180811808\n",
      "Training Loss: 0.9255518317222595\n",
      "GCN Epoch 110, Loss: 0.9255518317222595, Accuracy: 0.8136531365313653\n",
      "Training Loss: 0.895824134349823\n",
      "GCN Epoch 111, Loss: 0.895824134349823, Accuracy: 0.8154981549815498\n",
      "Training Loss: 0.8971775770187378\n",
      "GCN Epoch 112, Loss: 0.8971775770187378, Accuracy: 0.8173431734317343\n",
      "Training Loss: 0.8934628963470459\n",
      "GCN Epoch 113, Loss: 0.8934628963470459, Accuracy: 0.8154981549815498\n",
      "Training Loss: 0.89194655418396\n",
      "GCN Epoch 114, Loss: 0.89194655418396, Accuracy: 0.8191881918819188\n",
      "Training Loss: 0.9007124900817871\n",
      "GCN Epoch 115, Loss: 0.9007124900817871, Accuracy: 0.8265682656826568\n",
      "Training Loss: 0.8772653341293335\n",
      "GCN Epoch 116, Loss: 0.8772653341293335, Accuracy: 0.8357933579335793\n",
      "Training Loss: 0.8986366391181946\n",
      "GCN Epoch 117, Loss: 0.8986366391181946, Accuracy: 0.8357933579335793\n",
      "Training Loss: 0.8787167072296143\n",
      "GCN Epoch 118, Loss: 0.8787167072296143, Accuracy: 0.8321033210332104\n",
      "Training Loss: 0.8790963888168335\n",
      "GCN Epoch 119, Loss: 0.8790963888168335, Accuracy: 0.8321033210332104\n",
      "Training Loss: 0.8776677250862122\n",
      "GCN Epoch 120, Loss: 0.8776677250862122, Accuracy: 0.8284132841328413\n",
      "Training Loss: 0.8617492318153381\n",
      "GCN Epoch 121, Loss: 0.8617492318153381, Accuracy: 0.8284132841328413\n",
      "Training Loss: 0.8573785424232483\n",
      "GCN Epoch 122, Loss: 0.8573785424232483, Accuracy: 0.8284132841328413\n",
      "Training Loss: 0.8460446000099182\n",
      "GCN Epoch 123, Loss: 0.8460446000099182, Accuracy: 0.8302583025830258\n",
      "Training Loss: 0.8439729809761047\n",
      "GCN Epoch 124, Loss: 0.8439729809761047, Accuracy: 0.8339483394833949\n",
      "Training Loss: 0.8471092581748962\n",
      "GCN Epoch 125, Loss: 0.8471092581748962, Accuracy: 0.8394833948339483\n",
      "Training Loss: 0.8422091007232666\n",
      "GCN Epoch 126, Loss: 0.8422091007232666, Accuracy: 0.8413284132841329\n",
      "Training Loss: 0.8313217759132385\n",
      "GCN Epoch 127, Loss: 0.8313217759132385, Accuracy: 0.8431734317343174\n",
      "Training Loss: 0.8313560485839844\n",
      "GCN Epoch 128, Loss: 0.8313560485839844, Accuracy: 0.8505535055350554\n",
      "Training Loss: 0.848212718963623\n",
      "GCN Epoch 129, Loss: 0.848212718963623, Accuracy: 0.8487084870848709\n",
      "Training Loss: 0.8370768427848816\n",
      "GCN Epoch 130, Loss: 0.8370768427848816, Accuracy: 0.8431734317343174\n",
      "Training Loss: 0.831389307975769\n",
      "GCN Epoch 131, Loss: 0.831389307975769, Accuracy: 0.8450184501845018\n",
      "Training Loss: 0.8106579184532166\n",
      "GCN Epoch 132, Loss: 0.8106579184532166, Accuracy: 0.8413284132841329\n",
      "Training Loss: 0.8203440308570862\n",
      "GCN Epoch 133, Loss: 0.8203440308570862, Accuracy: 0.8413284132841329\n",
      "Training Loss: 0.7980796694755554\n",
      "GCN Epoch 134, Loss: 0.7980796694755554, Accuracy: 0.8431734317343174\n",
      "Training Loss: 0.8085289597511292\n",
      "GCN Epoch 135, Loss: 0.8085289597511292, Accuracy: 0.8468634686346863\n",
      "Training Loss: 0.8111916780471802\n",
      "GCN Epoch 136, Loss: 0.8111916780471802, Accuracy: 0.8505535055350554\n",
      "Training Loss: 0.7933908700942993\n",
      "GCN Epoch 137, Loss: 0.7933908700942993, Accuracy: 0.8560885608856088\n",
      "Training Loss: 0.7972061038017273\n",
      "GCN Epoch 138, Loss: 0.7972061038017273, Accuracy: 0.8634686346863468\n",
      "Training Loss: 0.8020565509796143\n",
      "GCN Epoch 139, Loss: 0.8020565509796143, Accuracy: 0.8671586715867159\n",
      "Training Loss: 0.7895322442054749\n",
      "GCN Epoch 140, Loss: 0.7895322442054749, Accuracy: 0.8690036900369004\n",
      "Training Loss: 0.794357419013977\n",
      "GCN Epoch 141, Loss: 0.794357419013977, Accuracy: 0.8690036900369004\n",
      "Training Loss: 0.8084546327590942\n",
      "GCN Epoch 142, Loss: 0.8084546327590942, Accuracy: 0.8690036900369004\n",
      "Training Loss: 0.7739232778549194\n",
      "GCN Epoch 143, Loss: 0.7739232778549194, Accuracy: 0.8690036900369004\n",
      "Training Loss: 0.7729418277740479\n",
      "GCN Epoch 144, Loss: 0.7729418277740479, Accuracy: 0.8690036900369004\n",
      "Training Loss: 0.7815009951591492\n",
      "GCN Epoch 145, Loss: 0.7815009951591492, Accuracy: 0.8653136531365314\n",
      "Training Loss: 0.7689440846443176\n",
      "GCN Epoch 146, Loss: 0.7689440846443176, Accuracy: 0.8653136531365314\n",
      "Training Loss: 0.7793951034545898\n",
      "GCN Epoch 147, Loss: 0.7793951034545898, Accuracy: 0.8671586715867159\n",
      "Training Loss: 0.77409428358078\n",
      "GCN Epoch 148, Loss: 0.77409428358078, Accuracy: 0.8671586715867159\n",
      "Training Loss: 0.7679576277732849\n",
      "GCN Epoch 149, Loss: 0.7679576277732849, Accuracy: 0.8690036900369004\n",
      "Training Loss: 0.7552986145019531\n",
      "GCN Epoch 150, Loss: 0.7552986145019531, Accuracy: 0.8745387453874539\n",
      "Training Loss: 0.7445629239082336\n",
      "GCN Epoch 151, Loss: 0.7445629239082336, Accuracy: 0.8726937269372693\n",
      "Training Loss: 0.731132447719574\n",
      "GCN Epoch 152, Loss: 0.731132447719574, Accuracy: 0.8745387453874539\n",
      "Training Loss: 0.7604528069496155\n",
      "GCN Epoch 153, Loss: 0.7604528069496155, Accuracy: 0.8726937269372693\n",
      "Training Loss: 0.7687082290649414\n",
      "GCN Epoch 154, Loss: 0.7687082290649414, Accuracy: 0.8726937269372693\n",
      "Training Loss: 0.7530337572097778\n",
      "GCN Epoch 155, Loss: 0.7530337572097778, Accuracy: 0.8708487084870848\n",
      "Training Loss: 0.7716454863548279\n",
      "GCN Epoch 156, Loss: 0.7716454863548279, Accuracy: 0.8708487084870848\n",
      "Training Loss: 0.7705103158950806\n",
      "GCN Epoch 157, Loss: 0.7705103158950806, Accuracy: 0.8745387453874539\n",
      "Training Loss: 0.7471874952316284\n",
      "GCN Epoch 158, Loss: 0.7471874952316284, Accuracy: 0.8745387453874539\n",
      "Training Loss: 0.734439492225647\n",
      "GCN Epoch 159, Loss: 0.734439492225647, Accuracy: 0.8745387453874539\n",
      "Training Loss: 0.7468690872192383\n",
      "GCN Epoch 160, Loss: 0.7468690872192383, Accuracy: 0.8745387453874539\n",
      "Training Loss: 0.7545332908630371\n",
      "GCN Epoch 161, Loss: 0.7545332908630371, Accuracy: 0.8745387453874539\n",
      "Training Loss: 0.7533864974975586\n",
      "GCN Epoch 162, Loss: 0.7533864974975586, Accuracy: 0.8745387453874539\n",
      "Training Loss: 0.722571611404419\n",
      "GCN Epoch 163, Loss: 0.722571611404419, Accuracy: 0.8745387453874539\n",
      "Training Loss: 0.7374274134635925\n",
      "GCN Epoch 164, Loss: 0.7374274134635925, Accuracy: 0.8745387453874539\n",
      "Training Loss: 0.7241024971008301\n",
      "GCN Epoch 165, Loss: 0.7241024971008301, Accuracy: 0.8726937269372693\n",
      "Training Loss: 0.7379930019378662\n",
      "GCN Epoch 166, Loss: 0.7379930019378662, Accuracy: 0.8726937269372693\n",
      "Training Loss: 0.7442032098770142\n",
      "GCN Epoch 167, Loss: 0.7442032098770142, Accuracy: 0.8726937269372693\n",
      "Training Loss: 0.7244125604629517\n",
      "GCN Epoch 168, Loss: 0.7244125604629517, Accuracy: 0.8726937269372693\n",
      "Training Loss: 0.7556326389312744\n",
      "GCN Epoch 169, Loss: 0.7556326389312744, Accuracy: 0.8726937269372693\n",
      "Training Loss: 0.7479861378669739\n",
      "GCN Epoch 170, Loss: 0.7479861378669739, Accuracy: 0.8726937269372693\n",
      "Training Loss: 0.7348703742027283\n",
      "GCN Epoch 171, Loss: 0.7348703742027283, Accuracy: 0.8726937269372693\n",
      "Training Loss: 0.7295514941215515\n",
      "GCN Epoch 172, Loss: 0.7295514941215515, Accuracy: 0.8726937269372693\n",
      "Training Loss: 0.7480230331420898\n",
      "GCN Epoch 173, Loss: 0.7480230331420898, Accuracy: 0.8726937269372693\n",
      "Training Loss: 0.7425137758255005\n",
      "GCN Epoch 174, Loss: 0.7425137758255005, Accuracy: 0.8726937269372693\n",
      "Training Loss: 0.7518633008003235\n",
      "GCN Epoch 175, Loss: 0.7518633008003235, Accuracy: 0.8726937269372693\n",
      "Training Loss: 0.751398503780365\n",
      "GCN Epoch 176, Loss: 0.751398503780365, Accuracy: 0.8726937269372693\n",
      "Training Loss: 0.7492452263832092\n",
      "GCN Epoch 177, Loss: 0.7492452263832092, Accuracy: 0.8726937269372693\n",
      "Training Loss: 0.7235009074211121\n",
      "GCN Epoch 178, Loss: 0.7235009074211121, Accuracy: 0.8726937269372693\n",
      "Training Loss: 0.7601909041404724\n",
      "GCN Epoch 179, Loss: 0.7601909041404724, Accuracy: 0.8726937269372693\n",
      "Training Loss: 0.7433624863624573\n",
      "GCN Epoch 180, Loss: 0.7433624863624573, Accuracy: 0.8726937269372693\n",
      "Training Loss: 0.7437666654586792\n",
      "GCN Epoch 181, Loss: 0.7437666654586792, Accuracy: 0.8726937269372693\n",
      "Training Loss: 0.748136043548584\n",
      "GCN Epoch 182, Loss: 0.748136043548584, Accuracy: 0.8726937269372693\n",
      "Training Loss: 0.7529751062393188\n",
      "GCN Epoch 183, Loss: 0.7529751062393188, Accuracy: 0.8726937269372693\n",
      "Training Loss: 0.7173225283622742\n",
      "GCN Epoch 184, Loss: 0.7173225283622742, Accuracy: 0.8726937269372693\n",
      "Training Loss: 0.7336205840110779\n",
      "GCN Epoch 185, Loss: 0.7336205840110779, Accuracy: 0.8726937269372693\n",
      "Training Loss: 0.7426260709762573\n",
      "GCN Epoch 186, Loss: 0.7426260709762573, Accuracy: 0.8726937269372693\n",
      "Training Loss: 0.7445005178451538\n",
      "GCN Epoch 187, Loss: 0.7445005178451538, Accuracy: 0.8726937269372693\n",
      "Training Loss: 0.7370620965957642\n",
      "GCN Epoch 188, Loss: 0.7370620965957642, Accuracy: 0.8726937269372693\n",
      "Training Loss: 0.7215445637702942\n",
      "GCN Epoch 189, Loss: 0.7215445637702942, Accuracy: 0.8726937269372693\n",
      "Training Loss: 0.7304781675338745\n",
      "GCN Epoch 190, Loss: 0.7304781675338745, Accuracy: 0.8726937269372693\n",
      "Training Loss: 0.7435524463653564\n",
      "GCN Epoch 191, Loss: 0.7435524463653564, Accuracy: 0.8726937269372693\n",
      "Training Loss: 0.7177416682243347\n",
      "GCN Epoch 192, Loss: 0.7177416682243347, Accuracy: 0.8726937269372693\n",
      "Training Loss: 0.7414224147796631\n",
      "GCN Epoch 193, Loss: 0.7414224147796631, Accuracy: 0.8726937269372693\n",
      "Training Loss: 0.7317761778831482\n",
      "GCN Epoch 194, Loss: 0.7317761778831482, Accuracy: 0.8726937269372693\n",
      "Training Loss: 0.726711094379425\n",
      "GCN Epoch 195, Loss: 0.726711094379425, Accuracy: 0.8726937269372693\n",
      "Training Loss: 0.7290673851966858\n",
      "GCN Epoch 196, Loss: 0.7290673851966858, Accuracy: 0.8726937269372693\n",
      "Training Loss: 0.7158960700035095\n",
      "GCN Epoch 197, Loss: 0.7158960700035095, Accuracy: 0.8726937269372693\n",
      "Training Loss: 0.7403147220611572\n",
      "GCN Epoch 198, Loss: 0.7403147220611572, Accuracy: 0.8726937269372693\n",
      "Training Loss: 1.9252526760101318\n",
      "GraphSAGE Epoch 0, Loss: 1.9252526760101318, Accuracy: 0.14206642066420663\n",
      "Training Loss: 1.9167892932891846\n",
      "GraphSAGE Epoch 1, Loss: 1.9167892932891846, Accuracy: 0.4022140221402214\n",
      "Training Loss: 1.908328652381897\n",
      "GraphSAGE Epoch 2, Loss: 1.908328652381897, Accuracy: 0.3210332103321033\n",
      "Training Loss: 1.8976142406463623\n"
     ]
    },
    {
     "name": "stderr",
     "output_type": "stream",
     "text": [
      "/Users/visheshyadav/anaconda3/lib/python3.11/site-packages/sklearn/metrics/_classification.py:1531: UndefinedMetricWarning:\n",
      "\n",
      "Precision is ill-defined and being set to 0.0 in labels with no predicted samples. Use `zero_division` parameter to control this behavior.\n",
      "\n",
      "/var/folders/yf/20z1hn994jd04q4kl0gpgh740000gn/T/ipykernel_88315/4155612595.py:129: RuntimeWarning:\n",
      "\n",
      "invalid value encountered in divide\n",
      "\n",
      "/Users/visheshyadav/anaconda3/lib/python3.11/site-packages/sklearn/metrics/_classification.py:1531: UndefinedMetricWarning:\n",
      "\n",
      "Precision is ill-defined and being set to 0.0 in labels with no predicted samples. Use `zero_division` parameter to control this behavior.\n",
      "\n",
      "/var/folders/yf/20z1hn994jd04q4kl0gpgh740000gn/T/ipykernel_88315/4155612595.py:129: RuntimeWarning:\n",
      "\n",
      "invalid value encountered in divide\n",
      "\n",
      "/Users/visheshyadav/anaconda3/lib/python3.11/site-packages/sklearn/metrics/_classification.py:1531: UndefinedMetricWarning:\n",
      "\n",
      "Precision is ill-defined and being set to 0.0 in labels with no predicted samples. Use `zero_division` parameter to control this behavior.\n",
      "\n",
      "/var/folders/yf/20z1hn994jd04q4kl0gpgh740000gn/T/ipykernel_88315/4155612595.py:129: RuntimeWarning:\n",
      "\n",
      "invalid value encountered in divide\n",
      "\n",
      "/Users/visheshyadav/anaconda3/lib/python3.11/site-packages/sklearn/metrics/_classification.py:1531: UndefinedMetricWarning:\n",
      "\n",
      "Precision is ill-defined and being set to 0.0 in labels with no predicted samples. Use `zero_division` parameter to control this behavior.\n",
      "\n",
      "/var/folders/yf/20z1hn994jd04q4kl0gpgh740000gn/T/ipykernel_88315/4155612595.py:129: RuntimeWarning:\n",
      "\n",
      "invalid value encountered in divide\n",
      "\n",
      "/Users/visheshyadav/anaconda3/lib/python3.11/site-packages/sklearn/metrics/_classification.py:1531: UndefinedMetricWarning:\n",
      "\n",
      "Precision is ill-defined and being set to 0.0 in labels with no predicted samples. Use `zero_division` parameter to control this behavior.\n",
      "\n",
      "/var/folders/yf/20z1hn994jd04q4kl0gpgh740000gn/T/ipykernel_88315/4155612595.py:129: RuntimeWarning:\n",
      "\n",
      "invalid value encountered in divide\n",
      "\n"
     ]
    },
    {
     "name": "stdout",
     "output_type": "stream",
     "text": [
      "GraphSAGE Epoch 3, Loss: 1.8976142406463623, Accuracy: 0.3173431734317343\n",
      "Training Loss: 1.8860161304473877\n",
      "GraphSAGE Epoch 4, Loss: 1.8860161304473877, Accuracy: 0.3173431734317343\n",
      "Training Loss: 1.8709428310394287\n",
      "GraphSAGE Epoch 5, Loss: 1.8709428310394287, Accuracy: 0.3173431734317343\n",
      "Training Loss: 1.8573906421661377\n",
      "GraphSAGE Epoch 6, Loss: 1.8573906421661377, Accuracy: 0.3173431734317343\n",
      "Training Loss: 1.844401240348816\n",
      "GraphSAGE Epoch 7, Loss: 1.844401240348816, Accuracy: 0.3173431734317343\n",
      "Training Loss: 1.8246537446975708\n"
     ]
    },
    {
     "name": "stderr",
     "output_type": "stream",
     "text": [
      "/Users/visheshyadav/anaconda3/lib/python3.11/site-packages/sklearn/metrics/_classification.py:1531: UndefinedMetricWarning:\n",
      "\n",
      "Precision is ill-defined and being set to 0.0 in labels with no predicted samples. Use `zero_division` parameter to control this behavior.\n",
      "\n",
      "/var/folders/yf/20z1hn994jd04q4kl0gpgh740000gn/T/ipykernel_88315/4155612595.py:129: RuntimeWarning:\n",
      "\n",
      "invalid value encountered in divide\n",
      "\n",
      "/Users/visheshyadav/anaconda3/lib/python3.11/site-packages/sklearn/metrics/_classification.py:1531: UndefinedMetricWarning:\n",
      "\n",
      "Precision is ill-defined and being set to 0.0 in labels with no predicted samples. Use `zero_division` parameter to control this behavior.\n",
      "\n",
      "/var/folders/yf/20z1hn994jd04q4kl0gpgh740000gn/T/ipykernel_88315/4155612595.py:129: RuntimeWarning:\n",
      "\n",
      "invalid value encountered in divide\n",
      "\n",
      "/Users/visheshyadav/anaconda3/lib/python3.11/site-packages/sklearn/metrics/_classification.py:1531: UndefinedMetricWarning:\n",
      "\n",
      "Precision is ill-defined and being set to 0.0 in labels with no predicted samples. Use `zero_division` parameter to control this behavior.\n",
      "\n",
      "/var/folders/yf/20z1hn994jd04q4kl0gpgh740000gn/T/ipykernel_88315/4155612595.py:129: RuntimeWarning:\n",
      "\n",
      "invalid value encountered in divide\n",
      "\n",
      "/Users/visheshyadav/anaconda3/lib/python3.11/site-packages/sklearn/metrics/_classification.py:1531: UndefinedMetricWarning:\n",
      "\n",
      "Precision is ill-defined and being set to 0.0 in labels with no predicted samples. Use `zero_division` parameter to control this behavior.\n",
      "\n",
      "/var/folders/yf/20z1hn994jd04q4kl0gpgh740000gn/T/ipykernel_88315/4155612595.py:129: RuntimeWarning:\n",
      "\n",
      "invalid value encountered in divide\n",
      "\n",
      "/Users/visheshyadav/anaconda3/lib/python3.11/site-packages/sklearn/metrics/_classification.py:1531: UndefinedMetricWarning:\n",
      "\n",
      "Precision is ill-defined and being set to 0.0 in labels with no predicted samples. Use `zero_division` parameter to control this behavior.\n",
      "\n",
      "/var/folders/yf/20z1hn994jd04q4kl0gpgh740000gn/T/ipykernel_88315/4155612595.py:129: RuntimeWarning:\n",
      "\n",
      "invalid value encountered in divide\n",
      "\n"
     ]
    },
    {
     "name": "stdout",
     "output_type": "stream",
     "text": [
      "GraphSAGE Epoch 8, Loss: 1.8246537446975708, Accuracy: 0.3173431734317343\n",
      "Training Loss: 1.8056873083114624\n",
      "GraphSAGE Epoch 9, Loss: 1.8056873083114624, Accuracy: 0.3173431734317343\n",
      "Training Loss: 1.7892043590545654\n",
      "GraphSAGE Epoch 10, Loss: 1.7892043590545654, Accuracy: 0.3173431734317343\n",
      "Training Loss: 1.7651419639587402\n",
      "GraphSAGE Epoch 11, Loss: 1.7651419639587402, Accuracy: 0.3173431734317343\n",
      "Training Loss: 1.7471445798873901\n",
      "GraphSAGE Epoch 12, Loss: 1.7471445798873901, Accuracy: 0.3173431734317343\n",
      "Training Loss: 1.7293790578842163\n"
     ]
    },
    {
     "name": "stderr",
     "output_type": "stream",
     "text": [
      "/Users/visheshyadav/anaconda3/lib/python3.11/site-packages/sklearn/metrics/_classification.py:1531: UndefinedMetricWarning:\n",
      "\n",
      "Precision is ill-defined and being set to 0.0 in labels with no predicted samples. Use `zero_division` parameter to control this behavior.\n",
      "\n",
      "/var/folders/yf/20z1hn994jd04q4kl0gpgh740000gn/T/ipykernel_88315/4155612595.py:129: RuntimeWarning:\n",
      "\n",
      "invalid value encountered in divide\n",
      "\n",
      "/Users/visheshyadav/anaconda3/lib/python3.11/site-packages/sklearn/metrics/_classification.py:1531: UndefinedMetricWarning:\n",
      "\n",
      "Precision is ill-defined and being set to 0.0 in labels with no predicted samples. Use `zero_division` parameter to control this behavior.\n",
      "\n",
      "/var/folders/yf/20z1hn994jd04q4kl0gpgh740000gn/T/ipykernel_88315/4155612595.py:129: RuntimeWarning:\n",
      "\n",
      "invalid value encountered in divide\n",
      "\n",
      "/Users/visheshyadav/anaconda3/lib/python3.11/site-packages/sklearn/metrics/_classification.py:1531: UndefinedMetricWarning:\n",
      "\n",
      "Precision is ill-defined and being set to 0.0 in labels with no predicted samples. Use `zero_division` parameter to control this behavior.\n",
      "\n",
      "/var/folders/yf/20z1hn994jd04q4kl0gpgh740000gn/T/ipykernel_88315/4155612595.py:129: RuntimeWarning:\n",
      "\n",
      "invalid value encountered in divide\n",
      "\n",
      "/Users/visheshyadav/anaconda3/lib/python3.11/site-packages/sklearn/metrics/_classification.py:1531: UndefinedMetricWarning:\n",
      "\n",
      "Precision is ill-defined and being set to 0.0 in labels with no predicted samples. Use `zero_division` parameter to control this behavior.\n",
      "\n",
      "/var/folders/yf/20z1hn994jd04q4kl0gpgh740000gn/T/ipykernel_88315/4155612595.py:129: RuntimeWarning:\n",
      "\n",
      "invalid value encountered in divide\n",
      "\n",
      "/Users/visheshyadav/anaconda3/lib/python3.11/site-packages/sklearn/metrics/_classification.py:1531: UndefinedMetricWarning:\n",
      "\n",
      "Precision is ill-defined and being set to 0.0 in labels with no predicted samples. Use `zero_division` parameter to control this behavior.\n",
      "\n",
      "/var/folders/yf/20z1hn994jd04q4kl0gpgh740000gn/T/ipykernel_88315/4155612595.py:129: RuntimeWarning:\n",
      "\n",
      "invalid value encountered in divide\n",
      "\n"
     ]
    },
    {
     "name": "stdout",
     "output_type": "stream",
     "text": [
      "GraphSAGE Epoch 13, Loss: 1.7293790578842163, Accuracy: 0.3173431734317343\n",
      "Training Loss: 1.712727665901184\n",
      "GraphSAGE Epoch 14, Loss: 1.712727665901184, Accuracy: 0.3247232472324723\n",
      "Training Loss: 1.6810252666473389\n",
      "GraphSAGE Epoch 15, Loss: 1.6810252666473389, Accuracy: 0.33210332103321033\n",
      "Training Loss: 1.6752070188522339\n",
      "GraphSAGE Epoch 16, Loss: 1.6752070188522339, Accuracy: 0.3376383763837638\n",
      "Training Loss: 1.6496789455413818\n",
      "GraphSAGE Epoch 17, Loss: 1.6496789455413818, Accuracy: 0.34501845018450183\n",
      "Training Loss: 1.6192851066589355\n"
     ]
    },
    {
     "name": "stderr",
     "output_type": "stream",
     "text": [
      "/Users/visheshyadav/anaconda3/lib/python3.11/site-packages/sklearn/metrics/_classification.py:1531: UndefinedMetricWarning:\n",
      "\n",
      "Precision is ill-defined and being set to 0.0 in labels with no predicted samples. Use `zero_division` parameter to control this behavior.\n",
      "\n",
      "/var/folders/yf/20z1hn994jd04q4kl0gpgh740000gn/T/ipykernel_88315/4155612595.py:129: RuntimeWarning:\n",
      "\n",
      "invalid value encountered in divide\n",
      "\n",
      "/Users/visheshyadav/anaconda3/lib/python3.11/site-packages/sklearn/metrics/_classification.py:1531: UndefinedMetricWarning:\n",
      "\n",
      "Precision is ill-defined and being set to 0.0 in labels with no predicted samples. Use `zero_division` parameter to control this behavior.\n",
      "\n",
      "/var/folders/yf/20z1hn994jd04q4kl0gpgh740000gn/T/ipykernel_88315/4155612595.py:129: RuntimeWarning:\n",
      "\n",
      "invalid value encountered in divide\n",
      "\n",
      "/Users/visheshyadav/anaconda3/lib/python3.11/site-packages/sklearn/metrics/_classification.py:1531: UndefinedMetricWarning:\n",
      "\n",
      "Precision is ill-defined and being set to 0.0 in labels with no predicted samples. Use `zero_division` parameter to control this behavior.\n",
      "\n",
      "/var/folders/yf/20z1hn994jd04q4kl0gpgh740000gn/T/ipykernel_88315/4155612595.py:129: RuntimeWarning:\n",
      "\n",
      "invalid value encountered in divide\n",
      "\n",
      "/Users/visheshyadav/anaconda3/lib/python3.11/site-packages/sklearn/metrics/_classification.py:1531: UndefinedMetricWarning:\n",
      "\n",
      "Precision is ill-defined and being set to 0.0 in labels with no predicted samples. Use `zero_division` parameter to control this behavior.\n",
      "\n",
      "/var/folders/yf/20z1hn994jd04q4kl0gpgh740000gn/T/ipykernel_88315/4155612595.py:129: RuntimeWarning:\n",
      "\n",
      "invalid value encountered in divide\n",
      "\n",
      "/Users/visheshyadav/anaconda3/lib/python3.11/site-packages/sklearn/metrics/_classification.py:1531: UndefinedMetricWarning:\n",
      "\n",
      "Precision is ill-defined and being set to 0.0 in labels with no predicted samples. Use `zero_division` parameter to control this behavior.\n",
      "\n",
      "/var/folders/yf/20z1hn994jd04q4kl0gpgh740000gn/T/ipykernel_88315/4155612595.py:129: RuntimeWarning:\n",
      "\n",
      "invalid value encountered in divide\n",
      "\n"
     ]
    },
    {
     "name": "stdout",
     "output_type": "stream",
     "text": [
      "GraphSAGE Epoch 18, Loss: 1.6192851066589355, Accuracy: 0.36162361623616235\n",
      "Training Loss: 1.5941241979599\n",
      "GraphSAGE Epoch 19, Loss: 1.5941241979599, Accuracy: 0.37822878228782286\n",
      "Training Loss: 1.571894645690918\n",
      "GraphSAGE Epoch 20, Loss: 1.571894645690918, Accuracy: 0.42066420664206644\n",
      "Training Loss: 1.5390520095825195\n",
      "GraphSAGE Epoch 21, Loss: 1.5390520095825195, Accuracy: 0.45940959409594095\n",
      "Training Loss: 1.508965015411377\n",
      "GraphSAGE Epoch 22, Loss: 1.508965015411377, Accuracy: 0.4833948339483395\n"
     ]
    },
    {
     "name": "stderr",
     "output_type": "stream",
     "text": [
      "/Users/visheshyadav/anaconda3/lib/python3.11/site-packages/sklearn/metrics/_classification.py:1531: UndefinedMetricWarning:\n",
      "\n",
      "Precision is ill-defined and being set to 0.0 in labels with no predicted samples. Use `zero_division` parameter to control this behavior.\n",
      "\n",
      "/var/folders/yf/20z1hn994jd04q4kl0gpgh740000gn/T/ipykernel_88315/4155612595.py:129: RuntimeWarning:\n",
      "\n",
      "invalid value encountered in divide\n",
      "\n",
      "/Users/visheshyadav/anaconda3/lib/python3.11/site-packages/sklearn/metrics/_classification.py:1531: UndefinedMetricWarning:\n",
      "\n",
      "Precision is ill-defined and being set to 0.0 in labels with no predicted samples. Use `zero_division` parameter to control this behavior.\n",
      "\n",
      "/var/folders/yf/20z1hn994jd04q4kl0gpgh740000gn/T/ipykernel_88315/4155612595.py:129: RuntimeWarning:\n",
      "\n",
      "invalid value encountered in divide\n",
      "\n",
      "/Users/visheshyadav/anaconda3/lib/python3.11/site-packages/sklearn/metrics/_classification.py:1531: UndefinedMetricWarning:\n",
      "\n",
      "Precision is ill-defined and being set to 0.0 in labels with no predicted samples. Use `zero_division` parameter to control this behavior.\n",
      "\n",
      "/var/folders/yf/20z1hn994jd04q4kl0gpgh740000gn/T/ipykernel_88315/4155612595.py:129: RuntimeWarning:\n",
      "\n",
      "invalid value encountered in divide\n",
      "\n",
      "/Users/visheshyadav/anaconda3/lib/python3.11/site-packages/sklearn/metrics/_classification.py:1531: UndefinedMetricWarning:\n",
      "\n",
      "Precision is ill-defined and being set to 0.0 in labels with no predicted samples. Use `zero_division` parameter to control this behavior.\n",
      "\n",
      "/var/folders/yf/20z1hn994jd04q4kl0gpgh740000gn/T/ipykernel_88315/4155612595.py:129: RuntimeWarning:\n",
      "\n",
      "invalid value encountered in divide\n",
      "\n",
      "/Users/visheshyadav/anaconda3/lib/python3.11/site-packages/sklearn/metrics/_classification.py:1531: UndefinedMetricWarning:\n",
      "\n",
      "Precision is ill-defined and being set to 0.0 in labels with no predicted samples. Use `zero_division` parameter to control this behavior.\n",
      "\n",
      "/var/folders/yf/20z1hn994jd04q4kl0gpgh740000gn/T/ipykernel_88315/4155612595.py:129: RuntimeWarning:\n",
      "\n",
      "invalid value encountered in divide\n",
      "\n"
     ]
    },
    {
     "name": "stdout",
     "output_type": "stream",
     "text": [
      "Training Loss: 1.4808775186538696\n",
      "GraphSAGE Epoch 23, Loss: 1.4808775186538696, Accuracy: 0.503690036900369\n",
      "Training Loss: 1.4505215883255005\n",
      "GraphSAGE Epoch 24, Loss: 1.4505215883255005, Accuracy: 0.533210332103321\n",
      "Training Loss: 1.4249610900878906\n",
      "GraphSAGE Epoch 25, Loss: 1.4249610900878906, Accuracy: 0.5535055350553506\n",
      "Training Loss: 1.400628685951233\n",
      "GraphSAGE Epoch 26, Loss: 1.400628685951233, Accuracy: 0.5719557195571956\n",
      "Training Loss: 1.3733105659484863\n"
     ]
    },
    {
     "name": "stderr",
     "output_type": "stream",
     "text": [
      "/Users/visheshyadav/anaconda3/lib/python3.11/site-packages/sklearn/metrics/_classification.py:1531: UndefinedMetricWarning:\n",
      "\n",
      "Precision is ill-defined and being set to 0.0 in labels with no predicted samples. Use `zero_division` parameter to control this behavior.\n",
      "\n",
      "/var/folders/yf/20z1hn994jd04q4kl0gpgh740000gn/T/ipykernel_88315/4155612595.py:129: RuntimeWarning:\n",
      "\n",
      "invalid value encountered in divide\n",
      "\n",
      "/Users/visheshyadav/anaconda3/lib/python3.11/site-packages/sklearn/metrics/_classification.py:1531: UndefinedMetricWarning:\n",
      "\n",
      "Precision is ill-defined and being set to 0.0 in labels with no predicted samples. Use `zero_division` parameter to control this behavior.\n",
      "\n",
      "/var/folders/yf/20z1hn994jd04q4kl0gpgh740000gn/T/ipykernel_88315/4155612595.py:129: RuntimeWarning:\n",
      "\n",
      "invalid value encountered in divide\n",
      "\n",
      "/Users/visheshyadav/anaconda3/lib/python3.11/site-packages/sklearn/metrics/_classification.py:1531: UndefinedMetricWarning:\n",
      "\n",
      "Precision is ill-defined and being set to 0.0 in labels with no predicted samples. Use `zero_division` parameter to control this behavior.\n",
      "\n",
      "/var/folders/yf/20z1hn994jd04q4kl0gpgh740000gn/T/ipykernel_88315/4155612595.py:129: RuntimeWarning:\n",
      "\n",
      "invalid value encountered in divide\n",
      "\n",
      "/Users/visheshyadav/anaconda3/lib/python3.11/site-packages/sklearn/metrics/_classification.py:1531: UndefinedMetricWarning:\n",
      "\n",
      "Precision is ill-defined and being set to 0.0 in labels with no predicted samples. Use `zero_division` parameter to control this behavior.\n",
      "\n",
      "/var/folders/yf/20z1hn994jd04q4kl0gpgh740000gn/T/ipykernel_88315/4155612595.py:129: RuntimeWarning:\n",
      "\n",
      "invalid value encountered in divide\n",
      "\n",
      "/Users/visheshyadav/anaconda3/lib/python3.11/site-packages/sklearn/metrics/_classification.py:1531: UndefinedMetricWarning:\n",
      "\n",
      "Precision is ill-defined and being set to 0.0 in labels with no predicted samples. Use `zero_division` parameter to control this behavior.\n",
      "\n"
     ]
    },
    {
     "name": "stdout",
     "output_type": "stream",
     "text": [
      "GraphSAGE Epoch 27, Loss: 1.3733105659484863, Accuracy: 0.5885608856088561\n",
      "Training Loss: 1.3266807794570923\n",
      "GraphSAGE Epoch 28, Loss: 1.3266807794570923, Accuracy: 0.5977859778597786\n",
      "Training Loss: 1.3319514989852905\n",
      "GraphSAGE Epoch 29, Loss: 1.3319514989852905, Accuracy: 0.6107011070110702\n",
      "Training Loss: 1.276120662689209\n",
      "GraphSAGE Epoch 30, Loss: 1.276120662689209, Accuracy: 0.6217712177121771\n",
      "Training Loss: 1.2453066110610962\n",
      "GraphSAGE Epoch 31, Loss: 1.2453066110610962, Accuracy: 0.6383763837638377\n"
     ]
    },
    {
     "name": "stderr",
     "output_type": "stream",
     "text": [
      "/var/folders/yf/20z1hn994jd04q4kl0gpgh740000gn/T/ipykernel_88315/4155612595.py:129: RuntimeWarning:\n",
      "\n",
      "invalid value encountered in divide\n",
      "\n",
      "/Users/visheshyadav/anaconda3/lib/python3.11/site-packages/sklearn/metrics/_classification.py:1531: UndefinedMetricWarning:\n",
      "\n",
      "Precision is ill-defined and being set to 0.0 in labels with no predicted samples. Use `zero_division` parameter to control this behavior.\n",
      "\n",
      "/var/folders/yf/20z1hn994jd04q4kl0gpgh740000gn/T/ipykernel_88315/4155612595.py:129: RuntimeWarning:\n",
      "\n",
      "invalid value encountered in divide\n",
      "\n",
      "/Users/visheshyadav/anaconda3/lib/python3.11/site-packages/sklearn/metrics/_classification.py:1531: UndefinedMetricWarning:\n",
      "\n",
      "Precision is ill-defined and being set to 0.0 in labels with no predicted samples. Use `zero_division` parameter to control this behavior.\n",
      "\n",
      "/var/folders/yf/20z1hn994jd04q4kl0gpgh740000gn/T/ipykernel_88315/4155612595.py:129: RuntimeWarning:\n",
      "\n",
      "invalid value encountered in divide\n",
      "\n",
      "/Users/visheshyadav/anaconda3/lib/python3.11/site-packages/sklearn/metrics/_classification.py:1531: UndefinedMetricWarning:\n",
      "\n",
      "Precision is ill-defined and being set to 0.0 in labels with no predicted samples. Use `zero_division` parameter to control this behavior.\n",
      "\n"
     ]
    },
    {
     "name": "stdout",
     "output_type": "stream",
     "text": [
      "Training Loss: 1.1967514753341675\n",
      "GraphSAGE Epoch 32, Loss: 1.1967514753341675, Accuracy: 0.6623616236162362\n",
      "Training Loss: 1.185434103012085\n",
      "GraphSAGE Epoch 33, Loss: 1.185434103012085, Accuracy: 0.6734317343173432\n",
      "Training Loss: 1.1614621877670288\n",
      "GraphSAGE Epoch 34, Loss: 1.1614621877670288, Accuracy: 0.6918819188191881\n",
      "Training Loss: 1.1444722414016724\n",
      "GraphSAGE Epoch 35, Loss: 1.1444722414016724, Accuracy: 0.7011070110701108\n"
     ]
    },
    {
     "name": "stderr",
     "output_type": "stream",
     "text": [
      "/var/folders/yf/20z1hn994jd04q4kl0gpgh740000gn/T/ipykernel_88315/4155612595.py:129: RuntimeWarning:\n",
      "\n",
      "invalid value encountered in divide\n",
      "\n",
      "/Users/visheshyadav/anaconda3/lib/python3.11/site-packages/sklearn/metrics/_classification.py:1531: UndefinedMetricWarning:\n",
      "\n",
      "Precision is ill-defined and being set to 0.0 in labels with no predicted samples. Use `zero_division` parameter to control this behavior.\n",
      "\n",
      "/var/folders/yf/20z1hn994jd04q4kl0gpgh740000gn/T/ipykernel_88315/4155612595.py:129: RuntimeWarning:\n",
      "\n",
      "invalid value encountered in divide\n",
      "\n",
      "/Users/visheshyadav/anaconda3/lib/python3.11/site-packages/sklearn/metrics/_classification.py:1531: UndefinedMetricWarning:\n",
      "\n",
      "Precision is ill-defined and being set to 0.0 in labels with no predicted samples. Use `zero_division` parameter to control this behavior.\n",
      "\n",
      "/var/folders/yf/20z1hn994jd04q4kl0gpgh740000gn/T/ipykernel_88315/4155612595.py:129: RuntimeWarning:\n",
      "\n",
      "invalid value encountered in divide\n",
      "\n",
      "/Users/visheshyadav/anaconda3/lib/python3.11/site-packages/sklearn/metrics/_classification.py:1531: UndefinedMetricWarning:\n",
      "\n",
      "Precision is ill-defined and being set to 0.0 in labels with no predicted samples. Use `zero_division` parameter to control this behavior.\n",
      "\n",
      "/var/folders/yf/20z1hn994jd04q4kl0gpgh740000gn/T/ipykernel_88315/4155612595.py:129: RuntimeWarning:\n",
      "\n",
      "invalid value encountered in divide\n",
      "\n",
      "/Users/visheshyadav/anaconda3/lib/python3.11/site-packages/sklearn/metrics/_classification.py:1531: UndefinedMetricWarning:\n",
      "\n",
      "Precision is ill-defined and being set to 0.0 in labels with no predicted samples. Use `zero_division` parameter to control this behavior.\n",
      "\n",
      "/var/folders/yf/20z1hn994jd04q4kl0gpgh740000gn/T/ipykernel_88315/4155612595.py:129: RuntimeWarning:\n",
      "\n",
      "invalid value encountered in divide\n",
      "\n"
     ]
    },
    {
     "name": "stdout",
     "output_type": "stream",
     "text": [
      "Training Loss: 1.1146267652511597\n",
      "GraphSAGE Epoch 36, Loss: 1.1146267652511597, Accuracy: 0.7029520295202952\n",
      "Training Loss: 1.0836045742034912\n",
      "GraphSAGE Epoch 37, Loss: 1.0836045742034912, Accuracy: 0.7177121771217713\n",
      "Training Loss: 1.0737717151641846\n",
      "GraphSAGE Epoch 38, Loss: 1.0737717151641846, Accuracy: 0.7361623616236163\n",
      "Training Loss: 1.00612211227417\n",
      "GraphSAGE Epoch 39, Loss: 1.00612211227417, Accuracy: 0.7527675276752768\n",
      "Training Loss: 1.0298657417297363\n"
     ]
    },
    {
     "name": "stderr",
     "output_type": "stream",
     "text": [
      "/Users/visheshyadav/anaconda3/lib/python3.11/site-packages/sklearn/metrics/_classification.py:1531: UndefinedMetricWarning:\n",
      "\n",
      "Precision is ill-defined and being set to 0.0 in labels with no predicted samples. Use `zero_division` parameter to control this behavior.\n",
      "\n",
      "/var/folders/yf/20z1hn994jd04q4kl0gpgh740000gn/T/ipykernel_88315/4155612595.py:129: RuntimeWarning:\n",
      "\n",
      "invalid value encountered in divide\n",
      "\n"
     ]
    },
    {
     "name": "stdout",
     "output_type": "stream",
     "text": [
      "GraphSAGE Epoch 40, Loss: 1.0298657417297363, Accuracy: 0.7619926199261993\n",
      "Training Loss: 0.9953438639640808\n",
      "GraphSAGE Epoch 41, Loss: 0.9953438639640808, Accuracy: 0.7822878228782287\n",
      "Training Loss: 0.9500765204429626\n",
      "GraphSAGE Epoch 42, Loss: 0.9500765204429626, Accuracy: 0.7896678966789668\n",
      "Training Loss: 0.9462618827819824\n",
      "GraphSAGE Epoch 43, Loss: 0.9462618827819824, Accuracy: 0.8007380073800738\n",
      "Training Loss: 0.9171385765075684\n",
      "GraphSAGE Epoch 44, Loss: 0.9171385765075684, Accuracy: 0.8081180811808119\n",
      "Training Loss: 0.9058969616889954\n",
      "GraphSAGE Epoch 45, Loss: 0.9058969616889954, Accuracy: 0.8154981549815498\n",
      "Training Loss: 0.8868615031242371\n",
      "GraphSAGE Epoch 46, Loss: 0.8868615031242371, Accuracy: 0.8228782287822878\n",
      "Training Loss: 0.8646459579467773\n",
      "GraphSAGE Epoch 47, Loss: 0.8646459579467773, Accuracy: 0.8321033210332104\n",
      "Training Loss: 0.8674696087837219\n",
      "GraphSAGE Epoch 48, Loss: 0.8674696087837219, Accuracy: 0.8450184501845018\n",
      "Training Loss: 0.8322910070419312\n",
      "GraphSAGE Epoch 49, Loss: 0.8322910070419312, Accuracy: 0.8505535055350554\n",
      "Training Loss: 0.8181279897689819\n",
      "GraphSAGE Epoch 50, Loss: 0.8181279897689819, Accuracy: 0.8542435424354243\n",
      "Training Loss: 0.8141475915908813\n",
      "GraphSAGE Epoch 51, Loss: 0.8141475915908813, Accuracy: 0.8542435424354243\n",
      "Training Loss: 0.800582230091095\n",
      "GraphSAGE Epoch 52, Loss: 0.800582230091095, Accuracy: 0.8597785977859779\n",
      "Training Loss: 0.7846205234527588\n",
      "GraphSAGE Epoch 53, Loss: 0.7846205234527588, Accuracy: 0.8616236162361623\n",
      "Training Loss: 0.774927020072937\n",
      "GraphSAGE Epoch 54, Loss: 0.774927020072937, Accuracy: 0.8634686346863468\n",
      "Training Loss: 0.7685233950614929\n",
      "GraphSAGE Epoch 55, Loss: 0.7685233950614929, Accuracy: 0.8634686346863468\n",
      "Training Loss: 0.7604416012763977\n",
      "GraphSAGE Epoch 56, Loss: 0.7604416012763977, Accuracy: 0.8653136531365314\n",
      "Training Loss: 0.7274866104125977\n",
      "GraphSAGE Epoch 57, Loss: 0.7274866104125977, Accuracy: 0.8671586715867159\n",
      "Training Loss: 0.7023178339004517\n",
      "GraphSAGE Epoch 58, Loss: 0.7023178339004517, Accuracy: 0.8708487084870848\n",
      "Training Loss: 0.7072637677192688\n",
      "GraphSAGE Epoch 59, Loss: 0.7072637677192688, Accuracy: 0.8708487084870848\n",
      "Training Loss: 0.7280683517456055\n",
      "GraphSAGE Epoch 60, Loss: 0.7280683517456055, Accuracy: 0.8708487084870848\n",
      "Training Loss: 0.687985360622406\n",
      "GraphSAGE Epoch 61, Loss: 0.687985360622406, Accuracy: 0.8726937269372693\n",
      "Training Loss: 0.6965980529785156\n",
      "GraphSAGE Epoch 62, Loss: 0.6965980529785156, Accuracy: 0.8763837638376384\n",
      "Training Loss: 0.6830618381500244\n",
      "GraphSAGE Epoch 63, Loss: 0.6830618381500244, Accuracy: 0.8782287822878229\n",
      "Training Loss: 0.671692967414856\n",
      "GraphSAGE Epoch 64, Loss: 0.671692967414856, Accuracy: 0.8782287822878229\n",
      "Training Loss: 0.6571075916290283\n",
      "GraphSAGE Epoch 65, Loss: 0.6571075916290283, Accuracy: 0.8782287822878229\n",
      "Training Loss: 0.6520740389823914\n",
      "GraphSAGE Epoch 66, Loss: 0.6520740389823914, Accuracy: 0.8763837638376384\n",
      "Training Loss: 0.6328619122505188\n",
      "GraphSAGE Epoch 67, Loss: 0.6328619122505188, Accuracy: 0.8782287822878229\n",
      "Training Loss: 0.6349369287490845\n",
      "GraphSAGE Epoch 68, Loss: 0.6349369287490845, Accuracy: 0.8800738007380073\n",
      "Training Loss: 0.617364227771759\n",
      "GraphSAGE Epoch 69, Loss: 0.617364227771759, Accuracy: 0.8800738007380073\n",
      "Training Loss: 0.6179604530334473\n",
      "GraphSAGE Epoch 70, Loss: 0.6179604530334473, Accuracy: 0.8837638376383764\n",
      "Training Loss: 0.6233575940132141\n",
      "GraphSAGE Epoch 71, Loss: 0.6233575940132141, Accuracy: 0.8837638376383764\n",
      "Training Loss: 0.6080542206764221\n",
      "GraphSAGE Epoch 72, Loss: 0.6080542206764221, Accuracy: 0.8837638376383764\n",
      "Training Loss: 0.6023598313331604\n",
      "GraphSAGE Epoch 73, Loss: 0.6023598313331604, Accuracy: 0.8856088560885609\n",
      "Training Loss: 0.6105086207389832\n",
      "GraphSAGE Epoch 74, Loss: 0.6105086207389832, Accuracy: 0.8856088560885609\n",
      "Training Loss: 0.6044947504997253\n",
      "GraphSAGE Epoch 75, Loss: 0.6044947504997253, Accuracy: 0.8856088560885609\n",
      "Training Loss: 0.5803164839744568\n",
      "GraphSAGE Epoch 76, Loss: 0.5803164839744568, Accuracy: 0.8856088560885609\n",
      "Training Loss: 0.580935001373291\n",
      "GraphSAGE Epoch 77, Loss: 0.580935001373291, Accuracy: 0.8856088560885609\n",
      "Training Loss: 0.5856861472129822\n",
      "GraphSAGE Epoch 78, Loss: 0.5856861472129822, Accuracy: 0.8856088560885609\n",
      "Training Loss: 0.5699452757835388\n",
      "GraphSAGE Epoch 79, Loss: 0.5699452757835388, Accuracy: 0.8856088560885609\n",
      "Training Loss: 0.5689660906791687\n",
      "GraphSAGE Epoch 80, Loss: 0.5689660906791687, Accuracy: 0.8856088560885609\n",
      "Training Loss: 0.5678157210350037\n",
      "GraphSAGE Epoch 81, Loss: 0.5678157210350037, Accuracy: 0.8874538745387454\n",
      "Training Loss: 0.5594355463981628\n",
      "GraphSAGE Epoch 82, Loss: 0.5594355463981628, Accuracy: 0.8856088560885609\n",
      "Training Loss: 0.5532038807868958\n",
      "GraphSAGE Epoch 83, Loss: 0.5532038807868958, Accuracy: 0.8892988929889298\n",
      "Training Loss: 0.5482195615768433\n",
      "GraphSAGE Epoch 84, Loss: 0.5482195615768433, Accuracy: 0.8911439114391144\n",
      "Training Loss: 0.5531474351882935\n",
      "GraphSAGE Epoch 85, Loss: 0.5531474351882935, Accuracy: 0.8911439114391144\n",
      "Training Loss: 0.5572126507759094\n",
      "GraphSAGE Epoch 86, Loss: 0.5572126507759094, Accuracy: 0.8911439114391144\n",
      "Training Loss: 0.5208885073661804\n",
      "GraphSAGE Epoch 87, Loss: 0.5208885073661804, Accuracy: 0.8892988929889298\n",
      "Training Loss: 0.5322245955467224\n",
      "GraphSAGE Epoch 88, Loss: 0.5322245955467224, Accuracy: 0.8874538745387454\n",
      "Training Loss: 0.528083324432373\n",
      "GraphSAGE Epoch 89, Loss: 0.528083324432373, Accuracy: 0.8911439114391144\n",
      "Training Loss: 0.526017427444458\n",
      "GraphSAGE Epoch 90, Loss: 0.526017427444458, Accuracy: 0.8911439114391144\n",
      "Training Loss: 0.5348489284515381\n",
      "GraphSAGE Epoch 91, Loss: 0.5348489284515381, Accuracy: 0.8911439114391144\n",
      "Training Loss: 0.5041991472244263\n",
      "GraphSAGE Epoch 92, Loss: 0.5041991472244263, Accuracy: 0.8948339483394834\n",
      "Training Loss: 0.5315884947776794\n",
      "GraphSAGE Epoch 93, Loss: 0.5315884947776794, Accuracy: 0.8929889298892989\n",
      "Training Loss: 0.5015533566474915\n",
      "GraphSAGE Epoch 94, Loss: 0.5015533566474915, Accuracy: 0.8948339483394834\n",
      "Training Loss: 0.5386117696762085\n",
      "GraphSAGE Epoch 95, Loss: 0.5386117696762085, Accuracy: 0.8948339483394834\n",
      "Training Loss: 0.5069119930267334\n",
      "GraphSAGE Epoch 96, Loss: 0.5069119930267334, Accuracy: 0.8966789667896679\n",
      "Training Loss: 0.4976857304573059\n",
      "GraphSAGE Epoch 97, Loss: 0.4976857304573059, Accuracy: 0.8985239852398524\n",
      "Training Loss: 0.5219261646270752\n",
      "GraphSAGE Epoch 98, Loss: 0.5219261646270752, Accuracy: 0.8948339483394834\n",
      "Training Loss: 0.4946008324623108\n",
      "GraphSAGE Epoch 99, Loss: 0.4946008324623108, Accuracy: 0.8966789667896679\n",
      "Training Loss: 0.49470391869544983\n",
      "GraphSAGE Epoch 100, Loss: 0.49470391869544983, Accuracy: 0.8966789667896679\n",
      "Training Loss: 0.49614402651786804\n",
      "GraphSAGE Epoch 101, Loss: 0.49614402651786804, Accuracy: 0.8966789667896679\n",
      "Training Loss: 0.4731142818927765\n",
      "GraphSAGE Epoch 102, Loss: 0.4731142818927765, Accuracy: 0.8985239852398524\n",
      "Training Loss: 0.484218955039978\n",
      "GraphSAGE Epoch 103, Loss: 0.484218955039978, Accuracy: 0.8966789667896679\n",
      "Training Loss: 0.49478423595428467\n",
      "GraphSAGE Epoch 104, Loss: 0.49478423595428467, Accuracy: 0.8966789667896679\n",
      "Training Loss: 0.4820379614830017\n",
      "GraphSAGE Epoch 105, Loss: 0.4820379614830017, Accuracy: 0.8966789667896679\n",
      "Training Loss: 0.4836539626121521\n",
      "GraphSAGE Epoch 106, Loss: 0.4836539626121521, Accuracy: 0.8966789667896679\n",
      "Training Loss: 0.493698388338089\n",
      "GraphSAGE Epoch 107, Loss: 0.493698388338089, Accuracy: 0.8966789667896679\n",
      "Training Loss: 0.4774712026119232\n",
      "GraphSAGE Epoch 108, Loss: 0.4774712026119232, Accuracy: 0.8985239852398524\n",
      "Training Loss: 0.4804356098175049\n",
      "GraphSAGE Epoch 109, Loss: 0.4804356098175049, Accuracy: 0.8985239852398524\n",
      "Training Loss: 0.4903876781463623\n",
      "GraphSAGE Epoch 110, Loss: 0.4903876781463623, Accuracy: 0.9003690036900369\n",
      "Training Loss: 0.47062528133392334\n",
      "GraphSAGE Epoch 111, Loss: 0.47062528133392334, Accuracy: 0.9003690036900369\n",
      "Training Loss: 0.47723060846328735\n",
      "GraphSAGE Epoch 112, Loss: 0.47723060846328735, Accuracy: 0.9003690036900369\n",
      "Training Loss: 0.46266716718673706\n",
      "GraphSAGE Epoch 113, Loss: 0.46266716718673706, Accuracy: 0.9003690036900369\n",
      "Training Loss: 0.4795689880847931\n",
      "GraphSAGE Epoch 114, Loss: 0.4795689880847931, Accuracy: 0.8985239852398524\n",
      "Training Loss: 0.46334487199783325\n",
      "GraphSAGE Epoch 115, Loss: 0.46334487199783325, Accuracy: 0.8985239852398524\n",
      "Training Loss: 0.4841757118701935\n",
      "GraphSAGE Epoch 116, Loss: 0.4841757118701935, Accuracy: 0.8966789667896679\n",
      "Training Loss: 0.48219868540763855\n",
      "GraphSAGE Epoch 117, Loss: 0.48219868540763855, Accuracy: 0.8966789667896679\n",
      "Training Loss: 0.4790760576725006\n",
      "GraphSAGE Epoch 118, Loss: 0.4790760576725006, Accuracy: 0.8966789667896679\n",
      "Training Loss: 0.47395890951156616\n",
      "GraphSAGE Epoch 119, Loss: 0.47395890951156616, Accuracy: 0.8966789667896679\n",
      "Training Loss: 0.47820448875427246\n",
      "GraphSAGE Epoch 120, Loss: 0.47820448875427246, Accuracy: 0.8966789667896679\n",
      "Training Loss: 0.47947219014167786\n",
      "GraphSAGE Epoch 121, Loss: 0.47947219014167786, Accuracy: 0.8966789667896679\n",
      "Training Loss: 0.4741479754447937\n",
      "GraphSAGE Epoch 122, Loss: 0.4741479754447937, Accuracy: 0.8966789667896679\n",
      "Training Loss: 0.48349079489707947\n",
      "GraphSAGE Epoch 123, Loss: 0.48349079489707947, Accuracy: 0.8966789667896679\n",
      "Training Loss: 0.46490156650543213\n",
      "GraphSAGE Epoch 124, Loss: 0.46490156650543213, Accuracy: 0.8966789667896679\n",
      "Training Loss: 0.48331108689308167\n",
      "GraphSAGE Epoch 125, Loss: 0.48331108689308167, Accuracy: 0.8966789667896679\n",
      "Training Loss: 0.48179686069488525\n",
      "GraphSAGE Epoch 126, Loss: 0.48179686069488525, Accuracy: 0.8966789667896679\n",
      "Training Loss: 0.4842705726623535\n",
      "GraphSAGE Epoch 127, Loss: 0.4842705726623535, Accuracy: 0.8966789667896679\n",
      "Training Loss: 0.4875582456588745\n",
      "GraphSAGE Epoch 128, Loss: 0.4875582456588745, Accuracy: 0.8966789667896679\n",
      "Training Loss: 0.48659801483154297\n",
      "GraphSAGE Epoch 129, Loss: 0.48659801483154297, Accuracy: 0.8966789667896679\n",
      "Training Loss: 0.47217831015586853\n",
      "GraphSAGE Epoch 130, Loss: 0.47217831015586853, Accuracy: 0.8966789667896679\n",
      "Training Loss: 0.4801526963710785\n",
      "GraphSAGE Epoch 131, Loss: 0.4801526963710785, Accuracy: 0.8966789667896679\n",
      "Training Loss: 0.45997822284698486\n",
      "GraphSAGE Epoch 132, Loss: 0.45997822284698486, Accuracy: 0.8966789667896679\n",
      "Training Loss: 0.4765063226222992\n",
      "GraphSAGE Epoch 133, Loss: 0.4765063226222992, Accuracy: 0.8966789667896679\n",
      "Training Loss: 0.4882763922214508\n",
      "GraphSAGE Epoch 134, Loss: 0.4882763922214508, Accuracy: 0.8966789667896679\n",
      "Training Loss: 0.4761008322238922\n",
      "GraphSAGE Epoch 135, Loss: 0.4761008322238922, Accuracy: 0.8966789667896679\n",
      "Training Loss: 0.4573913514614105\n",
      "GraphSAGE Epoch 136, Loss: 0.4573913514614105, Accuracy: 0.8966789667896679\n",
      "Training Loss: 0.48546382784843445\n",
      "GraphSAGE Epoch 137, Loss: 0.48546382784843445, Accuracy: 0.8966789667896679\n",
      "Training Loss: 0.4765755236148834\n",
      "GraphSAGE Epoch 138, Loss: 0.4765755236148834, Accuracy: 0.8966789667896679\n",
      "Training Loss: 0.4776233732700348\n",
      "GraphSAGE Epoch 139, Loss: 0.4776233732700348, Accuracy: 0.8966789667896679\n",
      "Training Loss: 0.4836938679218292\n",
      "GraphSAGE Epoch 140, Loss: 0.4836938679218292, Accuracy: 0.8966789667896679\n",
      "Training Loss: 0.4671477973461151\n",
      "GraphSAGE Epoch 141, Loss: 0.4671477973461151, Accuracy: 0.8966789667896679\n",
      "Training Loss: 0.4862511456012726\n",
      "GraphSAGE Epoch 142, Loss: 0.4862511456012726, Accuracy: 0.8966789667896679\n",
      "Training Loss: 0.4843384325504303\n",
      "GraphSAGE Epoch 143, Loss: 0.4843384325504303, Accuracy: 0.8966789667896679\n",
      "Training Loss: 0.4852021038532257\n",
      "GraphSAGE Epoch 144, Loss: 0.4852021038532257, Accuracy: 0.8966789667896679\n",
      "Training Loss: 0.47375595569610596\n",
      "GraphSAGE Epoch 145, Loss: 0.47375595569610596, Accuracy: 0.8966789667896679\n",
      "Training Loss: 0.46685779094696045\n",
      "GraphSAGE Epoch 146, Loss: 0.46685779094696045, Accuracy: 0.8966789667896679\n",
      "Training Loss: 0.4781745374202728\n",
      "GraphSAGE Epoch 147, Loss: 0.4781745374202728, Accuracy: 0.8966789667896679\n",
      "Training Loss: 0.4685947299003601\n",
      "GraphSAGE Epoch 148, Loss: 0.4685947299003601, Accuracy: 0.8966789667896679\n",
      "Training Loss: 0.4579656422138214\n",
      "GraphSAGE Epoch 149, Loss: 0.4579656422138214, Accuracy: 0.8966789667896679\n",
      "Training Loss: 0.4577449858188629\n",
      "GraphSAGE Epoch 150, Loss: 0.4577449858188629, Accuracy: 0.8966789667896679\n",
      "Training Loss: 0.4635055661201477\n",
      "GraphSAGE Epoch 151, Loss: 0.4635055661201477, Accuracy: 0.8966789667896679\n",
      "Training Loss: 0.47876930236816406\n",
      "GraphSAGE Epoch 152, Loss: 0.47876930236816406, Accuracy: 0.8966789667896679\n",
      "Training Loss: 0.46180254220962524\n",
      "GraphSAGE Epoch 153, Loss: 0.46180254220962524, Accuracy: 0.8966789667896679\n",
      "Training Loss: 0.4654744863510132\n",
      "GraphSAGE Epoch 154, Loss: 0.4654744863510132, Accuracy: 0.8966789667896679\n",
      "Training Loss: 0.48648276925086975\n",
      "GraphSAGE Epoch 155, Loss: 0.48648276925086975, Accuracy: 0.8966789667896679\n",
      "Training Loss: 0.4739770293235779\n",
      "GraphSAGE Epoch 156, Loss: 0.4739770293235779, Accuracy: 0.8966789667896679\n",
      "Training Loss: 0.4628075957298279\n",
      "GraphSAGE Epoch 157, Loss: 0.4628075957298279, Accuracy: 0.8966789667896679\n",
      "Training Loss: 0.46164214611053467\n",
      "GraphSAGE Epoch 158, Loss: 0.46164214611053467, Accuracy: 0.8966789667896679\n",
      "Training Loss: 0.4711550176143646\n",
      "GraphSAGE Epoch 159, Loss: 0.4711550176143646, Accuracy: 0.8966789667896679\n",
      "Training Loss: 0.4731828570365906\n",
      "GraphSAGE Epoch 160, Loss: 0.4731828570365906, Accuracy: 0.8966789667896679\n",
      "Training Loss: 0.4649992287158966\n",
      "GraphSAGE Epoch 161, Loss: 0.4649992287158966, Accuracy: 0.8966789667896679\n",
      "Training Loss: 0.4556443691253662\n",
      "GraphSAGE Epoch 162, Loss: 0.4556443691253662, Accuracy: 0.8966789667896679\n",
      "Training Loss: 0.4710112512111664\n",
      "GraphSAGE Epoch 163, Loss: 0.4710112512111664, Accuracy: 0.8966789667896679\n",
      "Training Loss: 0.48802679777145386\n",
      "GraphSAGE Epoch 164, Loss: 0.48802679777145386, Accuracy: 0.8966789667896679\n",
      "Training Loss: 0.48216545581817627\n",
      "GraphSAGE Epoch 165, Loss: 0.48216545581817627, Accuracy: 0.8966789667896679\n",
      "Training Loss: 0.4690367579460144\n",
      "GraphSAGE Epoch 166, Loss: 0.4690367579460144, Accuracy: 0.8966789667896679\n",
      "Training Loss: 0.4841727912425995\n",
      "GraphSAGE Epoch 167, Loss: 0.4841727912425995, Accuracy: 0.8966789667896679\n",
      "Training Loss: 0.47433221340179443\n",
      "GraphSAGE Epoch 168, Loss: 0.47433221340179443, Accuracy: 0.8966789667896679\n",
      "Training Loss: 0.4992557466030121\n",
      "GraphSAGE Epoch 169, Loss: 0.4992557466030121, Accuracy: 0.8966789667896679\n",
      "Training Loss: 0.4853023588657379\n",
      "GraphSAGE Epoch 170, Loss: 0.4853023588657379, Accuracy: 0.8966789667896679\n",
      "Training Loss: 0.44247666001319885\n",
      "GraphSAGE Epoch 171, Loss: 0.44247666001319885, Accuracy: 0.8966789667896679\n",
      "Training Loss: 0.467760294675827\n",
      "GraphSAGE Epoch 172, Loss: 0.467760294675827, Accuracy: 0.8966789667896679\n",
      "Training Loss: 0.47175467014312744\n",
      "GraphSAGE Epoch 173, Loss: 0.47175467014312744, Accuracy: 0.8966789667896679\n",
      "Training Loss: 0.48953571915626526\n",
      "GraphSAGE Epoch 174, Loss: 0.48953571915626526, Accuracy: 0.8966789667896679\n",
      "Training Loss: 0.46215301752090454\n",
      "GraphSAGE Epoch 175, Loss: 0.46215301752090454, Accuracy: 0.8966789667896679\n",
      "Training Loss: 0.4774150848388672\n",
      "GraphSAGE Epoch 176, Loss: 0.4774150848388672, Accuracy: 0.8966789667896679\n",
      "Training Loss: 0.47111526131629944\n",
      "GraphSAGE Epoch 177, Loss: 0.47111526131629944, Accuracy: 0.8966789667896679\n",
      "Training Loss: 0.4823051691055298\n",
      "GraphSAGE Epoch 178, Loss: 0.4823051691055298, Accuracy: 0.8966789667896679\n",
      "Training Loss: 0.4748402237892151\n",
      "GraphSAGE Epoch 179, Loss: 0.4748402237892151, Accuracy: 0.8966789667896679\n",
      "Training Loss: 0.49092599749565125\n",
      "GraphSAGE Epoch 180, Loss: 0.49092599749565125, Accuracy: 0.8966789667896679\n",
      "Training Loss: 0.4596366584300995\n",
      "GraphSAGE Epoch 181, Loss: 0.4596366584300995, Accuracy: 0.8966789667896679\n",
      "Training Loss: 0.4666910171508789\n",
      "GraphSAGE Epoch 182, Loss: 0.4666910171508789, Accuracy: 0.8966789667896679\n",
      "Training Loss: 0.47917139530181885\n",
      "GraphSAGE Epoch 183, Loss: 0.47917139530181885, Accuracy: 0.8966789667896679\n",
      "Training Loss: 0.48680219054222107\n",
      "GraphSAGE Epoch 184, Loss: 0.48680219054222107, Accuracy: 0.8966789667896679\n",
      "Training Loss: 0.4760422706604004\n",
      "GraphSAGE Epoch 185, Loss: 0.4760422706604004, Accuracy: 0.8966789667896679\n",
      "Training Loss: 0.48444506525993347\n",
      "GraphSAGE Epoch 186, Loss: 0.48444506525993347, Accuracy: 0.8966789667896679\n",
      "Training Loss: 0.47536519169807434\n",
      "GraphSAGE Epoch 187, Loss: 0.47536519169807434, Accuracy: 0.8966789667896679\n",
      "Training Loss: 0.480317085981369\n",
      "GraphSAGE Epoch 188, Loss: 0.480317085981369, Accuracy: 0.8966789667896679\n",
      "Training Loss: 0.4804132878780365\n",
      "GraphSAGE Epoch 189, Loss: 0.4804132878780365, Accuracy: 0.8966789667896679\n",
      "Training Loss: 0.47769027948379517\n",
      "GraphSAGE Epoch 190, Loss: 0.47769027948379517, Accuracy: 0.8966789667896679\n",
      "Training Loss: 0.4713328778743744\n",
      "GraphSAGE Epoch 191, Loss: 0.4713328778743744, Accuracy: 0.8966789667896679\n",
      "Training Loss: 0.4836457371711731\n",
      "GraphSAGE Epoch 192, Loss: 0.4836457371711731, Accuracy: 0.8966789667896679\n",
      "Training Loss: 0.4680272340774536\n",
      "GraphSAGE Epoch 193, Loss: 0.4680272340774536, Accuracy: 0.8966789667896679\n",
      "Training Loss: 0.47205859422683716\n",
      "GraphSAGE Epoch 194, Loss: 0.47205859422683716, Accuracy: 0.8966789667896679\n",
      "Training Loss: 0.4905814230442047\n",
      "GraphSAGE Epoch 195, Loss: 0.4905814230442047, Accuracy: 0.8966789667896679\n",
      "Training Loss: 0.4710022211074829\n",
      "GraphSAGE Epoch 196, Loss: 0.4710022211074829, Accuracy: 0.8966789667896679\n",
      "Training Loss: 0.4958067834377289\n",
      "GraphSAGE Epoch 197, Loss: 0.4958067834377289, Accuracy: 0.8966789667896679\n",
      "Training Loss: 7.441077709197998\n",
      "MetaExploitModel Epoch 0, Loss: 7.441077709197998, Accuracy: 0.3173431734317343\n"
     ]
    },
    {
     "name": "stderr",
     "output_type": "stream",
     "text": [
      "/Users/visheshyadav/anaconda3/lib/python3.11/site-packages/sklearn/metrics/_classification.py:1531: UndefinedMetricWarning:\n",
      "\n",
      "Precision is ill-defined and being set to 0.0 in labels with no predicted samples. Use `zero_division` parameter to control this behavior.\n",
      "\n",
      "/var/folders/yf/20z1hn994jd04q4kl0gpgh740000gn/T/ipykernel_88315/4155612595.py:129: RuntimeWarning:\n",
      "\n",
      "invalid value encountered in divide\n",
      "\n"
     ]
    },
    {
     "name": "stdout",
     "output_type": "stream",
     "text": [
      "Training Loss: 4.56573486328125\n",
      "MetaExploitModel Epoch 1, Loss: 4.56573486328125, Accuracy: 0.3173431734317343\n"
     ]
    },
    {
     "name": "stderr",
     "output_type": "stream",
     "text": [
      "/Users/visheshyadav/anaconda3/lib/python3.11/site-packages/sklearn/metrics/_classification.py:1531: UndefinedMetricWarning:\n",
      "\n",
      "Precision is ill-defined and being set to 0.0 in labels with no predicted samples. Use `zero_division` parameter to control this behavior.\n",
      "\n",
      "/var/folders/yf/20z1hn994jd04q4kl0gpgh740000gn/T/ipykernel_88315/4155612595.py:129: RuntimeWarning:\n",
      "\n",
      "invalid value encountered in divide\n",
      "\n"
     ]
    },
    {
     "name": "stdout",
     "output_type": "stream",
     "text": [
      "Training Loss: 2.8531620502471924\n",
      "MetaExploitModel Epoch 2, Loss: 2.8531620502471924, Accuracy: 0.35977859778597787\n"
     ]
    },
    {
     "name": "stderr",
     "output_type": "stream",
     "text": [
      "/Users/visheshyadav/anaconda3/lib/python3.11/site-packages/sklearn/metrics/_classification.py:1531: UndefinedMetricWarning:\n",
      "\n",
      "Precision is ill-defined and being set to 0.0 in labels with no predicted samples. Use `zero_division` parameter to control this behavior.\n",
      "\n",
      "/var/folders/yf/20z1hn994jd04q4kl0gpgh740000gn/T/ipykernel_88315/4155612595.py:129: RuntimeWarning:\n",
      "\n",
      "invalid value encountered in divide\n",
      "\n"
     ]
    },
    {
     "name": "stdout",
     "output_type": "stream",
     "text": [
      "Training Loss: 2.0863823890686035\n",
      "MetaExploitModel Epoch 3, Loss: 2.0863823890686035, Accuracy: 0.3173431734317343\n"
     ]
    },
    {
     "name": "stderr",
     "output_type": "stream",
     "text": [
      "/Users/visheshyadav/anaconda3/lib/python3.11/site-packages/sklearn/metrics/_classification.py:1531: UndefinedMetricWarning:\n",
      "\n",
      "Precision is ill-defined and being set to 0.0 in labels with no predicted samples. Use `zero_division` parameter to control this behavior.\n",
      "\n",
      "/var/folders/yf/20z1hn994jd04q4kl0gpgh740000gn/T/ipykernel_88315/4155612595.py:129: RuntimeWarning:\n",
      "\n",
      "invalid value encountered in divide\n",
      "\n"
     ]
    },
    {
     "name": "stdout",
     "output_type": "stream",
     "text": [
      "Training Loss: 1.8557575941085815\n",
      "MetaExploitModel Epoch 4, Loss: 1.8557575941085815, Accuracy: 0.3173431734317343\n"
     ]
    },
    {
     "name": "stderr",
     "output_type": "stream",
     "text": [
      "/Users/visheshyadav/anaconda3/lib/python3.11/site-packages/sklearn/metrics/_classification.py:1531: UndefinedMetricWarning:\n",
      "\n",
      "Precision is ill-defined and being set to 0.0 in labels with no predicted samples. Use `zero_division` parameter to control this behavior.\n",
      "\n",
      "/var/folders/yf/20z1hn994jd04q4kl0gpgh740000gn/T/ipykernel_88315/4155612595.py:129: RuntimeWarning:\n",
      "\n",
      "invalid value encountered in divide\n",
      "\n"
     ]
    },
    {
     "name": "stdout",
     "output_type": "stream",
     "text": [
      "Training Loss: 1.8141158819198608\n",
      "MetaExploitModel Epoch 5, Loss: 1.8141158819198608, Accuracy: 0.3118081180811808\n"
     ]
    },
    {
     "name": "stderr",
     "output_type": "stream",
     "text": [
      "/Users/visheshyadav/anaconda3/lib/python3.11/site-packages/sklearn/metrics/_classification.py:1531: UndefinedMetricWarning:\n",
      "\n",
      "Precision is ill-defined and being set to 0.0 in labels with no predicted samples. Use `zero_division` parameter to control this behavior.\n",
      "\n",
      "/var/folders/yf/20z1hn994jd04q4kl0gpgh740000gn/T/ipykernel_88315/4155612595.py:129: RuntimeWarning:\n",
      "\n",
      "invalid value encountered in divide\n",
      "\n"
     ]
    },
    {
     "name": "stdout",
     "output_type": "stream",
     "text": [
      "Training Loss: 1.7551630735397339\n",
      "MetaExploitModel Epoch 6, Loss: 1.7551630735397339, Accuracy: 0.3173431734317343\n"
     ]
    },
    {
     "name": "stderr",
     "output_type": "stream",
     "text": [
      "/Users/visheshyadav/anaconda3/lib/python3.11/site-packages/sklearn/metrics/_classification.py:1531: UndefinedMetricWarning:\n",
      "\n",
      "Precision is ill-defined and being set to 0.0 in labels with no predicted samples. Use `zero_division` parameter to control this behavior.\n",
      "\n",
      "/var/folders/yf/20z1hn994jd04q4kl0gpgh740000gn/T/ipykernel_88315/4155612595.py:129: RuntimeWarning:\n",
      "\n",
      "invalid value encountered in divide\n",
      "\n"
     ]
    },
    {
     "name": "stdout",
     "output_type": "stream",
     "text": [
      "Training Loss: 1.706009864807129\n",
      "MetaExploitModel Epoch 7, Loss: 1.706009864807129, Accuracy: 0.3173431734317343\n"
     ]
    },
    {
     "name": "stderr",
     "output_type": "stream",
     "text": [
      "/Users/visheshyadav/anaconda3/lib/python3.11/site-packages/sklearn/metrics/_classification.py:1531: UndefinedMetricWarning:\n",
      "\n",
      "Precision is ill-defined and being set to 0.0 in labels with no predicted samples. Use `zero_division` parameter to control this behavior.\n",
      "\n",
      "/var/folders/yf/20z1hn994jd04q4kl0gpgh740000gn/T/ipykernel_88315/4155612595.py:129: RuntimeWarning:\n",
      "\n",
      "invalid value encountered in divide\n",
      "\n"
     ]
    },
    {
     "name": "stdout",
     "output_type": "stream",
     "text": [
      "Training Loss: 1.7770869731903076\n",
      "MetaExploitModel Epoch 8, Loss: 1.7770869731903076, Accuracy: 0.3191881918819188\n"
     ]
    },
    {
     "name": "stderr",
     "output_type": "stream",
     "text": [
      "/Users/visheshyadav/anaconda3/lib/python3.11/site-packages/sklearn/metrics/_classification.py:1531: UndefinedMetricWarning:\n",
      "\n",
      "Precision is ill-defined and being set to 0.0 in labels with no predicted samples. Use `zero_division` parameter to control this behavior.\n",
      "\n",
      "/var/folders/yf/20z1hn994jd04q4kl0gpgh740000gn/T/ipykernel_88315/4155612595.py:129: RuntimeWarning:\n",
      "\n",
      "invalid value encountered in divide\n",
      "\n"
     ]
    },
    {
     "name": "stdout",
     "output_type": "stream",
     "text": [
      "Training Loss: 1.7859889268875122\n",
      "MetaExploitModel Epoch 9, Loss: 1.7859889268875122, Accuracy: 0.511070110701107\n"
     ]
    },
    {
     "name": "stderr",
     "output_type": "stream",
     "text": [
      "/Users/visheshyadav/anaconda3/lib/python3.11/site-packages/sklearn/metrics/_classification.py:1531: UndefinedMetricWarning:\n",
      "\n",
      "Precision is ill-defined and being set to 0.0 in labels with no predicted samples. Use `zero_division` parameter to control this behavior.\n",
      "\n",
      "/var/folders/yf/20z1hn994jd04q4kl0gpgh740000gn/T/ipykernel_88315/4155612595.py:129: RuntimeWarning:\n",
      "\n",
      "invalid value encountered in divide\n",
      "\n"
     ]
    },
    {
     "name": "stdout",
     "output_type": "stream",
     "text": [
      "Training Loss: 1.8287712335586548\n",
      "MetaExploitModel Epoch 10, Loss: 1.8287712335586548, Accuracy: 0.3173431734317343\n"
     ]
    },
    {
     "name": "stderr",
     "output_type": "stream",
     "text": [
      "/Users/visheshyadav/anaconda3/lib/python3.11/site-packages/sklearn/metrics/_classification.py:1531: UndefinedMetricWarning:\n",
      "\n",
      "Precision is ill-defined and being set to 0.0 in labels with no predicted samples. Use `zero_division` parameter to control this behavior.\n",
      "\n",
      "/var/folders/yf/20z1hn994jd04q4kl0gpgh740000gn/T/ipykernel_88315/4155612595.py:129: RuntimeWarning:\n",
      "\n",
      "invalid value encountered in divide\n",
      "\n"
     ]
    },
    {
     "name": "stdout",
     "output_type": "stream",
     "text": [
      "Training Loss: 1.8021128177642822\n",
      "MetaExploitModel Epoch 11, Loss: 1.8021128177642822, Accuracy: 0.3173431734317343\n"
     ]
    },
    {
     "name": "stderr",
     "output_type": "stream",
     "text": [
      "/Users/visheshyadav/anaconda3/lib/python3.11/site-packages/sklearn/metrics/_classification.py:1531: UndefinedMetricWarning:\n",
      "\n",
      "Precision is ill-defined and being set to 0.0 in labels with no predicted samples. Use `zero_division` parameter to control this behavior.\n",
      "\n",
      "/var/folders/yf/20z1hn994jd04q4kl0gpgh740000gn/T/ipykernel_88315/4155612595.py:129: RuntimeWarning:\n",
      "\n",
      "invalid value encountered in divide\n",
      "\n"
     ]
    },
    {
     "name": "stdout",
     "output_type": "stream",
     "text": [
      "Training Loss: 1.8204591274261475\n",
      "MetaExploitModel Epoch 12, Loss: 1.8204591274261475, Accuracy: 0.3173431734317343\n"
     ]
    },
    {
     "name": "stderr",
     "output_type": "stream",
     "text": [
      "/Users/visheshyadav/anaconda3/lib/python3.11/site-packages/sklearn/metrics/_classification.py:1531: UndefinedMetricWarning:\n",
      "\n",
      "Precision is ill-defined and being set to 0.0 in labels with no predicted samples. Use `zero_division` parameter to control this behavior.\n",
      "\n",
      "/var/folders/yf/20z1hn994jd04q4kl0gpgh740000gn/T/ipykernel_88315/4155612595.py:129: RuntimeWarning:\n",
      "\n",
      "invalid value encountered in divide\n",
      "\n"
     ]
    },
    {
     "name": "stdout",
     "output_type": "stream",
     "text": [
      "Training Loss: 1.7917113304138184\n",
      "MetaExploitModel Epoch 13, Loss: 1.7917113304138184, Accuracy: 0.32656826568265684\n"
     ]
    },
    {
     "name": "stderr",
     "output_type": "stream",
     "text": [
      "/Users/visheshyadav/anaconda3/lib/python3.11/site-packages/sklearn/metrics/_classification.py:1531: UndefinedMetricWarning:\n",
      "\n",
      "Precision is ill-defined and being set to 0.0 in labels with no predicted samples. Use `zero_division` parameter to control this behavior.\n",
      "\n",
      "/var/folders/yf/20z1hn994jd04q4kl0gpgh740000gn/T/ipykernel_88315/4155612595.py:129: RuntimeWarning:\n",
      "\n",
      "invalid value encountered in divide\n",
      "\n"
     ]
    },
    {
     "name": "stdout",
     "output_type": "stream",
     "text": [
      "Training Loss: 1.7938928604125977\n",
      "MetaExploitModel Epoch 14, Loss: 1.7938928604125977, Accuracy: 0.4132841328413284\n"
     ]
    },
    {
     "name": "stderr",
     "output_type": "stream",
     "text": [
      "/Users/visheshyadav/anaconda3/lib/python3.11/site-packages/sklearn/metrics/_classification.py:1531: UndefinedMetricWarning:\n",
      "\n",
      "Precision is ill-defined and being set to 0.0 in labels with no predicted samples. Use `zero_division` parameter to control this behavior.\n",
      "\n",
      "/var/folders/yf/20z1hn994jd04q4kl0gpgh740000gn/T/ipykernel_88315/4155612595.py:129: RuntimeWarning:\n",
      "\n",
      "invalid value encountered in divide\n",
      "\n"
     ]
    },
    {
     "name": "stdout",
     "output_type": "stream",
     "text": [
      "Training Loss: 1.7845674753189087\n",
      "MetaExploitModel Epoch 15, Loss: 1.7845674753189087, Accuracy: 0.3985239852398524\n"
     ]
    },
    {
     "name": "stderr",
     "output_type": "stream",
     "text": [
      "/Users/visheshyadav/anaconda3/lib/python3.11/site-packages/sklearn/metrics/_classification.py:1531: UndefinedMetricWarning:\n",
      "\n",
      "Precision is ill-defined and being set to 0.0 in labels with no predicted samples. Use `zero_division` parameter to control this behavior.\n",
      "\n",
      "/var/folders/yf/20z1hn994jd04q4kl0gpgh740000gn/T/ipykernel_88315/4155612595.py:129: RuntimeWarning:\n",
      "\n",
      "invalid value encountered in divide\n",
      "\n"
     ]
    },
    {
     "name": "stdout",
     "output_type": "stream",
     "text": [
      "Training Loss: 1.7756937742233276\n",
      "MetaExploitModel Epoch 16, Loss: 1.7756937742233276, Accuracy: 0.3210332103321033\n"
     ]
    },
    {
     "name": "stderr",
     "output_type": "stream",
     "text": [
      "/Users/visheshyadav/anaconda3/lib/python3.11/site-packages/sklearn/metrics/_classification.py:1531: UndefinedMetricWarning:\n",
      "\n",
      "Precision is ill-defined and being set to 0.0 in labels with no predicted samples. Use `zero_division` parameter to control this behavior.\n",
      "\n",
      "/var/folders/yf/20z1hn994jd04q4kl0gpgh740000gn/T/ipykernel_88315/4155612595.py:129: RuntimeWarning:\n",
      "\n",
      "invalid value encountered in divide\n",
      "\n"
     ]
    },
    {
     "name": "stdout",
     "output_type": "stream",
     "text": [
      "Training Loss: 1.7646852731704712\n",
      "MetaExploitModel Epoch 17, Loss: 1.7646852731704712, Accuracy: 0.3191881918819188\n"
     ]
    },
    {
     "name": "stderr",
     "output_type": "stream",
     "text": [
      "/Users/visheshyadav/anaconda3/lib/python3.11/site-packages/sklearn/metrics/_classification.py:1531: UndefinedMetricWarning:\n",
      "\n",
      "Precision is ill-defined and being set to 0.0 in labels with no predicted samples. Use `zero_division` parameter to control this behavior.\n",
      "\n",
      "/var/folders/yf/20z1hn994jd04q4kl0gpgh740000gn/T/ipykernel_88315/4155612595.py:129: RuntimeWarning:\n",
      "\n",
      "invalid value encountered in divide\n",
      "\n"
     ]
    },
    {
     "name": "stdout",
     "output_type": "stream",
     "text": [
      "Training Loss: 1.7566817998886108\n",
      "MetaExploitModel Epoch 18, Loss: 1.7566817998886108, Accuracy: 0.3173431734317343\n"
     ]
    },
    {
     "name": "stderr",
     "output_type": "stream",
     "text": [
      "/Users/visheshyadav/anaconda3/lib/python3.11/site-packages/sklearn/metrics/_classification.py:1531: UndefinedMetricWarning:\n",
      "\n",
      "Precision is ill-defined and being set to 0.0 in labels with no predicted samples. Use `zero_division` parameter to control this behavior.\n",
      "\n",
      "/var/folders/yf/20z1hn994jd04q4kl0gpgh740000gn/T/ipykernel_88315/4155612595.py:129: RuntimeWarning:\n",
      "\n",
      "invalid value encountered in divide\n",
      "\n"
     ]
    },
    {
     "name": "stdout",
     "output_type": "stream",
     "text": [
      "Training Loss: 1.7492084503173828\n",
      "MetaExploitModel Epoch 19, Loss: 1.7492084503173828, Accuracy: 0.3173431734317343\n"
     ]
    },
    {
     "name": "stderr",
     "output_type": "stream",
     "text": [
      "/Users/visheshyadav/anaconda3/lib/python3.11/site-packages/sklearn/metrics/_classification.py:1531: UndefinedMetricWarning:\n",
      "\n",
      "Precision is ill-defined and being set to 0.0 in labels with no predicted samples. Use `zero_division` parameter to control this behavior.\n",
      "\n",
      "/var/folders/yf/20z1hn994jd04q4kl0gpgh740000gn/T/ipykernel_88315/4155612595.py:129: RuntimeWarning:\n",
      "\n",
      "invalid value encountered in divide\n",
      "\n"
     ]
    },
    {
     "name": "stdout",
     "output_type": "stream",
     "text": [
      "Training Loss: 1.7378435134887695\n",
      "MetaExploitModel Epoch 20, Loss: 1.7378435134887695, Accuracy: 0.3173431734317343\n"
     ]
    },
    {
     "name": "stderr",
     "output_type": "stream",
     "text": [
      "/Users/visheshyadav/anaconda3/lib/python3.11/site-packages/sklearn/metrics/_classification.py:1531: UndefinedMetricWarning:\n",
      "\n",
      "Precision is ill-defined and being set to 0.0 in labels with no predicted samples. Use `zero_division` parameter to control this behavior.\n",
      "\n",
      "/var/folders/yf/20z1hn994jd04q4kl0gpgh740000gn/T/ipykernel_88315/4155612595.py:129: RuntimeWarning:\n",
      "\n",
      "invalid value encountered in divide\n",
      "\n"
     ]
    },
    {
     "name": "stdout",
     "output_type": "stream",
     "text": [
      "Training Loss: 1.7441235780715942\n",
      "MetaExploitModel Epoch 21, Loss: 1.7441235780715942, Accuracy: 0.3173431734317343\n"
     ]
    },
    {
     "name": "stderr",
     "output_type": "stream",
     "text": [
      "/Users/visheshyadav/anaconda3/lib/python3.11/site-packages/sklearn/metrics/_classification.py:1531: UndefinedMetricWarning:\n",
      "\n",
      "Precision is ill-defined and being set to 0.0 in labels with no predicted samples. Use `zero_division` parameter to control this behavior.\n",
      "\n",
      "/var/folders/yf/20z1hn994jd04q4kl0gpgh740000gn/T/ipykernel_88315/4155612595.py:129: RuntimeWarning:\n",
      "\n",
      "invalid value encountered in divide\n",
      "\n"
     ]
    },
    {
     "name": "stdout",
     "output_type": "stream",
     "text": [
      "Training Loss: 1.739065408706665\n",
      "MetaExploitModel Epoch 22, Loss: 1.739065408706665, Accuracy: 0.3173431734317343\n"
     ]
    },
    {
     "name": "stderr",
     "output_type": "stream",
     "text": [
      "/Users/visheshyadav/anaconda3/lib/python3.11/site-packages/sklearn/metrics/_classification.py:1531: UndefinedMetricWarning:\n",
      "\n",
      "Precision is ill-defined and being set to 0.0 in labels with no predicted samples. Use `zero_division` parameter to control this behavior.\n",
      "\n",
      "/var/folders/yf/20z1hn994jd04q4kl0gpgh740000gn/T/ipykernel_88315/4155612595.py:129: RuntimeWarning:\n",
      "\n",
      "invalid value encountered in divide\n",
      "\n"
     ]
    },
    {
     "name": "stdout",
     "output_type": "stream",
     "text": [
      "Training Loss: 1.7397644519805908\n",
      "MetaExploitModel Epoch 23, Loss: 1.7397644519805908, Accuracy: 0.3173431734317343\n"
     ]
    },
    {
     "name": "stderr",
     "output_type": "stream",
     "text": [
      "/Users/visheshyadav/anaconda3/lib/python3.11/site-packages/sklearn/metrics/_classification.py:1531: UndefinedMetricWarning:\n",
      "\n",
      "Precision is ill-defined and being set to 0.0 in labels with no predicted samples. Use `zero_division` parameter to control this behavior.\n",
      "\n",
      "/var/folders/yf/20z1hn994jd04q4kl0gpgh740000gn/T/ipykernel_88315/4155612595.py:129: RuntimeWarning:\n",
      "\n",
      "invalid value encountered in divide\n",
      "\n"
     ]
    },
    {
     "name": "stdout",
     "output_type": "stream",
     "text": [
      "Training Loss: 1.742082953453064\n",
      "MetaExploitModel Epoch 24, Loss: 1.742082953453064, Accuracy: 0.3173431734317343\n"
     ]
    },
    {
     "name": "stderr",
     "output_type": "stream",
     "text": [
      "/Users/visheshyadav/anaconda3/lib/python3.11/site-packages/sklearn/metrics/_classification.py:1531: UndefinedMetricWarning:\n",
      "\n",
      "Precision is ill-defined and being set to 0.0 in labels with no predicted samples. Use `zero_division` parameter to control this behavior.\n",
      "\n",
      "/var/folders/yf/20z1hn994jd04q4kl0gpgh740000gn/T/ipykernel_88315/4155612595.py:129: RuntimeWarning:\n",
      "\n",
      "invalid value encountered in divide\n",
      "\n"
     ]
    },
    {
     "name": "stdout",
     "output_type": "stream",
     "text": [
      "Training Loss: 1.7366328239440918\n",
      "MetaExploitModel Epoch 25, Loss: 1.7366328239440918, Accuracy: 0.3173431734317343\n"
     ]
    },
    {
     "name": "stderr",
     "output_type": "stream",
     "text": [
      "/Users/visheshyadav/anaconda3/lib/python3.11/site-packages/sklearn/metrics/_classification.py:1531: UndefinedMetricWarning:\n",
      "\n",
      "Precision is ill-defined and being set to 0.0 in labels with no predicted samples. Use `zero_division` parameter to control this behavior.\n",
      "\n",
      "/var/folders/yf/20z1hn994jd04q4kl0gpgh740000gn/T/ipykernel_88315/4155612595.py:129: RuntimeWarning:\n",
      "\n",
      "invalid value encountered in divide\n",
      "\n"
     ]
    },
    {
     "name": "stdout",
     "output_type": "stream",
     "text": [
      "Training Loss: 1.738867163658142\n",
      "MetaExploitModel Epoch 26, Loss: 1.738867163658142, Accuracy: 0.3173431734317343\n"
     ]
    },
    {
     "name": "stderr",
     "output_type": "stream",
     "text": [
      "/Users/visheshyadav/anaconda3/lib/python3.11/site-packages/sklearn/metrics/_classification.py:1531: UndefinedMetricWarning:\n",
      "\n",
      "Precision is ill-defined and being set to 0.0 in labels with no predicted samples. Use `zero_division` parameter to control this behavior.\n",
      "\n",
      "/var/folders/yf/20z1hn994jd04q4kl0gpgh740000gn/T/ipykernel_88315/4155612595.py:129: RuntimeWarning:\n",
      "\n",
      "invalid value encountered in divide\n",
      "\n"
     ]
    },
    {
     "name": "stdout",
     "output_type": "stream",
     "text": [
      "Training Loss: 1.7370243072509766\n",
      "MetaExploitModel Epoch 27, Loss: 1.7370243072509766, Accuracy: 0.3173431734317343\n"
     ]
    },
    {
     "name": "stderr",
     "output_type": "stream",
     "text": [
      "/Users/visheshyadav/anaconda3/lib/python3.11/site-packages/sklearn/metrics/_classification.py:1531: UndefinedMetricWarning:\n",
      "\n",
      "Precision is ill-defined and being set to 0.0 in labels with no predicted samples. Use `zero_division` parameter to control this behavior.\n",
      "\n",
      "/var/folders/yf/20z1hn994jd04q4kl0gpgh740000gn/T/ipykernel_88315/4155612595.py:129: RuntimeWarning:\n",
      "\n",
      "invalid value encountered in divide\n",
      "\n"
     ]
    },
    {
     "name": "stdout",
     "output_type": "stream",
     "text": [
      "Training Loss: 1.733288288116455\n",
      "MetaExploitModel Epoch 28, Loss: 1.733288288116455, Accuracy: 0.3173431734317343\n"
     ]
    },
    {
     "name": "stderr",
     "output_type": "stream",
     "text": [
      "/Users/visheshyadav/anaconda3/lib/python3.11/site-packages/sklearn/metrics/_classification.py:1531: UndefinedMetricWarning:\n",
      "\n",
      "Precision is ill-defined and being set to 0.0 in labels with no predicted samples. Use `zero_division` parameter to control this behavior.\n",
      "\n",
      "/var/folders/yf/20z1hn994jd04q4kl0gpgh740000gn/T/ipykernel_88315/4155612595.py:129: RuntimeWarning:\n",
      "\n",
      "invalid value encountered in divide\n",
      "\n"
     ]
    },
    {
     "name": "stdout",
     "output_type": "stream",
     "text": [
      "Training Loss: 1.7379995584487915\n",
      "MetaExploitModel Epoch 29, Loss: 1.7379995584487915, Accuracy: 0.3173431734317343\n"
     ]
    },
    {
     "name": "stderr",
     "output_type": "stream",
     "text": [
      "/Users/visheshyadav/anaconda3/lib/python3.11/site-packages/sklearn/metrics/_classification.py:1531: UndefinedMetricWarning:\n",
      "\n",
      "Precision is ill-defined and being set to 0.0 in labels with no predicted samples. Use `zero_division` parameter to control this behavior.\n",
      "\n",
      "/var/folders/yf/20z1hn994jd04q4kl0gpgh740000gn/T/ipykernel_88315/4155612595.py:129: RuntimeWarning:\n",
      "\n",
      "invalid value encountered in divide\n",
      "\n"
     ]
    },
    {
     "name": "stdout",
     "output_type": "stream",
     "text": [
      "Training Loss: 1.7339757680892944\n",
      "MetaExploitModel Epoch 30, Loss: 1.7339757680892944, Accuracy: 0.3173431734317343\n"
     ]
    },
    {
     "name": "stderr",
     "output_type": "stream",
     "text": [
      "/Users/visheshyadav/anaconda3/lib/python3.11/site-packages/sklearn/metrics/_classification.py:1531: UndefinedMetricWarning:\n",
      "\n",
      "Precision is ill-defined and being set to 0.0 in labels with no predicted samples. Use `zero_division` parameter to control this behavior.\n",
      "\n",
      "/var/folders/yf/20z1hn994jd04q4kl0gpgh740000gn/T/ipykernel_88315/4155612595.py:129: RuntimeWarning:\n",
      "\n",
      "invalid value encountered in divide\n",
      "\n"
     ]
    },
    {
     "name": "stdout",
     "output_type": "stream",
     "text": [
      "Training Loss: 1.7326996326446533\n",
      "MetaExploitModel Epoch 31, Loss: 1.7326996326446533, Accuracy: 0.3173431734317343\n"
     ]
    },
    {
     "name": "stderr",
     "output_type": "stream",
     "text": [
      "/Users/visheshyadav/anaconda3/lib/python3.11/site-packages/sklearn/metrics/_classification.py:1531: UndefinedMetricWarning:\n",
      "\n",
      "Precision is ill-defined and being set to 0.0 in labels with no predicted samples. Use `zero_division` parameter to control this behavior.\n",
      "\n",
      "/var/folders/yf/20z1hn994jd04q4kl0gpgh740000gn/T/ipykernel_88315/4155612595.py:129: RuntimeWarning:\n",
      "\n",
      "invalid value encountered in divide\n",
      "\n"
     ]
    },
    {
     "name": "stdout",
     "output_type": "stream",
     "text": [
      "Training Loss: 1.738023281097412\n",
      "MetaExploitModel Epoch 32, Loss: 1.738023281097412, Accuracy: 0.3173431734317343\n"
     ]
    },
    {
     "name": "stderr",
     "output_type": "stream",
     "text": [
      "/Users/visheshyadav/anaconda3/lib/python3.11/site-packages/sklearn/metrics/_classification.py:1531: UndefinedMetricWarning:\n",
      "\n",
      "Precision is ill-defined and being set to 0.0 in labels with no predicted samples. Use `zero_division` parameter to control this behavior.\n",
      "\n",
      "/var/folders/yf/20z1hn994jd04q4kl0gpgh740000gn/T/ipykernel_88315/4155612595.py:129: RuntimeWarning:\n",
      "\n",
      "invalid value encountered in divide\n",
      "\n"
     ]
    },
    {
     "name": "stdout",
     "output_type": "stream",
     "text": [
      "Training Loss: 1.735838770866394\n",
      "MetaExploitModel Epoch 33, Loss: 1.735838770866394, Accuracy: 0.3173431734317343\n"
     ]
    },
    {
     "name": "stderr",
     "output_type": "stream",
     "text": [
      "/Users/visheshyadav/anaconda3/lib/python3.11/site-packages/sklearn/metrics/_classification.py:1531: UndefinedMetricWarning:\n",
      "\n",
      "Precision is ill-defined and being set to 0.0 in labels with no predicted samples. Use `zero_division` parameter to control this behavior.\n",
      "\n",
      "/var/folders/yf/20z1hn994jd04q4kl0gpgh740000gn/T/ipykernel_88315/4155612595.py:129: RuntimeWarning:\n",
      "\n",
      "invalid value encountered in divide\n",
      "\n"
     ]
    },
    {
     "name": "stdout",
     "output_type": "stream",
     "text": [
      "Training Loss: 1.7309311628341675\n",
      "MetaExploitModel Epoch 34, Loss: 1.7309311628341675, Accuracy: 0.3173431734317343\n"
     ]
    },
    {
     "name": "stderr",
     "output_type": "stream",
     "text": [
      "/Users/visheshyadav/anaconda3/lib/python3.11/site-packages/sklearn/metrics/_classification.py:1531: UndefinedMetricWarning:\n",
      "\n",
      "Precision is ill-defined and being set to 0.0 in labels with no predicted samples. Use `zero_division` parameter to control this behavior.\n",
      "\n",
      "/var/folders/yf/20z1hn994jd04q4kl0gpgh740000gn/T/ipykernel_88315/4155612595.py:129: RuntimeWarning:\n",
      "\n",
      "invalid value encountered in divide\n",
      "\n"
     ]
    },
    {
     "name": "stdout",
     "output_type": "stream",
     "text": [
      "Training Loss: 1.7356388568878174\n",
      "MetaExploitModel Epoch 35, Loss: 1.7356388568878174, Accuracy: 0.3173431734317343\n"
     ]
    },
    {
     "name": "stderr",
     "output_type": "stream",
     "text": [
      "/Users/visheshyadav/anaconda3/lib/python3.11/site-packages/sklearn/metrics/_classification.py:1531: UndefinedMetricWarning:\n",
      "\n",
      "Precision is ill-defined and being set to 0.0 in labels with no predicted samples. Use `zero_division` parameter to control this behavior.\n",
      "\n",
      "/var/folders/yf/20z1hn994jd04q4kl0gpgh740000gn/T/ipykernel_88315/4155612595.py:129: RuntimeWarning:\n",
      "\n",
      "invalid value encountered in divide\n",
      "\n"
     ]
    },
    {
     "name": "stdout",
     "output_type": "stream",
     "text": [
      "Training Loss: 1.7348670959472656\n",
      "MetaExploitModel Epoch 36, Loss: 1.7348670959472656, Accuracy: 0.3173431734317343\n"
     ]
    },
    {
     "name": "stderr",
     "output_type": "stream",
     "text": [
      "/Users/visheshyadav/anaconda3/lib/python3.11/site-packages/sklearn/metrics/_classification.py:1531: UndefinedMetricWarning:\n",
      "\n",
      "Precision is ill-defined and being set to 0.0 in labels with no predicted samples. Use `zero_division` parameter to control this behavior.\n",
      "\n",
      "/var/folders/yf/20z1hn994jd04q4kl0gpgh740000gn/T/ipykernel_88315/4155612595.py:129: RuntimeWarning:\n",
      "\n",
      "invalid value encountered in divide\n",
      "\n"
     ]
    },
    {
     "name": "stdout",
     "output_type": "stream",
     "text": [
      "Training Loss: 1.7333362102508545\n",
      "MetaExploitModel Epoch 37, Loss: 1.7333362102508545, Accuracy: 0.3173431734317343\n"
     ]
    },
    {
     "name": "stderr",
     "output_type": "stream",
     "text": [
      "/Users/visheshyadav/anaconda3/lib/python3.11/site-packages/sklearn/metrics/_classification.py:1531: UndefinedMetricWarning:\n",
      "\n",
      "Precision is ill-defined and being set to 0.0 in labels with no predicted samples. Use `zero_division` parameter to control this behavior.\n",
      "\n",
      "/var/folders/yf/20z1hn994jd04q4kl0gpgh740000gn/T/ipykernel_88315/4155612595.py:129: RuntimeWarning:\n",
      "\n",
      "invalid value encountered in divide\n",
      "\n"
     ]
    },
    {
     "name": "stdout",
     "output_type": "stream",
     "text": [
      "Training Loss: 1.7341505289077759\n",
      "MetaExploitModel Epoch 38, Loss: 1.7341505289077759, Accuracy: 0.3173431734317343\n"
     ]
    },
    {
     "name": "stderr",
     "output_type": "stream",
     "text": [
      "/Users/visheshyadav/anaconda3/lib/python3.11/site-packages/sklearn/metrics/_classification.py:1531: UndefinedMetricWarning:\n",
      "\n",
      "Precision is ill-defined and being set to 0.0 in labels with no predicted samples. Use `zero_division` parameter to control this behavior.\n",
      "\n",
      "/var/folders/yf/20z1hn994jd04q4kl0gpgh740000gn/T/ipykernel_88315/4155612595.py:129: RuntimeWarning:\n",
      "\n",
      "invalid value encountered in divide\n",
      "\n"
     ]
    },
    {
     "name": "stdout",
     "output_type": "stream",
     "text": [
      "Training Loss: 1.731300711631775\n",
      "MetaExploitModel Epoch 39, Loss: 1.731300711631775, Accuracy: 0.3173431734317343\n"
     ]
    },
    {
     "name": "stderr",
     "output_type": "stream",
     "text": [
      "/Users/visheshyadav/anaconda3/lib/python3.11/site-packages/sklearn/metrics/_classification.py:1531: UndefinedMetricWarning:\n",
      "\n",
      "Precision is ill-defined and being set to 0.0 in labels with no predicted samples. Use `zero_division` parameter to control this behavior.\n",
      "\n",
      "/var/folders/yf/20z1hn994jd04q4kl0gpgh740000gn/T/ipykernel_88315/4155612595.py:129: RuntimeWarning:\n",
      "\n",
      "invalid value encountered in divide\n",
      "\n"
     ]
    },
    {
     "name": "stdout",
     "output_type": "stream",
     "text": [
      "Training Loss: 1.7333306074142456\n",
      "MetaExploitModel Epoch 40, Loss: 1.7333306074142456, Accuracy: 0.3173431734317343\n"
     ]
    },
    {
     "name": "stderr",
     "output_type": "stream",
     "text": [
      "/Users/visheshyadav/anaconda3/lib/python3.11/site-packages/sklearn/metrics/_classification.py:1531: UndefinedMetricWarning:\n",
      "\n",
      "Precision is ill-defined and being set to 0.0 in labels with no predicted samples. Use `zero_division` parameter to control this behavior.\n",
      "\n",
      "/var/folders/yf/20z1hn994jd04q4kl0gpgh740000gn/T/ipykernel_88315/4155612595.py:129: RuntimeWarning:\n",
      "\n",
      "invalid value encountered in divide\n",
      "\n"
     ]
    },
    {
     "name": "stdout",
     "output_type": "stream",
     "text": [
      "Training Loss: 1.7331089973449707\n",
      "MetaExploitModel Epoch 41, Loss: 1.7331089973449707, Accuracy: 0.3173431734317343\n"
     ]
    },
    {
     "name": "stderr",
     "output_type": "stream",
     "text": [
      "/Users/visheshyadav/anaconda3/lib/python3.11/site-packages/sklearn/metrics/_classification.py:1531: UndefinedMetricWarning:\n",
      "\n",
      "Precision is ill-defined and being set to 0.0 in labels with no predicted samples. Use `zero_division` parameter to control this behavior.\n",
      "\n",
      "/var/folders/yf/20z1hn994jd04q4kl0gpgh740000gn/T/ipykernel_88315/4155612595.py:129: RuntimeWarning:\n",
      "\n",
      "invalid value encountered in divide\n",
      "\n"
     ]
    },
    {
     "name": "stdout",
     "output_type": "stream",
     "text": [
      "Training Loss: 1.7351912260055542\n",
      "MetaExploitModel Epoch 42, Loss: 1.7351912260055542, Accuracy: 0.3173431734317343\n"
     ]
    },
    {
     "name": "stderr",
     "output_type": "stream",
     "text": [
      "/Users/visheshyadav/anaconda3/lib/python3.11/site-packages/sklearn/metrics/_classification.py:1531: UndefinedMetricWarning:\n",
      "\n",
      "Precision is ill-defined and being set to 0.0 in labels with no predicted samples. Use `zero_division` parameter to control this behavior.\n",
      "\n",
      "/var/folders/yf/20z1hn994jd04q4kl0gpgh740000gn/T/ipykernel_88315/4155612595.py:129: RuntimeWarning:\n",
      "\n",
      "invalid value encountered in divide\n",
      "\n"
     ]
    },
    {
     "name": "stdout",
     "output_type": "stream",
     "text": [
      "Training Loss: 1.7372968196868896\n",
      "MetaExploitModel Epoch 43, Loss: 1.7372968196868896, Accuracy: 0.3173431734317343\n"
     ]
    },
    {
     "name": "stderr",
     "output_type": "stream",
     "text": [
      "/Users/visheshyadav/anaconda3/lib/python3.11/site-packages/sklearn/metrics/_classification.py:1531: UndefinedMetricWarning:\n",
      "\n",
      "Precision is ill-defined and being set to 0.0 in labels with no predicted samples. Use `zero_division` parameter to control this behavior.\n",
      "\n",
      "/var/folders/yf/20z1hn994jd04q4kl0gpgh740000gn/T/ipykernel_88315/4155612595.py:129: RuntimeWarning:\n",
      "\n",
      "invalid value encountered in divide\n",
      "\n"
     ]
    },
    {
     "name": "stdout",
     "output_type": "stream",
     "text": [
      "Training Loss: 1.7373435497283936\n",
      "MetaExploitModel Epoch 44, Loss: 1.7373435497283936, Accuracy: 0.3173431734317343\n"
     ]
    },
    {
     "name": "stderr",
     "output_type": "stream",
     "text": [
      "/Users/visheshyadav/anaconda3/lib/python3.11/site-packages/sklearn/metrics/_classification.py:1531: UndefinedMetricWarning:\n",
      "\n",
      "Precision is ill-defined and being set to 0.0 in labels with no predicted samples. Use `zero_division` parameter to control this behavior.\n",
      "\n",
      "/var/folders/yf/20z1hn994jd04q4kl0gpgh740000gn/T/ipykernel_88315/4155612595.py:129: RuntimeWarning:\n",
      "\n",
      "invalid value encountered in divide\n",
      "\n"
     ]
    },
    {
     "name": "stdout",
     "output_type": "stream",
     "text": [
      "Training Loss: 1.7357600927352905\n",
      "MetaExploitModel Epoch 45, Loss: 1.7357600927352905, Accuracy: 0.3173431734317343\n"
     ]
    },
    {
     "name": "stderr",
     "output_type": "stream",
     "text": [
      "/Users/visheshyadav/anaconda3/lib/python3.11/site-packages/sklearn/metrics/_classification.py:1531: UndefinedMetricWarning:\n",
      "\n",
      "Precision is ill-defined and being set to 0.0 in labels with no predicted samples. Use `zero_division` parameter to control this behavior.\n",
      "\n",
      "/var/folders/yf/20z1hn994jd04q4kl0gpgh740000gn/T/ipykernel_88315/4155612595.py:129: RuntimeWarning:\n",
      "\n",
      "invalid value encountered in divide\n",
      "\n"
     ]
    },
    {
     "name": "stdout",
     "output_type": "stream",
     "text": [
      "Training Loss: 1.7324745655059814\n",
      "MetaExploitModel Epoch 46, Loss: 1.7324745655059814, Accuracy: 0.3173431734317343\n"
     ]
    },
    {
     "name": "stderr",
     "output_type": "stream",
     "text": [
      "/Users/visheshyadav/anaconda3/lib/python3.11/site-packages/sklearn/metrics/_classification.py:1531: UndefinedMetricWarning:\n",
      "\n",
      "Precision is ill-defined and being set to 0.0 in labels with no predicted samples. Use `zero_division` parameter to control this behavior.\n",
      "\n",
      "/var/folders/yf/20z1hn994jd04q4kl0gpgh740000gn/T/ipykernel_88315/4155612595.py:129: RuntimeWarning:\n",
      "\n",
      "invalid value encountered in divide\n",
      "\n"
     ]
    },
    {
     "name": "stdout",
     "output_type": "stream",
     "text": [
      "Training Loss: 1.7301467657089233\n",
      "MetaExploitModel Epoch 47, Loss: 1.7301467657089233, Accuracy: 0.3173431734317343\n"
     ]
    },
    {
     "name": "stderr",
     "output_type": "stream",
     "text": [
      "/Users/visheshyadav/anaconda3/lib/python3.11/site-packages/sklearn/metrics/_classification.py:1531: UndefinedMetricWarning:\n",
      "\n",
      "Precision is ill-defined and being set to 0.0 in labels with no predicted samples. Use `zero_division` parameter to control this behavior.\n",
      "\n",
      "/var/folders/yf/20z1hn994jd04q4kl0gpgh740000gn/T/ipykernel_88315/4155612595.py:129: RuntimeWarning:\n",
      "\n",
      "invalid value encountered in divide\n",
      "\n"
     ]
    },
    {
     "name": "stdout",
     "output_type": "stream",
     "text": [
      "Training Loss: 1.7336163520812988\n",
      "MetaExploitModel Epoch 48, Loss: 1.7336163520812988, Accuracy: 0.3173431734317343\n"
     ]
    },
    {
     "name": "stderr",
     "output_type": "stream",
     "text": [
      "/Users/visheshyadav/anaconda3/lib/python3.11/site-packages/sklearn/metrics/_classification.py:1531: UndefinedMetricWarning:\n",
      "\n",
      "Precision is ill-defined and being set to 0.0 in labels with no predicted samples. Use `zero_division` parameter to control this behavior.\n",
      "\n",
      "/var/folders/yf/20z1hn994jd04q4kl0gpgh740000gn/T/ipykernel_88315/4155612595.py:129: RuntimeWarning:\n",
      "\n",
      "invalid value encountered in divide\n",
      "\n"
     ]
    },
    {
     "name": "stdout",
     "output_type": "stream",
     "text": [
      "Training Loss: 1.738649606704712\n",
      "MetaExploitModel Epoch 49, Loss: 1.738649606704712, Accuracy: 0.3173431734317343\n"
     ]
    },
    {
     "name": "stderr",
     "output_type": "stream",
     "text": [
      "/Users/visheshyadav/anaconda3/lib/python3.11/site-packages/sklearn/metrics/_classification.py:1531: UndefinedMetricWarning:\n",
      "\n",
      "Precision is ill-defined and being set to 0.0 in labels with no predicted samples. Use `zero_division` parameter to control this behavior.\n",
      "\n",
      "/var/folders/yf/20z1hn994jd04q4kl0gpgh740000gn/T/ipykernel_88315/4155612595.py:129: RuntimeWarning:\n",
      "\n",
      "invalid value encountered in divide\n",
      "\n"
     ]
    },
    {
     "name": "stdout",
     "output_type": "stream",
     "text": [
      "Training Loss: 1.729523777961731\n",
      "MetaExploitModel Epoch 50, Loss: 1.729523777961731, Accuracy: 0.3173431734317343\n"
     ]
    },
    {
     "name": "stderr",
     "output_type": "stream",
     "text": [
      "/Users/visheshyadav/anaconda3/lib/python3.11/site-packages/sklearn/metrics/_classification.py:1531: UndefinedMetricWarning:\n",
      "\n",
      "Precision is ill-defined and being set to 0.0 in labels with no predicted samples. Use `zero_division` parameter to control this behavior.\n",
      "\n",
      "/var/folders/yf/20z1hn994jd04q4kl0gpgh740000gn/T/ipykernel_88315/4155612595.py:129: RuntimeWarning:\n",
      "\n",
      "invalid value encountered in divide\n",
      "\n"
     ]
    },
    {
     "name": "stdout",
     "output_type": "stream",
     "text": [
      "Training Loss: 1.7367987632751465\n",
      "MetaExploitModel Epoch 51, Loss: 1.7367987632751465, Accuracy: 0.3173431734317343\n"
     ]
    },
    {
     "name": "stderr",
     "output_type": "stream",
     "text": [
      "/Users/visheshyadav/anaconda3/lib/python3.11/site-packages/sklearn/metrics/_classification.py:1531: UndefinedMetricWarning:\n",
      "\n",
      "Precision is ill-defined and being set to 0.0 in labels with no predicted samples. Use `zero_division` parameter to control this behavior.\n",
      "\n",
      "/var/folders/yf/20z1hn994jd04q4kl0gpgh740000gn/T/ipykernel_88315/4155612595.py:129: RuntimeWarning:\n",
      "\n",
      "invalid value encountered in divide\n",
      "\n"
     ]
    },
    {
     "name": "stdout",
     "output_type": "stream",
     "text": [
      "Training Loss: 1.7368173599243164\n",
      "MetaExploitModel Epoch 52, Loss: 1.7368173599243164, Accuracy: 0.3173431734317343\n"
     ]
    },
    {
     "name": "stderr",
     "output_type": "stream",
     "text": [
      "/Users/visheshyadav/anaconda3/lib/python3.11/site-packages/sklearn/metrics/_classification.py:1531: UndefinedMetricWarning:\n",
      "\n",
      "Precision is ill-defined and being set to 0.0 in labels with no predicted samples. Use `zero_division` parameter to control this behavior.\n",
      "\n",
      "/var/folders/yf/20z1hn994jd04q4kl0gpgh740000gn/T/ipykernel_88315/4155612595.py:129: RuntimeWarning:\n",
      "\n",
      "invalid value encountered in divide\n",
      "\n"
     ]
    },
    {
     "name": "stdout",
     "output_type": "stream",
     "text": [
      "Training Loss: 1.734289526939392\n",
      "MetaExploitModel Epoch 53, Loss: 1.734289526939392, Accuracy: 0.3173431734317343\n"
     ]
    },
    {
     "name": "stderr",
     "output_type": "stream",
     "text": [
      "/Users/visheshyadav/anaconda3/lib/python3.11/site-packages/sklearn/metrics/_classification.py:1531: UndefinedMetricWarning:\n",
      "\n",
      "Precision is ill-defined and being set to 0.0 in labels with no predicted samples. Use `zero_division` parameter to control this behavior.\n",
      "\n",
      "/var/folders/yf/20z1hn994jd04q4kl0gpgh740000gn/T/ipykernel_88315/4155612595.py:129: RuntimeWarning:\n",
      "\n",
      "invalid value encountered in divide\n",
      "\n"
     ]
    },
    {
     "name": "stdout",
     "output_type": "stream",
     "text": [
      "Training Loss: 1.7319399118423462\n",
      "MetaExploitModel Epoch 54, Loss: 1.7319399118423462, Accuracy: 0.3173431734317343\n"
     ]
    },
    {
     "name": "stderr",
     "output_type": "stream",
     "text": [
      "/Users/visheshyadav/anaconda3/lib/python3.11/site-packages/sklearn/metrics/_classification.py:1531: UndefinedMetricWarning:\n",
      "\n",
      "Precision is ill-defined and being set to 0.0 in labels with no predicted samples. Use `zero_division` parameter to control this behavior.\n",
      "\n",
      "/var/folders/yf/20z1hn994jd04q4kl0gpgh740000gn/T/ipykernel_88315/4155612595.py:129: RuntimeWarning:\n",
      "\n",
      "invalid value encountered in divide\n",
      "\n"
     ]
    },
    {
     "name": "stdout",
     "output_type": "stream",
     "text": [
      "Training Loss: 1.7354941368103027\n",
      "MetaExploitModel Epoch 55, Loss: 1.7354941368103027, Accuracy: 0.3173431734317343\n"
     ]
    },
    {
     "name": "stderr",
     "output_type": "stream",
     "text": [
      "/Users/visheshyadav/anaconda3/lib/python3.11/site-packages/sklearn/metrics/_classification.py:1531: UndefinedMetricWarning:\n",
      "\n",
      "Precision is ill-defined and being set to 0.0 in labels with no predicted samples. Use `zero_division` parameter to control this behavior.\n",
      "\n",
      "/var/folders/yf/20z1hn994jd04q4kl0gpgh740000gn/T/ipykernel_88315/4155612595.py:129: RuntimeWarning:\n",
      "\n",
      "invalid value encountered in divide\n",
      "\n"
     ]
    },
    {
     "name": "stdout",
     "output_type": "stream",
     "text": [
      "Training Loss: 1.7354612350463867\n",
      "MetaExploitModel Epoch 56, Loss: 1.7354612350463867, Accuracy: 0.3173431734317343\n"
     ]
    },
    {
     "name": "stderr",
     "output_type": "stream",
     "text": [
      "/Users/visheshyadav/anaconda3/lib/python3.11/site-packages/sklearn/metrics/_classification.py:1531: UndefinedMetricWarning:\n",
      "\n",
      "Precision is ill-defined and being set to 0.0 in labels with no predicted samples. Use `zero_division` parameter to control this behavior.\n",
      "\n",
      "/var/folders/yf/20z1hn994jd04q4kl0gpgh740000gn/T/ipykernel_88315/4155612595.py:129: RuntimeWarning:\n",
      "\n",
      "invalid value encountered in divide\n",
      "\n"
     ]
    },
    {
     "name": "stdout",
     "output_type": "stream",
     "text": [
      "Training Loss: 1.730983018875122\n",
      "MetaExploitModel Epoch 57, Loss: 1.730983018875122, Accuracy: 0.3173431734317343\n"
     ]
    },
    {
     "name": "stderr",
     "output_type": "stream",
     "text": [
      "/Users/visheshyadav/anaconda3/lib/python3.11/site-packages/sklearn/metrics/_classification.py:1531: UndefinedMetricWarning:\n",
      "\n",
      "Precision is ill-defined and being set to 0.0 in labels with no predicted samples. Use `zero_division` parameter to control this behavior.\n",
      "\n",
      "/var/folders/yf/20z1hn994jd04q4kl0gpgh740000gn/T/ipykernel_88315/4155612595.py:129: RuntimeWarning:\n",
      "\n",
      "invalid value encountered in divide\n",
      "\n"
     ]
    },
    {
     "name": "stdout",
     "output_type": "stream",
     "text": [
      "Training Loss: 1.7336372137069702\n",
      "MetaExploitModel Epoch 58, Loss: 1.7336372137069702, Accuracy: 0.3173431734317343\n"
     ]
    },
    {
     "name": "stderr",
     "output_type": "stream",
     "text": [
      "/Users/visheshyadav/anaconda3/lib/python3.11/site-packages/sklearn/metrics/_classification.py:1531: UndefinedMetricWarning:\n",
      "\n",
      "Precision is ill-defined and being set to 0.0 in labels with no predicted samples. Use `zero_division` parameter to control this behavior.\n",
      "\n",
      "/var/folders/yf/20z1hn994jd04q4kl0gpgh740000gn/T/ipykernel_88315/4155612595.py:129: RuntimeWarning:\n",
      "\n",
      "invalid value encountered in divide\n",
      "\n"
     ]
    },
    {
     "name": "stdout",
     "output_type": "stream",
     "text": [
      "Training Loss: 1.7339249849319458\n",
      "MetaExploitModel Epoch 59, Loss: 1.7339249849319458, Accuracy: 0.3173431734317343\n"
     ]
    },
    {
     "name": "stderr",
     "output_type": "stream",
     "text": [
      "/Users/visheshyadav/anaconda3/lib/python3.11/site-packages/sklearn/metrics/_classification.py:1531: UndefinedMetricWarning:\n",
      "\n",
      "Precision is ill-defined and being set to 0.0 in labels with no predicted samples. Use `zero_division` parameter to control this behavior.\n",
      "\n",
      "/var/folders/yf/20z1hn994jd04q4kl0gpgh740000gn/T/ipykernel_88315/4155612595.py:129: RuntimeWarning:\n",
      "\n",
      "invalid value encountered in divide\n",
      "\n"
     ]
    },
    {
     "name": "stdout",
     "output_type": "stream",
     "text": [
      "Training Loss: 1.7380071878433228\n",
      "MetaExploitModel Epoch 60, Loss: 1.7380071878433228, Accuracy: 0.3173431734317343\n"
     ]
    },
    {
     "name": "stderr",
     "output_type": "stream",
     "text": [
      "/Users/visheshyadav/anaconda3/lib/python3.11/site-packages/sklearn/metrics/_classification.py:1531: UndefinedMetricWarning:\n",
      "\n",
      "Precision is ill-defined and being set to 0.0 in labels with no predicted samples. Use `zero_division` parameter to control this behavior.\n",
      "\n",
      "/var/folders/yf/20z1hn994jd04q4kl0gpgh740000gn/T/ipykernel_88315/4155612595.py:129: RuntimeWarning:\n",
      "\n",
      "invalid value encountered in divide\n",
      "\n"
     ]
    },
    {
     "name": "stdout",
     "output_type": "stream",
     "text": [
      "Training Loss: 1.726617693901062\n",
      "MetaExploitModel Epoch 61, Loss: 1.726617693901062, Accuracy: 0.3173431734317343\n"
     ]
    },
    {
     "name": "stderr",
     "output_type": "stream",
     "text": [
      "/Users/visheshyadav/anaconda3/lib/python3.11/site-packages/sklearn/metrics/_classification.py:1531: UndefinedMetricWarning:\n",
      "\n",
      "Precision is ill-defined and being set to 0.0 in labels with no predicted samples. Use `zero_division` parameter to control this behavior.\n",
      "\n",
      "/var/folders/yf/20z1hn994jd04q4kl0gpgh740000gn/T/ipykernel_88315/4155612595.py:129: RuntimeWarning:\n",
      "\n",
      "invalid value encountered in divide\n",
      "\n"
     ]
    },
    {
     "name": "stdout",
     "output_type": "stream",
     "text": [
      "Training Loss: 1.7311553955078125\n",
      "MetaExploitModel Epoch 62, Loss: 1.7311553955078125, Accuracy: 0.3173431734317343\n"
     ]
    },
    {
     "name": "stderr",
     "output_type": "stream",
     "text": [
      "/Users/visheshyadav/anaconda3/lib/python3.11/site-packages/sklearn/metrics/_classification.py:1531: UndefinedMetricWarning:\n",
      "\n",
      "Precision is ill-defined and being set to 0.0 in labels with no predicted samples. Use `zero_division` parameter to control this behavior.\n",
      "\n",
      "/var/folders/yf/20z1hn994jd04q4kl0gpgh740000gn/T/ipykernel_88315/4155612595.py:129: RuntimeWarning:\n",
      "\n",
      "invalid value encountered in divide\n",
      "\n"
     ]
    },
    {
     "name": "stdout",
     "output_type": "stream",
     "text": [
      "Training Loss: 1.7398083209991455\n",
      "MetaExploitModel Epoch 63, Loss: 1.7398083209991455, Accuracy: 0.3173431734317343\n"
     ]
    },
    {
     "name": "stderr",
     "output_type": "stream",
     "text": [
      "/Users/visheshyadav/anaconda3/lib/python3.11/site-packages/sklearn/metrics/_classification.py:1531: UndefinedMetricWarning:\n",
      "\n",
      "Precision is ill-defined and being set to 0.0 in labels with no predicted samples. Use `zero_division` parameter to control this behavior.\n",
      "\n",
      "/var/folders/yf/20z1hn994jd04q4kl0gpgh740000gn/T/ipykernel_88315/4155612595.py:129: RuntimeWarning:\n",
      "\n",
      "invalid value encountered in divide\n",
      "\n"
     ]
    },
    {
     "name": "stdout",
     "output_type": "stream",
     "text": [
      "Training Loss: 1.726406216621399\n",
      "MetaExploitModel Epoch 64, Loss: 1.726406216621399, Accuracy: 0.3173431734317343\n"
     ]
    },
    {
     "name": "stderr",
     "output_type": "stream",
     "text": [
      "/Users/visheshyadav/anaconda3/lib/python3.11/site-packages/sklearn/metrics/_classification.py:1531: UndefinedMetricWarning:\n",
      "\n",
      "Precision is ill-defined and being set to 0.0 in labels with no predicted samples. Use `zero_division` parameter to control this behavior.\n",
      "\n",
      "/var/folders/yf/20z1hn994jd04q4kl0gpgh740000gn/T/ipykernel_88315/4155612595.py:129: RuntimeWarning:\n",
      "\n",
      "invalid value encountered in divide\n",
      "\n"
     ]
    },
    {
     "name": "stdout",
     "output_type": "stream",
     "text": [
      "Training Loss: 1.73995840549469\n",
      "MetaExploitModel Epoch 65, Loss: 1.73995840549469, Accuracy: 0.3173431734317343\n"
     ]
    },
    {
     "name": "stderr",
     "output_type": "stream",
     "text": [
      "/Users/visheshyadav/anaconda3/lib/python3.11/site-packages/sklearn/metrics/_classification.py:1531: UndefinedMetricWarning:\n",
      "\n",
      "Precision is ill-defined and being set to 0.0 in labels with no predicted samples. Use `zero_division` parameter to control this behavior.\n",
      "\n",
      "/var/folders/yf/20z1hn994jd04q4kl0gpgh740000gn/T/ipykernel_88315/4155612595.py:129: RuntimeWarning:\n",
      "\n",
      "invalid value encountered in divide\n",
      "\n"
     ]
    },
    {
     "name": "stdout",
     "output_type": "stream",
     "text": [
      "Training Loss: 1.7372485399246216\n",
      "MetaExploitModel Epoch 66, Loss: 1.7372485399246216, Accuracy: 0.3173431734317343\n"
     ]
    },
    {
     "name": "stderr",
     "output_type": "stream",
     "text": [
      "/Users/visheshyadav/anaconda3/lib/python3.11/site-packages/sklearn/metrics/_classification.py:1531: UndefinedMetricWarning:\n",
      "\n",
      "Precision is ill-defined and being set to 0.0 in labels with no predicted samples. Use `zero_division` parameter to control this behavior.\n",
      "\n",
      "/var/folders/yf/20z1hn994jd04q4kl0gpgh740000gn/T/ipykernel_88315/4155612595.py:129: RuntimeWarning:\n",
      "\n",
      "invalid value encountered in divide\n",
      "\n"
     ]
    },
    {
     "name": "stdout",
     "output_type": "stream",
     "text": [
      "Training Loss: 1.7343471050262451\n",
      "MetaExploitModel Epoch 67, Loss: 1.7343471050262451, Accuracy: 0.3173431734317343\n"
     ]
    },
    {
     "name": "stderr",
     "output_type": "stream",
     "text": [
      "/Users/visheshyadav/anaconda3/lib/python3.11/site-packages/sklearn/metrics/_classification.py:1531: UndefinedMetricWarning:\n",
      "\n",
      "Precision is ill-defined and being set to 0.0 in labels with no predicted samples. Use `zero_division` parameter to control this behavior.\n",
      "\n",
      "/var/folders/yf/20z1hn994jd04q4kl0gpgh740000gn/T/ipykernel_88315/4155612595.py:129: RuntimeWarning:\n",
      "\n",
      "invalid value encountered in divide\n",
      "\n"
     ]
    },
    {
     "name": "stdout",
     "output_type": "stream",
     "text": [
      "Training Loss: 1.7344712018966675\n",
      "MetaExploitModel Epoch 68, Loss: 1.7344712018966675, Accuracy: 0.3173431734317343\n"
     ]
    },
    {
     "name": "stderr",
     "output_type": "stream",
     "text": [
      "/Users/visheshyadav/anaconda3/lib/python3.11/site-packages/sklearn/metrics/_classification.py:1531: UndefinedMetricWarning:\n",
      "\n",
      "Precision is ill-defined and being set to 0.0 in labels with no predicted samples. Use `zero_division` parameter to control this behavior.\n",
      "\n",
      "/var/folders/yf/20z1hn994jd04q4kl0gpgh740000gn/T/ipykernel_88315/4155612595.py:129: RuntimeWarning:\n",
      "\n",
      "invalid value encountered in divide\n",
      "\n"
     ]
    },
    {
     "name": "stdout",
     "output_type": "stream",
     "text": [
      "Training Loss: 1.7310060262680054\n",
      "MetaExploitModel Epoch 69, Loss: 1.7310060262680054, Accuracy: 0.3173431734317343\n"
     ]
    },
    {
     "name": "stderr",
     "output_type": "stream",
     "text": [
      "/Users/visheshyadav/anaconda3/lib/python3.11/site-packages/sklearn/metrics/_classification.py:1531: UndefinedMetricWarning:\n",
      "\n",
      "Precision is ill-defined and being set to 0.0 in labels with no predicted samples. Use `zero_division` parameter to control this behavior.\n",
      "\n",
      "/var/folders/yf/20z1hn994jd04q4kl0gpgh740000gn/T/ipykernel_88315/4155612595.py:129: RuntimeWarning:\n",
      "\n",
      "invalid value encountered in divide\n",
      "\n"
     ]
    },
    {
     "name": "stdout",
     "output_type": "stream",
     "text": [
      "Training Loss: 1.7386568784713745\n",
      "MetaExploitModel Epoch 70, Loss: 1.7386568784713745, Accuracy: 0.3173431734317343\n"
     ]
    },
    {
     "name": "stderr",
     "output_type": "stream",
     "text": [
      "/Users/visheshyadav/anaconda3/lib/python3.11/site-packages/sklearn/metrics/_classification.py:1531: UndefinedMetricWarning:\n",
      "\n",
      "Precision is ill-defined and being set to 0.0 in labels with no predicted samples. Use `zero_division` parameter to control this behavior.\n",
      "\n",
      "/var/folders/yf/20z1hn994jd04q4kl0gpgh740000gn/T/ipykernel_88315/4155612595.py:129: RuntimeWarning:\n",
      "\n",
      "invalid value encountered in divide\n",
      "\n"
     ]
    },
    {
     "name": "stdout",
     "output_type": "stream",
     "text": [
      "Training Loss: 1.7338436841964722\n",
      "MetaExploitModel Epoch 71, Loss: 1.7338436841964722, Accuracy: 0.3173431734317343\n"
     ]
    },
    {
     "name": "stderr",
     "output_type": "stream",
     "text": [
      "/Users/visheshyadav/anaconda3/lib/python3.11/site-packages/sklearn/metrics/_classification.py:1531: UndefinedMetricWarning:\n",
      "\n",
      "Precision is ill-defined and being set to 0.0 in labels with no predicted samples. Use `zero_division` parameter to control this behavior.\n",
      "\n",
      "/var/folders/yf/20z1hn994jd04q4kl0gpgh740000gn/T/ipykernel_88315/4155612595.py:129: RuntimeWarning:\n",
      "\n",
      "invalid value encountered in divide\n",
      "\n"
     ]
    },
    {
     "name": "stdout",
     "output_type": "stream",
     "text": [
      "Training Loss: 1.7380558252334595\n",
      "MetaExploitModel Epoch 72, Loss: 1.7380558252334595, Accuracy: 0.3173431734317343\n"
     ]
    },
    {
     "name": "stderr",
     "output_type": "stream",
     "text": [
      "/Users/visheshyadav/anaconda3/lib/python3.11/site-packages/sklearn/metrics/_classification.py:1531: UndefinedMetricWarning:\n",
      "\n",
      "Precision is ill-defined and being set to 0.0 in labels with no predicted samples. Use `zero_division` parameter to control this behavior.\n",
      "\n",
      "/var/folders/yf/20z1hn994jd04q4kl0gpgh740000gn/T/ipykernel_88315/4155612595.py:129: RuntimeWarning:\n",
      "\n",
      "invalid value encountered in divide\n",
      "\n"
     ]
    },
    {
     "name": "stdout",
     "output_type": "stream",
     "text": [
      "Training Loss: 1.7379342317581177\n",
      "MetaExploitModel Epoch 73, Loss: 1.7379342317581177, Accuracy: 0.3173431734317343\n"
     ]
    },
    {
     "name": "stderr",
     "output_type": "stream",
     "text": [
      "/Users/visheshyadav/anaconda3/lib/python3.11/site-packages/sklearn/metrics/_classification.py:1531: UndefinedMetricWarning:\n",
      "\n",
      "Precision is ill-defined and being set to 0.0 in labels with no predicted samples. Use `zero_division` parameter to control this behavior.\n",
      "\n",
      "/var/folders/yf/20z1hn994jd04q4kl0gpgh740000gn/T/ipykernel_88315/4155612595.py:129: RuntimeWarning:\n",
      "\n",
      "invalid value encountered in divide\n",
      "\n"
     ]
    },
    {
     "name": "stdout",
     "output_type": "stream",
     "text": [
      "Training Loss: 1.7365381717681885\n",
      "MetaExploitModel Epoch 74, Loss: 1.7365381717681885, Accuracy: 0.3173431734317343\n"
     ]
    },
    {
     "name": "stderr",
     "output_type": "stream",
     "text": [
      "/Users/visheshyadav/anaconda3/lib/python3.11/site-packages/sklearn/metrics/_classification.py:1531: UndefinedMetricWarning:\n",
      "\n",
      "Precision is ill-defined and being set to 0.0 in labels with no predicted samples. Use `zero_division` parameter to control this behavior.\n",
      "\n",
      "/var/folders/yf/20z1hn994jd04q4kl0gpgh740000gn/T/ipykernel_88315/4155612595.py:129: RuntimeWarning:\n",
      "\n",
      "invalid value encountered in divide\n",
      "\n"
     ]
    },
    {
     "name": "stdout",
     "output_type": "stream",
     "text": [
      "Training Loss: 1.7363884449005127\n",
      "MetaExploitModel Epoch 75, Loss: 1.7363884449005127, Accuracy: 0.3173431734317343\n"
     ]
    },
    {
     "name": "stderr",
     "output_type": "stream",
     "text": [
      "/Users/visheshyadav/anaconda3/lib/python3.11/site-packages/sklearn/metrics/_classification.py:1531: UndefinedMetricWarning:\n",
      "\n",
      "Precision is ill-defined and being set to 0.0 in labels with no predicted samples. Use `zero_division` parameter to control this behavior.\n",
      "\n",
      "/var/folders/yf/20z1hn994jd04q4kl0gpgh740000gn/T/ipykernel_88315/4155612595.py:129: RuntimeWarning:\n",
      "\n",
      "invalid value encountered in divide\n",
      "\n"
     ]
    },
    {
     "name": "stdout",
     "output_type": "stream",
     "text": [
      "Training Loss: 1.7332861423492432\n",
      "MetaExploitModel Epoch 76, Loss: 1.7332861423492432, Accuracy: 0.3173431734317343\n"
     ]
    },
    {
     "name": "stderr",
     "output_type": "stream",
     "text": [
      "/Users/visheshyadav/anaconda3/lib/python3.11/site-packages/sklearn/metrics/_classification.py:1531: UndefinedMetricWarning:\n",
      "\n",
      "Precision is ill-defined and being set to 0.0 in labels with no predicted samples. Use `zero_division` parameter to control this behavior.\n",
      "\n",
      "/var/folders/yf/20z1hn994jd04q4kl0gpgh740000gn/T/ipykernel_88315/4155612595.py:129: RuntimeWarning:\n",
      "\n",
      "invalid value encountered in divide\n",
      "\n"
     ]
    },
    {
     "name": "stdout",
     "output_type": "stream",
     "text": [
      "Training Loss: 1.7372766733169556\n",
      "MetaExploitModel Epoch 77, Loss: 1.7372766733169556, Accuracy: 0.3173431734317343\n"
     ]
    },
    {
     "name": "stderr",
     "output_type": "stream",
     "text": [
      "/Users/visheshyadav/anaconda3/lib/python3.11/site-packages/sklearn/metrics/_classification.py:1531: UndefinedMetricWarning:\n",
      "\n",
      "Precision is ill-defined and being set to 0.0 in labels with no predicted samples. Use `zero_division` parameter to control this behavior.\n",
      "\n",
      "/var/folders/yf/20z1hn994jd04q4kl0gpgh740000gn/T/ipykernel_88315/4155612595.py:129: RuntimeWarning:\n",
      "\n",
      "invalid value encountered in divide\n",
      "\n"
     ]
    },
    {
     "name": "stdout",
     "output_type": "stream",
     "text": [
      "Training Loss: 1.7323657274246216\n",
      "MetaExploitModel Epoch 78, Loss: 1.7323657274246216, Accuracy: 0.3173431734317343\n"
     ]
    },
    {
     "name": "stderr",
     "output_type": "stream",
     "text": [
      "/Users/visheshyadav/anaconda3/lib/python3.11/site-packages/sklearn/metrics/_classification.py:1531: UndefinedMetricWarning:\n",
      "\n",
      "Precision is ill-defined and being set to 0.0 in labels with no predicted samples. Use `zero_division` parameter to control this behavior.\n",
      "\n",
      "/var/folders/yf/20z1hn994jd04q4kl0gpgh740000gn/T/ipykernel_88315/4155612595.py:129: RuntimeWarning:\n",
      "\n",
      "invalid value encountered in divide\n",
      "\n"
     ]
    },
    {
     "name": "stdout",
     "output_type": "stream",
     "text": [
      "Training Loss: 1.7303705215454102\n",
      "MetaExploitModel Epoch 79, Loss: 1.7303705215454102, Accuracy: 0.3173431734317343\n"
     ]
    },
    {
     "name": "stderr",
     "output_type": "stream",
     "text": [
      "/Users/visheshyadav/anaconda3/lib/python3.11/site-packages/sklearn/metrics/_classification.py:1531: UndefinedMetricWarning:\n",
      "\n",
      "Precision is ill-defined and being set to 0.0 in labels with no predicted samples. Use `zero_division` parameter to control this behavior.\n",
      "\n",
      "/var/folders/yf/20z1hn994jd04q4kl0gpgh740000gn/T/ipykernel_88315/4155612595.py:129: RuntimeWarning:\n",
      "\n",
      "invalid value encountered in divide\n",
      "\n"
     ]
    },
    {
     "name": "stdout",
     "output_type": "stream",
     "text": [
      "Training Loss: 1.7340611219406128\n",
      "MetaExploitModel Epoch 80, Loss: 1.7340611219406128, Accuracy: 0.3173431734317343\n"
     ]
    },
    {
     "name": "stderr",
     "output_type": "stream",
     "text": [
      "/Users/visheshyadav/anaconda3/lib/python3.11/site-packages/sklearn/metrics/_classification.py:1531: UndefinedMetricWarning:\n",
      "\n",
      "Precision is ill-defined and being set to 0.0 in labels with no predicted samples. Use `zero_division` parameter to control this behavior.\n",
      "\n",
      "/var/folders/yf/20z1hn994jd04q4kl0gpgh740000gn/T/ipykernel_88315/4155612595.py:129: RuntimeWarning:\n",
      "\n",
      "invalid value encountered in divide\n",
      "\n"
     ]
    },
    {
     "name": "stdout",
     "output_type": "stream",
     "text": [
      "Training Loss: 1.7272007465362549\n",
      "MetaExploitModel Epoch 81, Loss: 1.7272007465362549, Accuracy: 0.3173431734317343\n"
     ]
    },
    {
     "name": "stderr",
     "output_type": "stream",
     "text": [
      "/Users/visheshyadav/anaconda3/lib/python3.11/site-packages/sklearn/metrics/_classification.py:1531: UndefinedMetricWarning:\n",
      "\n",
      "Precision is ill-defined and being set to 0.0 in labels with no predicted samples. Use `zero_division` parameter to control this behavior.\n",
      "\n",
      "/var/folders/yf/20z1hn994jd04q4kl0gpgh740000gn/T/ipykernel_88315/4155612595.py:129: RuntimeWarning:\n",
      "\n",
      "invalid value encountered in divide\n",
      "\n"
     ]
    },
    {
     "name": "stdout",
     "output_type": "stream",
     "text": [
      "Training Loss: 1.7405815124511719\n",
      "MetaExploitModel Epoch 82, Loss: 1.7405815124511719, Accuracy: 0.3173431734317343\n"
     ]
    },
    {
     "name": "stderr",
     "output_type": "stream",
     "text": [
      "/Users/visheshyadav/anaconda3/lib/python3.11/site-packages/sklearn/metrics/_classification.py:1531: UndefinedMetricWarning:\n",
      "\n",
      "Precision is ill-defined and being set to 0.0 in labels with no predicted samples. Use `zero_division` parameter to control this behavior.\n",
      "\n",
      "/var/folders/yf/20z1hn994jd04q4kl0gpgh740000gn/T/ipykernel_88315/4155612595.py:129: RuntimeWarning:\n",
      "\n",
      "invalid value encountered in divide\n",
      "\n"
     ]
    },
    {
     "name": "stdout",
     "output_type": "stream",
     "text": [
      "Training Loss: 1.7319884300231934\n",
      "MetaExploitModel Epoch 83, Loss: 1.7319884300231934, Accuracy: 0.3173431734317343\n"
     ]
    },
    {
     "name": "stderr",
     "output_type": "stream",
     "text": [
      "/Users/visheshyadav/anaconda3/lib/python3.11/site-packages/sklearn/metrics/_classification.py:1531: UndefinedMetricWarning:\n",
      "\n",
      "Precision is ill-defined and being set to 0.0 in labels with no predicted samples. Use `zero_division` parameter to control this behavior.\n",
      "\n",
      "/var/folders/yf/20z1hn994jd04q4kl0gpgh740000gn/T/ipykernel_88315/4155612595.py:129: RuntimeWarning:\n",
      "\n",
      "invalid value encountered in divide\n",
      "\n"
     ]
    },
    {
     "name": "stdout",
     "output_type": "stream",
     "text": [
      "Training Loss: 1.7336084842681885\n",
      "MetaExploitModel Epoch 84, Loss: 1.7336084842681885, Accuracy: 0.3173431734317343\n"
     ]
    },
    {
     "name": "stderr",
     "output_type": "stream",
     "text": [
      "/Users/visheshyadav/anaconda3/lib/python3.11/site-packages/sklearn/metrics/_classification.py:1531: UndefinedMetricWarning:\n",
      "\n",
      "Precision is ill-defined and being set to 0.0 in labels with no predicted samples. Use `zero_division` parameter to control this behavior.\n",
      "\n",
      "/var/folders/yf/20z1hn994jd04q4kl0gpgh740000gn/T/ipykernel_88315/4155612595.py:129: RuntimeWarning:\n",
      "\n",
      "invalid value encountered in divide\n",
      "\n"
     ]
    },
    {
     "name": "stdout",
     "output_type": "stream",
     "text": [
      "Training Loss: 1.7296841144561768\n",
      "MetaExploitModel Epoch 85, Loss: 1.7296841144561768, Accuracy: 0.3173431734317343\n"
     ]
    },
    {
     "name": "stderr",
     "output_type": "stream",
     "text": [
      "/Users/visheshyadav/anaconda3/lib/python3.11/site-packages/sklearn/metrics/_classification.py:1531: UndefinedMetricWarning:\n",
      "\n",
      "Precision is ill-defined and being set to 0.0 in labels with no predicted samples. Use `zero_division` parameter to control this behavior.\n",
      "\n",
      "/var/folders/yf/20z1hn994jd04q4kl0gpgh740000gn/T/ipykernel_88315/4155612595.py:129: RuntimeWarning:\n",
      "\n",
      "invalid value encountered in divide\n",
      "\n"
     ]
    },
    {
     "name": "stdout",
     "output_type": "stream",
     "text": [
      "Training Loss: 1.739046335220337\n",
      "MetaExploitModel Epoch 86, Loss: 1.739046335220337, Accuracy: 0.3173431734317343\n"
     ]
    },
    {
     "name": "stderr",
     "output_type": "stream",
     "text": [
      "/Users/visheshyadav/anaconda3/lib/python3.11/site-packages/sklearn/metrics/_classification.py:1531: UndefinedMetricWarning:\n",
      "\n",
      "Precision is ill-defined and being set to 0.0 in labels with no predicted samples. Use `zero_division` parameter to control this behavior.\n",
      "\n",
      "/var/folders/yf/20z1hn994jd04q4kl0gpgh740000gn/T/ipykernel_88315/4155612595.py:129: RuntimeWarning:\n",
      "\n",
      "invalid value encountered in divide\n",
      "\n"
     ]
    },
    {
     "name": "stdout",
     "output_type": "stream",
     "text": [
      "Training Loss: 1.735188364982605\n",
      "MetaExploitModel Epoch 87, Loss: 1.735188364982605, Accuracy: 0.3173431734317343\n"
     ]
    },
    {
     "name": "stderr",
     "output_type": "stream",
     "text": [
      "/Users/visheshyadav/anaconda3/lib/python3.11/site-packages/sklearn/metrics/_classification.py:1531: UndefinedMetricWarning:\n",
      "\n",
      "Precision is ill-defined and being set to 0.0 in labels with no predicted samples. Use `zero_division` parameter to control this behavior.\n",
      "\n",
      "/var/folders/yf/20z1hn994jd04q4kl0gpgh740000gn/T/ipykernel_88315/4155612595.py:129: RuntimeWarning:\n",
      "\n",
      "invalid value encountered in divide\n",
      "\n"
     ]
    },
    {
     "name": "stdout",
     "output_type": "stream",
     "text": [
      "Training Loss: 1.7301981449127197\n",
      "MetaExploitModel Epoch 88, Loss: 1.7301981449127197, Accuracy: 0.3173431734317343\n"
     ]
    },
    {
     "name": "stderr",
     "output_type": "stream",
     "text": [
      "/Users/visheshyadav/anaconda3/lib/python3.11/site-packages/sklearn/metrics/_classification.py:1531: UndefinedMetricWarning:\n",
      "\n",
      "Precision is ill-defined and being set to 0.0 in labels with no predicted samples. Use `zero_division` parameter to control this behavior.\n",
      "\n",
      "/var/folders/yf/20z1hn994jd04q4kl0gpgh740000gn/T/ipykernel_88315/4155612595.py:129: RuntimeWarning:\n",
      "\n",
      "invalid value encountered in divide\n",
      "\n"
     ]
    },
    {
     "name": "stdout",
     "output_type": "stream",
     "text": [
      "Training Loss: 1.7363377809524536\n",
      "MetaExploitModel Epoch 89, Loss: 1.7363377809524536, Accuracy: 0.3173431734317343\n"
     ]
    },
    {
     "name": "stderr",
     "output_type": "stream",
     "text": [
      "/Users/visheshyadav/anaconda3/lib/python3.11/site-packages/sklearn/metrics/_classification.py:1531: UndefinedMetricWarning:\n",
      "\n",
      "Precision is ill-defined and being set to 0.0 in labels with no predicted samples. Use `zero_division` parameter to control this behavior.\n",
      "\n",
      "/var/folders/yf/20z1hn994jd04q4kl0gpgh740000gn/T/ipykernel_88315/4155612595.py:129: RuntimeWarning:\n",
      "\n",
      "invalid value encountered in divide\n",
      "\n"
     ]
    },
    {
     "name": "stdout",
     "output_type": "stream",
     "text": [
      "Training Loss: 1.7369674444198608\n",
      "MetaExploitModel Epoch 90, Loss: 1.7369674444198608, Accuracy: 0.3173431734317343\n"
     ]
    },
    {
     "name": "stderr",
     "output_type": "stream",
     "text": [
      "/Users/visheshyadav/anaconda3/lib/python3.11/site-packages/sklearn/metrics/_classification.py:1531: UndefinedMetricWarning:\n",
      "\n",
      "Precision is ill-defined and being set to 0.0 in labels with no predicted samples. Use `zero_division` parameter to control this behavior.\n",
      "\n",
      "/var/folders/yf/20z1hn994jd04q4kl0gpgh740000gn/T/ipykernel_88315/4155612595.py:129: RuntimeWarning:\n",
      "\n",
      "invalid value encountered in divide\n",
      "\n"
     ]
    },
    {
     "name": "stdout",
     "output_type": "stream",
     "text": [
      "Training Loss: 1.734868049621582\n",
      "MetaExploitModel Epoch 91, Loss: 1.734868049621582, Accuracy: 0.3173431734317343\n"
     ]
    },
    {
     "name": "stderr",
     "output_type": "stream",
     "text": [
      "/Users/visheshyadav/anaconda3/lib/python3.11/site-packages/sklearn/metrics/_classification.py:1531: UndefinedMetricWarning:\n",
      "\n",
      "Precision is ill-defined and being set to 0.0 in labels with no predicted samples. Use `zero_division` parameter to control this behavior.\n",
      "\n",
      "/var/folders/yf/20z1hn994jd04q4kl0gpgh740000gn/T/ipykernel_88315/4155612595.py:129: RuntimeWarning:\n",
      "\n",
      "invalid value encountered in divide\n",
      "\n"
     ]
    },
    {
     "name": "stdout",
     "output_type": "stream",
     "text": [
      "Training Loss: 1.7378838062286377\n",
      "MetaExploitModel Epoch 92, Loss: 1.7378838062286377, Accuracy: 0.3173431734317343\n"
     ]
    },
    {
     "name": "stderr",
     "output_type": "stream",
     "text": [
      "/Users/visheshyadav/anaconda3/lib/python3.11/site-packages/sklearn/metrics/_classification.py:1531: UndefinedMetricWarning:\n",
      "\n",
      "Precision is ill-defined and being set to 0.0 in labels with no predicted samples. Use `zero_division` parameter to control this behavior.\n",
      "\n",
      "/var/folders/yf/20z1hn994jd04q4kl0gpgh740000gn/T/ipykernel_88315/4155612595.py:129: RuntimeWarning:\n",
      "\n",
      "invalid value encountered in divide\n",
      "\n"
     ]
    },
    {
     "name": "stdout",
     "output_type": "stream",
     "text": [
      "Training Loss: 1.7307145595550537\n",
      "MetaExploitModel Epoch 93, Loss: 1.7307145595550537, Accuracy: 0.3173431734317343\n"
     ]
    },
    {
     "name": "stderr",
     "output_type": "stream",
     "text": [
      "/Users/visheshyadav/anaconda3/lib/python3.11/site-packages/sklearn/metrics/_classification.py:1531: UndefinedMetricWarning:\n",
      "\n",
      "Precision is ill-defined and being set to 0.0 in labels with no predicted samples. Use `zero_division` parameter to control this behavior.\n",
      "\n",
      "/var/folders/yf/20z1hn994jd04q4kl0gpgh740000gn/T/ipykernel_88315/4155612595.py:129: RuntimeWarning:\n",
      "\n",
      "invalid value encountered in divide\n",
      "\n"
     ]
    },
    {
     "name": "stdout",
     "output_type": "stream",
     "text": [
      "Training Loss: 1.735601782798767\n",
      "MetaExploitModel Epoch 94, Loss: 1.735601782798767, Accuracy: 0.3173431734317343\n"
     ]
    },
    {
     "name": "stderr",
     "output_type": "stream",
     "text": [
      "/Users/visheshyadav/anaconda3/lib/python3.11/site-packages/sklearn/metrics/_classification.py:1531: UndefinedMetricWarning:\n",
      "\n",
      "Precision is ill-defined and being set to 0.0 in labels with no predicted samples. Use `zero_division` parameter to control this behavior.\n",
      "\n",
      "/var/folders/yf/20z1hn994jd04q4kl0gpgh740000gn/T/ipykernel_88315/4155612595.py:129: RuntimeWarning:\n",
      "\n",
      "invalid value encountered in divide\n",
      "\n"
     ]
    },
    {
     "name": "stdout",
     "output_type": "stream",
     "text": [
      "Training Loss: 1.7377915382385254\n",
      "MetaExploitModel Epoch 95, Loss: 1.7377915382385254, Accuracy: 0.3173431734317343\n"
     ]
    },
    {
     "name": "stderr",
     "output_type": "stream",
     "text": [
      "/Users/visheshyadav/anaconda3/lib/python3.11/site-packages/sklearn/metrics/_classification.py:1531: UndefinedMetricWarning:\n",
      "\n",
      "Precision is ill-defined and being set to 0.0 in labels with no predicted samples. Use `zero_division` parameter to control this behavior.\n",
      "\n",
      "/var/folders/yf/20z1hn994jd04q4kl0gpgh740000gn/T/ipykernel_88315/4155612595.py:129: RuntimeWarning:\n",
      "\n",
      "invalid value encountered in divide\n",
      "\n"
     ]
    },
    {
     "name": "stdout",
     "output_type": "stream",
     "text": [
      "Training Loss: 1.7310158014297485\n",
      "MetaExploitModel Epoch 96, Loss: 1.7310158014297485, Accuracy: 0.3173431734317343\n"
     ]
    },
    {
     "name": "stderr",
     "output_type": "stream",
     "text": [
      "/Users/visheshyadav/anaconda3/lib/python3.11/site-packages/sklearn/metrics/_classification.py:1531: UndefinedMetricWarning:\n",
      "\n",
      "Precision is ill-defined and being set to 0.0 in labels with no predicted samples. Use `zero_division` parameter to control this behavior.\n",
      "\n",
      "/var/folders/yf/20z1hn994jd04q4kl0gpgh740000gn/T/ipykernel_88315/4155612595.py:129: RuntimeWarning:\n",
      "\n",
      "invalid value encountered in divide\n",
      "\n"
     ]
    },
    {
     "name": "stdout",
     "output_type": "stream",
     "text": [
      "Training Loss: 1.7315930128097534\n",
      "MetaExploitModel Epoch 97, Loss: 1.7315930128097534, Accuracy: 0.3173431734317343\n"
     ]
    },
    {
     "name": "stderr",
     "output_type": "stream",
     "text": [
      "/Users/visheshyadav/anaconda3/lib/python3.11/site-packages/sklearn/metrics/_classification.py:1531: UndefinedMetricWarning:\n",
      "\n",
      "Precision is ill-defined and being set to 0.0 in labels with no predicted samples. Use `zero_division` parameter to control this behavior.\n",
      "\n",
      "/var/folders/yf/20z1hn994jd04q4kl0gpgh740000gn/T/ipykernel_88315/4155612595.py:129: RuntimeWarning:\n",
      "\n",
      "invalid value encountered in divide\n",
      "\n"
     ]
    },
    {
     "name": "stdout",
     "output_type": "stream",
     "text": [
      "Training Loss: 1.738722562789917\n",
      "MetaExploitModel Epoch 98, Loss: 1.738722562789917, Accuracy: 0.3173431734317343\n"
     ]
    },
    {
     "name": "stderr",
     "output_type": "stream",
     "text": [
      "/Users/visheshyadav/anaconda3/lib/python3.11/site-packages/sklearn/metrics/_classification.py:1531: UndefinedMetricWarning:\n",
      "\n",
      "Precision is ill-defined and being set to 0.0 in labels with no predicted samples. Use `zero_division` parameter to control this behavior.\n",
      "\n",
      "/var/folders/yf/20z1hn994jd04q4kl0gpgh740000gn/T/ipykernel_88315/4155612595.py:129: RuntimeWarning:\n",
      "\n",
      "invalid value encountered in divide\n",
      "\n"
     ]
    },
    {
     "name": "stdout",
     "output_type": "stream",
     "text": [
      "Training Loss: 1.7372864484786987\n",
      "MetaExploitModel Epoch 99, Loss: 1.7372864484786987, Accuracy: 0.3173431734317343\n"
     ]
    },
    {
     "name": "stderr",
     "output_type": "stream",
     "text": [
      "/Users/visheshyadav/anaconda3/lib/python3.11/site-packages/sklearn/metrics/_classification.py:1531: UndefinedMetricWarning:\n",
      "\n",
      "Precision is ill-defined and being set to 0.0 in labels with no predicted samples. Use `zero_division` parameter to control this behavior.\n",
      "\n",
      "/var/folders/yf/20z1hn994jd04q4kl0gpgh740000gn/T/ipykernel_88315/4155612595.py:129: RuntimeWarning:\n",
      "\n",
      "invalid value encountered in divide\n",
      "\n"
     ]
    },
    {
     "name": "stdout",
     "output_type": "stream",
     "text": [
      "Training Loss: 1.7385748624801636\n",
      "MetaExploitModel Epoch 100, Loss: 1.7385748624801636, Accuracy: 0.3173431734317343\n"
     ]
    },
    {
     "name": "stderr",
     "output_type": "stream",
     "text": [
      "/Users/visheshyadav/anaconda3/lib/python3.11/site-packages/sklearn/metrics/_classification.py:1531: UndefinedMetricWarning:\n",
      "\n",
      "Precision is ill-defined and being set to 0.0 in labels with no predicted samples. Use `zero_division` parameter to control this behavior.\n",
      "\n",
      "/var/folders/yf/20z1hn994jd04q4kl0gpgh740000gn/T/ipykernel_88315/4155612595.py:129: RuntimeWarning:\n",
      "\n",
      "invalid value encountered in divide\n",
      "\n"
     ]
    },
    {
     "name": "stdout",
     "output_type": "stream",
     "text": [
      "Training Loss: 1.730387568473816\n",
      "MetaExploitModel Epoch 101, Loss: 1.730387568473816, Accuracy: 0.3173431734317343\n"
     ]
    },
    {
     "name": "stderr",
     "output_type": "stream",
     "text": [
      "/Users/visheshyadav/anaconda3/lib/python3.11/site-packages/sklearn/metrics/_classification.py:1531: UndefinedMetricWarning:\n",
      "\n",
      "Precision is ill-defined and being set to 0.0 in labels with no predicted samples. Use `zero_division` parameter to control this behavior.\n",
      "\n",
      "/var/folders/yf/20z1hn994jd04q4kl0gpgh740000gn/T/ipykernel_88315/4155612595.py:129: RuntimeWarning:\n",
      "\n",
      "invalid value encountered in divide\n",
      "\n"
     ]
    },
    {
     "name": "stdout",
     "output_type": "stream",
     "text": [
      "Training Loss: 1.7350614070892334\n",
      "MetaExploitModel Epoch 102, Loss: 1.7350614070892334, Accuracy: 0.3173431734317343\n"
     ]
    },
    {
     "name": "stderr",
     "output_type": "stream",
     "text": [
      "/Users/visheshyadav/anaconda3/lib/python3.11/site-packages/sklearn/metrics/_classification.py:1531: UndefinedMetricWarning:\n",
      "\n",
      "Precision is ill-defined and being set to 0.0 in labels with no predicted samples. Use `zero_division` parameter to control this behavior.\n",
      "\n",
      "/var/folders/yf/20z1hn994jd04q4kl0gpgh740000gn/T/ipykernel_88315/4155612595.py:129: RuntimeWarning:\n",
      "\n",
      "invalid value encountered in divide\n",
      "\n"
     ]
    },
    {
     "name": "stdout",
     "output_type": "stream",
     "text": [
      "Training Loss: 1.73274564743042\n",
      "MetaExploitModel Epoch 103, Loss: 1.73274564743042, Accuracy: 0.3173431734317343\n"
     ]
    },
    {
     "name": "stderr",
     "output_type": "stream",
     "text": [
      "/Users/visheshyadav/anaconda3/lib/python3.11/site-packages/sklearn/metrics/_classification.py:1531: UndefinedMetricWarning:\n",
      "\n",
      "Precision is ill-defined and being set to 0.0 in labels with no predicted samples. Use `zero_division` parameter to control this behavior.\n",
      "\n",
      "/var/folders/yf/20z1hn994jd04q4kl0gpgh740000gn/T/ipykernel_88315/4155612595.py:129: RuntimeWarning:\n",
      "\n",
      "invalid value encountered in divide\n",
      "\n"
     ]
    },
    {
     "name": "stdout",
     "output_type": "stream",
     "text": [
      "Training Loss: 1.733277440071106\n",
      "MetaExploitModel Epoch 104, Loss: 1.733277440071106, Accuracy: 0.3173431734317343\n"
     ]
    },
    {
     "name": "stderr",
     "output_type": "stream",
     "text": [
      "/Users/visheshyadav/anaconda3/lib/python3.11/site-packages/sklearn/metrics/_classification.py:1531: UndefinedMetricWarning:\n",
      "\n",
      "Precision is ill-defined and being set to 0.0 in labels with no predicted samples. Use `zero_division` parameter to control this behavior.\n",
      "\n",
      "/var/folders/yf/20z1hn994jd04q4kl0gpgh740000gn/T/ipykernel_88315/4155612595.py:129: RuntimeWarning:\n",
      "\n",
      "invalid value encountered in divide\n",
      "\n"
     ]
    },
    {
     "name": "stdout",
     "output_type": "stream",
     "text": [
      "Training Loss: 1.7331379652023315\n",
      "MetaExploitModel Epoch 105, Loss: 1.7331379652023315, Accuracy: 0.3173431734317343\n"
     ]
    },
    {
     "name": "stderr",
     "output_type": "stream",
     "text": [
      "/Users/visheshyadav/anaconda3/lib/python3.11/site-packages/sklearn/metrics/_classification.py:1531: UndefinedMetricWarning:\n",
      "\n",
      "Precision is ill-defined and being set to 0.0 in labels with no predicted samples. Use `zero_division` parameter to control this behavior.\n",
      "\n",
      "/var/folders/yf/20z1hn994jd04q4kl0gpgh740000gn/T/ipykernel_88315/4155612595.py:129: RuntimeWarning:\n",
      "\n",
      "invalid value encountered in divide\n",
      "\n"
     ]
    },
    {
     "name": "stdout",
     "output_type": "stream",
     "text": [
      "Training Loss: 1.7330559492111206\n",
      "MetaExploitModel Epoch 106, Loss: 1.7330559492111206, Accuracy: 0.3173431734317343\n"
     ]
    },
    {
     "name": "stderr",
     "output_type": "stream",
     "text": [
      "/Users/visheshyadav/anaconda3/lib/python3.11/site-packages/sklearn/metrics/_classification.py:1531: UndefinedMetricWarning:\n",
      "\n",
      "Precision is ill-defined and being set to 0.0 in labels with no predicted samples. Use `zero_division` parameter to control this behavior.\n",
      "\n",
      "/var/folders/yf/20z1hn994jd04q4kl0gpgh740000gn/T/ipykernel_88315/4155612595.py:129: RuntimeWarning:\n",
      "\n",
      "invalid value encountered in divide\n",
      "\n"
     ]
    },
    {
     "name": "stdout",
     "output_type": "stream",
     "text": [
      "Training Loss: 1.7315025329589844\n",
      "MetaExploitModel Epoch 107, Loss: 1.7315025329589844, Accuracy: 0.3173431734317343\n"
     ]
    },
    {
     "name": "stderr",
     "output_type": "stream",
     "text": [
      "/Users/visheshyadav/anaconda3/lib/python3.11/site-packages/sklearn/metrics/_classification.py:1531: UndefinedMetricWarning:\n",
      "\n",
      "Precision is ill-defined and being set to 0.0 in labels with no predicted samples. Use `zero_division` parameter to control this behavior.\n",
      "\n",
      "/var/folders/yf/20z1hn994jd04q4kl0gpgh740000gn/T/ipykernel_88315/4155612595.py:129: RuntimeWarning:\n",
      "\n",
      "invalid value encountered in divide\n",
      "\n"
     ]
    },
    {
     "name": "stdout",
     "output_type": "stream",
     "text": [
      "Training Loss: 1.738944411277771\n",
      "MetaExploitModel Epoch 108, Loss: 1.738944411277771, Accuracy: 0.3173431734317343\n"
     ]
    },
    {
     "name": "stderr",
     "output_type": "stream",
     "text": [
      "/Users/visheshyadav/anaconda3/lib/python3.11/site-packages/sklearn/metrics/_classification.py:1531: UndefinedMetricWarning:\n",
      "\n",
      "Precision is ill-defined and being set to 0.0 in labels with no predicted samples. Use `zero_division` parameter to control this behavior.\n",
      "\n",
      "/var/folders/yf/20z1hn994jd04q4kl0gpgh740000gn/T/ipykernel_88315/4155612595.py:129: RuntimeWarning:\n",
      "\n",
      "invalid value encountered in divide\n",
      "\n"
     ]
    },
    {
     "name": "stdout",
     "output_type": "stream",
     "text": [
      "Training Loss: 1.7385231256484985\n",
      "MetaExploitModel Epoch 109, Loss: 1.7385231256484985, Accuracy: 0.3173431734317343\n"
     ]
    },
    {
     "name": "stderr",
     "output_type": "stream",
     "text": [
      "/Users/visheshyadav/anaconda3/lib/python3.11/site-packages/sklearn/metrics/_classification.py:1531: UndefinedMetricWarning:\n",
      "\n",
      "Precision is ill-defined and being set to 0.0 in labels with no predicted samples. Use `zero_division` parameter to control this behavior.\n",
      "\n",
      "/var/folders/yf/20z1hn994jd04q4kl0gpgh740000gn/T/ipykernel_88315/4155612595.py:129: RuntimeWarning:\n",
      "\n",
      "invalid value encountered in divide\n",
      "\n"
     ]
    },
    {
     "name": "stdout",
     "output_type": "stream",
     "text": [
      "Training Loss: 1.7351704835891724\n",
      "MetaExploitModel Epoch 110, Loss: 1.7351704835891724, Accuracy: 0.3173431734317343\n"
     ]
    },
    {
     "name": "stderr",
     "output_type": "stream",
     "text": [
      "/Users/visheshyadav/anaconda3/lib/python3.11/site-packages/sklearn/metrics/_classification.py:1531: UndefinedMetricWarning:\n",
      "\n",
      "Precision is ill-defined and being set to 0.0 in labels with no predicted samples. Use `zero_division` parameter to control this behavior.\n",
      "\n",
      "/var/folders/yf/20z1hn994jd04q4kl0gpgh740000gn/T/ipykernel_88315/4155612595.py:129: RuntimeWarning:\n",
      "\n",
      "invalid value encountered in divide\n",
      "\n"
     ]
    },
    {
     "name": "stdout",
     "output_type": "stream",
     "text": [
      "Training Loss: 1.7355258464813232\n",
      "MetaExploitModel Epoch 111, Loss: 1.7355258464813232, Accuracy: 0.3173431734317343\n"
     ]
    },
    {
     "name": "stderr",
     "output_type": "stream",
     "text": [
      "/Users/visheshyadav/anaconda3/lib/python3.11/site-packages/sklearn/metrics/_classification.py:1531: UndefinedMetricWarning:\n",
      "\n",
      "Precision is ill-defined and being set to 0.0 in labels with no predicted samples. Use `zero_division` parameter to control this behavior.\n",
      "\n",
      "/var/folders/yf/20z1hn994jd04q4kl0gpgh740000gn/T/ipykernel_88315/4155612595.py:129: RuntimeWarning:\n",
      "\n",
      "invalid value encountered in divide\n",
      "\n"
     ]
    },
    {
     "name": "stdout",
     "output_type": "stream",
     "text": [
      "Training Loss: 1.735039234161377\n",
      "MetaExploitModel Epoch 112, Loss: 1.735039234161377, Accuracy: 0.3173431734317343\n"
     ]
    },
    {
     "name": "stderr",
     "output_type": "stream",
     "text": [
      "/Users/visheshyadav/anaconda3/lib/python3.11/site-packages/sklearn/metrics/_classification.py:1531: UndefinedMetricWarning:\n",
      "\n",
      "Precision is ill-defined and being set to 0.0 in labels with no predicted samples. Use `zero_division` parameter to control this behavior.\n",
      "\n",
      "/var/folders/yf/20z1hn994jd04q4kl0gpgh740000gn/T/ipykernel_88315/4155612595.py:129: RuntimeWarning:\n",
      "\n",
      "invalid value encountered in divide\n",
      "\n"
     ]
    },
    {
     "name": "stdout",
     "output_type": "stream",
     "text": [
      "Training Loss: 1.7341562509536743\n",
      "MetaExploitModel Epoch 113, Loss: 1.7341562509536743, Accuracy: 0.3173431734317343\n"
     ]
    },
    {
     "name": "stderr",
     "output_type": "stream",
     "text": [
      "/Users/visheshyadav/anaconda3/lib/python3.11/site-packages/sklearn/metrics/_classification.py:1531: UndefinedMetricWarning:\n",
      "\n",
      "Precision is ill-defined and being set to 0.0 in labels with no predicted samples. Use `zero_division` parameter to control this behavior.\n",
      "\n",
      "/var/folders/yf/20z1hn994jd04q4kl0gpgh740000gn/T/ipykernel_88315/4155612595.py:129: RuntimeWarning:\n",
      "\n",
      "invalid value encountered in divide\n",
      "\n"
     ]
    },
    {
     "name": "stdout",
     "output_type": "stream",
     "text": [
      "Training Loss: 1.730446219444275\n",
      "MetaExploitModel Epoch 114, Loss: 1.730446219444275, Accuracy: 0.3173431734317343\n"
     ]
    },
    {
     "name": "stderr",
     "output_type": "stream",
     "text": [
      "/Users/visheshyadav/anaconda3/lib/python3.11/site-packages/sklearn/metrics/_classification.py:1531: UndefinedMetricWarning:\n",
      "\n",
      "Precision is ill-defined and being set to 0.0 in labels with no predicted samples. Use `zero_division` parameter to control this behavior.\n",
      "\n",
      "/var/folders/yf/20z1hn994jd04q4kl0gpgh740000gn/T/ipykernel_88315/4155612595.py:129: RuntimeWarning:\n",
      "\n",
      "invalid value encountered in divide\n",
      "\n"
     ]
    },
    {
     "name": "stdout",
     "output_type": "stream",
     "text": [
      "Training Loss: 1.7346287965774536\n",
      "MetaExploitModel Epoch 115, Loss: 1.7346287965774536, Accuracy: 0.3173431734317343\n"
     ]
    },
    {
     "name": "stderr",
     "output_type": "stream",
     "text": [
      "/Users/visheshyadav/anaconda3/lib/python3.11/site-packages/sklearn/metrics/_classification.py:1531: UndefinedMetricWarning:\n",
      "\n",
      "Precision is ill-defined and being set to 0.0 in labels with no predicted samples. Use `zero_division` parameter to control this behavior.\n",
      "\n",
      "/var/folders/yf/20z1hn994jd04q4kl0gpgh740000gn/T/ipykernel_88315/4155612595.py:129: RuntimeWarning:\n",
      "\n",
      "invalid value encountered in divide\n",
      "\n"
     ]
    },
    {
     "name": "stdout",
     "output_type": "stream",
     "text": [
      "Training Loss: 1.7318161725997925\n",
      "MetaExploitModel Epoch 116, Loss: 1.7318161725997925, Accuracy: 0.3173431734317343\n"
     ]
    },
    {
     "name": "stderr",
     "output_type": "stream",
     "text": [
      "/Users/visheshyadav/anaconda3/lib/python3.11/site-packages/sklearn/metrics/_classification.py:1531: UndefinedMetricWarning:\n",
      "\n",
      "Precision is ill-defined and being set to 0.0 in labels with no predicted samples. Use `zero_division` parameter to control this behavior.\n",
      "\n",
      "/var/folders/yf/20z1hn994jd04q4kl0gpgh740000gn/T/ipykernel_88315/4155612595.py:129: RuntimeWarning:\n",
      "\n",
      "invalid value encountered in divide\n",
      "\n"
     ]
    },
    {
     "name": "stdout",
     "output_type": "stream",
     "text": [
      "Training Loss: 1.7351069450378418\n",
      "MetaExploitModel Epoch 117, Loss: 1.7351069450378418, Accuracy: 0.3173431734317343\n"
     ]
    },
    {
     "name": "stderr",
     "output_type": "stream",
     "text": [
      "/Users/visheshyadav/anaconda3/lib/python3.11/site-packages/sklearn/metrics/_classification.py:1531: UndefinedMetricWarning:\n",
      "\n",
      "Precision is ill-defined and being set to 0.0 in labels with no predicted samples. Use `zero_division` parameter to control this behavior.\n",
      "\n",
      "/var/folders/yf/20z1hn994jd04q4kl0gpgh740000gn/T/ipykernel_88315/4155612595.py:129: RuntimeWarning:\n",
      "\n",
      "invalid value encountered in divide\n",
      "\n"
     ]
    },
    {
     "name": "stdout",
     "output_type": "stream",
     "text": [
      "Training Loss: 1.7311798334121704\n",
      "MetaExploitModel Epoch 118, Loss: 1.7311798334121704, Accuracy: 0.3173431734317343\n"
     ]
    },
    {
     "name": "stderr",
     "output_type": "stream",
     "text": [
      "/Users/visheshyadav/anaconda3/lib/python3.11/site-packages/sklearn/metrics/_classification.py:1531: UndefinedMetricWarning:\n",
      "\n",
      "Precision is ill-defined and being set to 0.0 in labels with no predicted samples. Use `zero_division` parameter to control this behavior.\n",
      "\n",
      "/var/folders/yf/20z1hn994jd04q4kl0gpgh740000gn/T/ipykernel_88315/4155612595.py:129: RuntimeWarning:\n",
      "\n",
      "invalid value encountered in divide\n",
      "\n"
     ]
    },
    {
     "name": "stdout",
     "output_type": "stream",
     "text": [
      "Training Loss: 1.730750322341919\n",
      "MetaExploitModel Epoch 119, Loss: 1.730750322341919, Accuracy: 0.3173431734317343\n"
     ]
    },
    {
     "name": "stderr",
     "output_type": "stream",
     "text": [
      "/Users/visheshyadav/anaconda3/lib/python3.11/site-packages/sklearn/metrics/_classification.py:1531: UndefinedMetricWarning:\n",
      "\n",
      "Precision is ill-defined and being set to 0.0 in labels with no predicted samples. Use `zero_division` parameter to control this behavior.\n",
      "\n",
      "/var/folders/yf/20z1hn994jd04q4kl0gpgh740000gn/T/ipykernel_88315/4155612595.py:129: RuntimeWarning:\n",
      "\n",
      "invalid value encountered in divide\n",
      "\n"
     ]
    },
    {
     "name": "stdout",
     "output_type": "stream",
     "text": [
      "Training Loss: 1.7274705171585083\n",
      "MetaExploitModel Epoch 120, Loss: 1.7274705171585083, Accuracy: 0.3173431734317343\n"
     ]
    },
    {
     "name": "stderr",
     "output_type": "stream",
     "text": [
      "/Users/visheshyadav/anaconda3/lib/python3.11/site-packages/sklearn/metrics/_classification.py:1531: UndefinedMetricWarning:\n",
      "\n",
      "Precision is ill-defined and being set to 0.0 in labels with no predicted samples. Use `zero_division` parameter to control this behavior.\n",
      "\n",
      "/var/folders/yf/20z1hn994jd04q4kl0gpgh740000gn/T/ipykernel_88315/4155612595.py:129: RuntimeWarning:\n",
      "\n",
      "invalid value encountered in divide\n",
      "\n"
     ]
    },
    {
     "name": "stdout",
     "output_type": "stream",
     "text": [
      "Training Loss: 1.729453682899475\n",
      "MetaExploitModel Epoch 121, Loss: 1.729453682899475, Accuracy: 0.3173431734317343\n"
     ]
    },
    {
     "name": "stderr",
     "output_type": "stream",
     "text": [
      "/Users/visheshyadav/anaconda3/lib/python3.11/site-packages/sklearn/metrics/_classification.py:1531: UndefinedMetricWarning:\n",
      "\n",
      "Precision is ill-defined and being set to 0.0 in labels with no predicted samples. Use `zero_division` parameter to control this behavior.\n",
      "\n",
      "/var/folders/yf/20z1hn994jd04q4kl0gpgh740000gn/T/ipykernel_88315/4155612595.py:129: RuntimeWarning:\n",
      "\n",
      "invalid value encountered in divide\n",
      "\n"
     ]
    },
    {
     "name": "stdout",
     "output_type": "stream",
     "text": [
      "Training Loss: 1.736744999885559\n",
      "MetaExploitModel Epoch 122, Loss: 1.736744999885559, Accuracy: 0.3173431734317343\n"
     ]
    },
    {
     "name": "stderr",
     "output_type": "stream",
     "text": [
      "/Users/visheshyadav/anaconda3/lib/python3.11/site-packages/sklearn/metrics/_classification.py:1531: UndefinedMetricWarning:\n",
      "\n",
      "Precision is ill-defined and being set to 0.0 in labels with no predicted samples. Use `zero_division` parameter to control this behavior.\n",
      "\n",
      "/var/folders/yf/20z1hn994jd04q4kl0gpgh740000gn/T/ipykernel_88315/4155612595.py:129: RuntimeWarning:\n",
      "\n",
      "invalid value encountered in divide\n",
      "\n"
     ]
    },
    {
     "name": "stdout",
     "output_type": "stream",
     "text": [
      "Training Loss: 1.7330021858215332\n",
      "MetaExploitModel Epoch 123, Loss: 1.7330021858215332, Accuracy: 0.3173431734317343\n"
     ]
    },
    {
     "name": "stderr",
     "output_type": "stream",
     "text": [
      "/Users/visheshyadav/anaconda3/lib/python3.11/site-packages/sklearn/metrics/_classification.py:1531: UndefinedMetricWarning:\n",
      "\n",
      "Precision is ill-defined and being set to 0.0 in labels with no predicted samples. Use `zero_division` parameter to control this behavior.\n",
      "\n",
      "/var/folders/yf/20z1hn994jd04q4kl0gpgh740000gn/T/ipykernel_88315/4155612595.py:129: RuntimeWarning:\n",
      "\n",
      "invalid value encountered in divide\n",
      "\n"
     ]
    },
    {
     "name": "stdout",
     "output_type": "stream",
     "text": [
      "Training Loss: 1.7275187969207764\n",
      "MetaExploitModel Epoch 124, Loss: 1.7275187969207764, Accuracy: 0.3173431734317343\n"
     ]
    },
    {
     "name": "stderr",
     "output_type": "stream",
     "text": [
      "/Users/visheshyadav/anaconda3/lib/python3.11/site-packages/sklearn/metrics/_classification.py:1531: UndefinedMetricWarning:\n",
      "\n",
      "Precision is ill-defined and being set to 0.0 in labels with no predicted samples. Use `zero_division` parameter to control this behavior.\n",
      "\n",
      "/var/folders/yf/20z1hn994jd04q4kl0gpgh740000gn/T/ipykernel_88315/4155612595.py:129: RuntimeWarning:\n",
      "\n",
      "invalid value encountered in divide\n",
      "\n"
     ]
    },
    {
     "name": "stdout",
     "output_type": "stream",
     "text": [
      "Training Loss: 1.7365632057189941\n",
      "MetaExploitModel Epoch 125, Loss: 1.7365632057189941, Accuracy: 0.3173431734317343\n"
     ]
    },
    {
     "name": "stderr",
     "output_type": "stream",
     "text": [
      "/Users/visheshyadav/anaconda3/lib/python3.11/site-packages/sklearn/metrics/_classification.py:1531: UndefinedMetricWarning:\n",
      "\n",
      "Precision is ill-defined and being set to 0.0 in labels with no predicted samples. Use `zero_division` parameter to control this behavior.\n",
      "\n",
      "/var/folders/yf/20z1hn994jd04q4kl0gpgh740000gn/T/ipykernel_88315/4155612595.py:129: RuntimeWarning:\n",
      "\n",
      "invalid value encountered in divide\n",
      "\n"
     ]
    },
    {
     "name": "stdout",
     "output_type": "stream",
     "text": [
      "Training Loss: 1.736031174659729\n",
      "MetaExploitModel Epoch 126, Loss: 1.736031174659729, Accuracy: 0.3173431734317343\n"
     ]
    },
    {
     "name": "stderr",
     "output_type": "stream",
     "text": [
      "/Users/visheshyadav/anaconda3/lib/python3.11/site-packages/sklearn/metrics/_classification.py:1531: UndefinedMetricWarning:\n",
      "\n",
      "Precision is ill-defined and being set to 0.0 in labels with no predicted samples. Use `zero_division` parameter to control this behavior.\n",
      "\n",
      "/var/folders/yf/20z1hn994jd04q4kl0gpgh740000gn/T/ipykernel_88315/4155612595.py:129: RuntimeWarning:\n",
      "\n",
      "invalid value encountered in divide\n",
      "\n"
     ]
    },
    {
     "name": "stdout",
     "output_type": "stream",
     "text": [
      "Training Loss: 1.7271559238433838\n",
      "MetaExploitModel Epoch 127, Loss: 1.7271559238433838, Accuracy: 0.3173431734317343\n"
     ]
    },
    {
     "name": "stderr",
     "output_type": "stream",
     "text": [
      "/Users/visheshyadav/anaconda3/lib/python3.11/site-packages/sklearn/metrics/_classification.py:1531: UndefinedMetricWarning:\n",
      "\n",
      "Precision is ill-defined and being set to 0.0 in labels with no predicted samples. Use `zero_division` parameter to control this behavior.\n",
      "\n",
      "/var/folders/yf/20z1hn994jd04q4kl0gpgh740000gn/T/ipykernel_88315/4155612595.py:129: RuntimeWarning:\n",
      "\n",
      "invalid value encountered in divide\n",
      "\n"
     ]
    },
    {
     "name": "stdout",
     "output_type": "stream",
     "text": [
      "Training Loss: 1.7323029041290283\n",
      "MetaExploitModel Epoch 128, Loss: 1.7323029041290283, Accuracy: 0.3173431734317343\n"
     ]
    },
    {
     "name": "stderr",
     "output_type": "stream",
     "text": [
      "/Users/visheshyadav/anaconda3/lib/python3.11/site-packages/sklearn/metrics/_classification.py:1531: UndefinedMetricWarning:\n",
      "\n",
      "Precision is ill-defined and being set to 0.0 in labels with no predicted samples. Use `zero_division` parameter to control this behavior.\n",
      "\n",
      "/var/folders/yf/20z1hn994jd04q4kl0gpgh740000gn/T/ipykernel_88315/4155612595.py:129: RuntimeWarning:\n",
      "\n",
      "invalid value encountered in divide\n",
      "\n"
     ]
    },
    {
     "name": "stdout",
     "output_type": "stream",
     "text": [
      "Training Loss: 1.7325246334075928\n",
      "MetaExploitModel Epoch 129, Loss: 1.7325246334075928, Accuracy: 0.3173431734317343\n"
     ]
    },
    {
     "name": "stderr",
     "output_type": "stream",
     "text": [
      "/Users/visheshyadav/anaconda3/lib/python3.11/site-packages/sklearn/metrics/_classification.py:1531: UndefinedMetricWarning:\n",
      "\n",
      "Precision is ill-defined and being set to 0.0 in labels with no predicted samples. Use `zero_division` parameter to control this behavior.\n",
      "\n",
      "/var/folders/yf/20z1hn994jd04q4kl0gpgh740000gn/T/ipykernel_88315/4155612595.py:129: RuntimeWarning:\n",
      "\n",
      "invalid value encountered in divide\n",
      "\n"
     ]
    },
    {
     "name": "stdout",
     "output_type": "stream",
     "text": [
      "Training Loss: 1.7295942306518555\n",
      "MetaExploitModel Epoch 130, Loss: 1.7295942306518555, Accuracy: 0.3173431734317343\n"
     ]
    },
    {
     "name": "stderr",
     "output_type": "stream",
     "text": [
      "/Users/visheshyadav/anaconda3/lib/python3.11/site-packages/sklearn/metrics/_classification.py:1531: UndefinedMetricWarning:\n",
      "\n",
      "Precision is ill-defined and being set to 0.0 in labels with no predicted samples. Use `zero_division` parameter to control this behavior.\n",
      "\n",
      "/var/folders/yf/20z1hn994jd04q4kl0gpgh740000gn/T/ipykernel_88315/4155612595.py:129: RuntimeWarning:\n",
      "\n",
      "invalid value encountered in divide\n",
      "\n"
     ]
    },
    {
     "name": "stdout",
     "output_type": "stream",
     "text": [
      "Training Loss: 1.7297866344451904\n",
      "MetaExploitModel Epoch 131, Loss: 1.7297866344451904, Accuracy: 0.3173431734317343\n"
     ]
    },
    {
     "name": "stderr",
     "output_type": "stream",
     "text": [
      "/Users/visheshyadav/anaconda3/lib/python3.11/site-packages/sklearn/metrics/_classification.py:1531: UndefinedMetricWarning:\n",
      "\n",
      "Precision is ill-defined and being set to 0.0 in labels with no predicted samples. Use `zero_division` parameter to control this behavior.\n",
      "\n",
      "/var/folders/yf/20z1hn994jd04q4kl0gpgh740000gn/T/ipykernel_88315/4155612595.py:129: RuntimeWarning:\n",
      "\n",
      "invalid value encountered in divide\n",
      "\n"
     ]
    },
    {
     "name": "stdout",
     "output_type": "stream",
     "text": [
      "Training Loss: 1.7394113540649414\n",
      "MetaExploitModel Epoch 132, Loss: 1.7394113540649414, Accuracy: 0.3173431734317343\n"
     ]
    },
    {
     "name": "stderr",
     "output_type": "stream",
     "text": [
      "/Users/visheshyadav/anaconda3/lib/python3.11/site-packages/sklearn/metrics/_classification.py:1531: UndefinedMetricWarning:\n",
      "\n",
      "Precision is ill-defined and being set to 0.0 in labels with no predicted samples. Use `zero_division` parameter to control this behavior.\n",
      "\n",
      "/var/folders/yf/20z1hn994jd04q4kl0gpgh740000gn/T/ipykernel_88315/4155612595.py:129: RuntimeWarning:\n",
      "\n",
      "invalid value encountered in divide\n",
      "\n"
     ]
    },
    {
     "name": "stdout",
     "output_type": "stream",
     "text": [
      "Training Loss: 1.7352110147476196\n",
      "MetaExploitModel Epoch 133, Loss: 1.7352110147476196, Accuracy: 0.3173431734317343\n"
     ]
    },
    {
     "name": "stderr",
     "output_type": "stream",
     "text": [
      "/Users/visheshyadav/anaconda3/lib/python3.11/site-packages/sklearn/metrics/_classification.py:1531: UndefinedMetricWarning:\n",
      "\n",
      "Precision is ill-defined and being set to 0.0 in labels with no predicted samples. Use `zero_division` parameter to control this behavior.\n",
      "\n",
      "/var/folders/yf/20z1hn994jd04q4kl0gpgh740000gn/T/ipykernel_88315/4155612595.py:129: RuntimeWarning:\n",
      "\n",
      "invalid value encountered in divide\n",
      "\n"
     ]
    },
    {
     "name": "stdout",
     "output_type": "stream",
     "text": [
      "Training Loss: 1.7353194952011108\n",
      "MetaExploitModel Epoch 134, Loss: 1.7353194952011108, Accuracy: 0.3173431734317343\n"
     ]
    },
    {
     "name": "stderr",
     "output_type": "stream",
     "text": [
      "/Users/visheshyadav/anaconda3/lib/python3.11/site-packages/sklearn/metrics/_classification.py:1531: UndefinedMetricWarning:\n",
      "\n",
      "Precision is ill-defined and being set to 0.0 in labels with no predicted samples. Use `zero_division` parameter to control this behavior.\n",
      "\n",
      "/var/folders/yf/20z1hn994jd04q4kl0gpgh740000gn/T/ipykernel_88315/4155612595.py:129: RuntimeWarning:\n",
      "\n",
      "invalid value encountered in divide\n",
      "\n"
     ]
    },
    {
     "name": "stdout",
     "output_type": "stream",
     "text": [
      "Training Loss: 1.7335340976715088\n",
      "MetaExploitModel Epoch 135, Loss: 1.7335340976715088, Accuracy: 0.3173431734317343\n"
     ]
    },
    {
     "name": "stderr",
     "output_type": "stream",
     "text": [
      "/Users/visheshyadav/anaconda3/lib/python3.11/site-packages/sklearn/metrics/_classification.py:1531: UndefinedMetricWarning:\n",
      "\n",
      "Precision is ill-defined and being set to 0.0 in labels with no predicted samples. Use `zero_division` parameter to control this behavior.\n",
      "\n",
      "/var/folders/yf/20z1hn994jd04q4kl0gpgh740000gn/T/ipykernel_88315/4155612595.py:129: RuntimeWarning:\n",
      "\n",
      "invalid value encountered in divide\n",
      "\n"
     ]
    },
    {
     "name": "stdout",
     "output_type": "stream",
     "text": [
      "Training Loss: 1.7383627891540527\n",
      "MetaExploitModel Epoch 136, Loss: 1.7383627891540527, Accuracy: 0.3173431734317343\n"
     ]
    },
    {
     "name": "stderr",
     "output_type": "stream",
     "text": [
      "/Users/visheshyadav/anaconda3/lib/python3.11/site-packages/sklearn/metrics/_classification.py:1531: UndefinedMetricWarning:\n",
      "\n",
      "Precision is ill-defined and being set to 0.0 in labels with no predicted samples. Use `zero_division` parameter to control this behavior.\n",
      "\n",
      "/var/folders/yf/20z1hn994jd04q4kl0gpgh740000gn/T/ipykernel_88315/4155612595.py:129: RuntimeWarning:\n",
      "\n",
      "invalid value encountered in divide\n",
      "\n"
     ]
    },
    {
     "name": "stdout",
     "output_type": "stream",
     "text": [
      "Training Loss: 1.7409933805465698\n",
      "MetaExploitModel Epoch 137, Loss: 1.7409933805465698, Accuracy: 0.3173431734317343\n"
     ]
    },
    {
     "name": "stderr",
     "output_type": "stream",
     "text": [
      "/Users/visheshyadav/anaconda3/lib/python3.11/site-packages/sklearn/metrics/_classification.py:1531: UndefinedMetricWarning:\n",
      "\n",
      "Precision is ill-defined and being set to 0.0 in labels with no predicted samples. Use `zero_division` parameter to control this behavior.\n",
      "\n",
      "/var/folders/yf/20z1hn994jd04q4kl0gpgh740000gn/T/ipykernel_88315/4155612595.py:129: RuntimeWarning:\n",
      "\n",
      "invalid value encountered in divide\n",
      "\n"
     ]
    },
    {
     "ename": "KeyboardInterrupt",
     "evalue": "",
     "output_type": "error",
     "traceback": [
      "\u001b[0;31m---------------------------------------------------------------------------\u001b[0m",
      "\u001b[0;31mKeyboardInterrupt\u001b[0m                         Traceback (most recent call last)",
      "Cell \u001b[0;32mIn[15], line 233\u001b[0m\n\u001b[1;32m    231\u001b[0m \u001b[38;5;66;03m# Train and evaluate MetaExploitModel with early stopping and learning rate scheduler\u001b[39;00m\n\u001b[1;32m    232\u001b[0m \u001b[38;5;28;01mfor\u001b[39;00m epoch \u001b[38;5;129;01min\u001b[39;00m \u001b[38;5;28mrange\u001b[39m(epoch):\n\u001b[0;32m--> 233\u001b[0m     loss \u001b[38;5;241m=\u001b[39m train(meta_exploit_model, meta_exploit_optimizer, is_meta_exploit\u001b[38;5;241m=\u001b[39m\u001b[38;5;28;01mTrue\u001b[39;00m)\n\u001b[1;32m    234\u001b[0m     evaluate(meta_exploit_model, meta_exploit_metrics, is_meta_exploit\u001b[38;5;241m=\u001b[39m\u001b[38;5;28;01mTrue\u001b[39;00m)\n\u001b[1;32m    235\u001b[0m     \u001b[38;5;28mprint\u001b[39m(\u001b[38;5;124mf\u001b[39m\u001b[38;5;124m'\u001b[39m\u001b[38;5;124mMetaExploitModel Epoch \u001b[39m\u001b[38;5;132;01m{\u001b[39;00mepoch\u001b[38;5;132;01m}\u001b[39;00m\u001b[38;5;124m, Loss: \u001b[39m\u001b[38;5;132;01m{\u001b[39;00mloss\u001b[38;5;132;01m}\u001b[39;00m\u001b[38;5;124m, Accuracy: \u001b[39m\u001b[38;5;132;01m{\u001b[39;00mmeta_exploit_metrics[\u001b[38;5;124m\"\u001b[39m\u001b[38;5;124maccuracy\u001b[39m\u001b[38;5;124m\"\u001b[39m][\u001b[38;5;241m-\u001b[39m\u001b[38;5;241m1\u001b[39m]\u001b[38;5;132;01m}\u001b[39;00m\u001b[38;5;124m'\u001b[39m)\n",
      "Cell \u001b[0;32mIn[15], line 95\u001b[0m, in \u001b[0;36mtrain\u001b[0;34m(model, optimizer, is_meta_exploit)\u001b[0m\n\u001b[1;32m     93\u001b[0m     out \u001b[38;5;241m=\u001b[39m model(data\u001b[38;5;241m.\u001b[39mx, data\u001b[38;5;241m.\u001b[39medge_index)\n\u001b[1;32m     94\u001b[0m loss \u001b[38;5;241m=\u001b[39m F\u001b[38;5;241m.\u001b[39mnll_loss(out[data\u001b[38;5;241m.\u001b[39mtrain_mask], data\u001b[38;5;241m.\u001b[39my[data\u001b[38;5;241m.\u001b[39mtrain_mask])\n\u001b[0;32m---> 95\u001b[0m loss\u001b[38;5;241m.\u001b[39mbackward()\n\u001b[1;32m     96\u001b[0m optimizer\u001b[38;5;241m.\u001b[39mstep()\n\u001b[1;32m     97\u001b[0m \u001b[38;5;28mprint\u001b[39m(\u001b[38;5;124mf\u001b[39m\u001b[38;5;124m\"\u001b[39m\u001b[38;5;124mTraining Loss: \u001b[39m\u001b[38;5;132;01m{\u001b[39;00mloss\u001b[38;5;241m.\u001b[39mitem()\u001b[38;5;132;01m}\u001b[39;00m\u001b[38;5;124m\"\u001b[39m)\n",
      "File \u001b[0;32m~/anaconda3/lib/python3.11/site-packages/torch/_tensor.py:525\u001b[0m, in \u001b[0;36mTensor.backward\u001b[0;34m(self, gradient, retain_graph, create_graph, inputs)\u001b[0m\n\u001b[1;32m    515\u001b[0m \u001b[38;5;28;01mif\u001b[39;00m has_torch_function_unary(\u001b[38;5;28mself\u001b[39m):\n\u001b[1;32m    516\u001b[0m     \u001b[38;5;28;01mreturn\u001b[39;00m handle_torch_function(\n\u001b[1;32m    517\u001b[0m         Tensor\u001b[38;5;241m.\u001b[39mbackward,\n\u001b[1;32m    518\u001b[0m         (\u001b[38;5;28mself\u001b[39m,),\n\u001b[0;32m   (...)\u001b[0m\n\u001b[1;32m    523\u001b[0m         inputs\u001b[38;5;241m=\u001b[39minputs,\n\u001b[1;32m    524\u001b[0m     )\n\u001b[0;32m--> 525\u001b[0m torch\u001b[38;5;241m.\u001b[39mautograd\u001b[38;5;241m.\u001b[39mbackward(\n\u001b[1;32m    526\u001b[0m     \u001b[38;5;28mself\u001b[39m, gradient, retain_graph, create_graph, inputs\u001b[38;5;241m=\u001b[39minputs\n\u001b[1;32m    527\u001b[0m )\n",
      "File \u001b[0;32m~/anaconda3/lib/python3.11/site-packages/torch/autograd/__init__.py:267\u001b[0m, in \u001b[0;36mbackward\u001b[0;34m(tensors, grad_tensors, retain_graph, create_graph, grad_variables, inputs)\u001b[0m\n\u001b[1;32m    262\u001b[0m     retain_graph \u001b[38;5;241m=\u001b[39m create_graph\n\u001b[1;32m    264\u001b[0m \u001b[38;5;66;03m# The reason we repeat the same comment below is that\u001b[39;00m\n\u001b[1;32m    265\u001b[0m \u001b[38;5;66;03m# some Python versions print out the first line of a multi-line function\u001b[39;00m\n\u001b[1;32m    266\u001b[0m \u001b[38;5;66;03m# calls in the traceback and some print out the last line\u001b[39;00m\n\u001b[0;32m--> 267\u001b[0m _engine_run_backward(\n\u001b[1;32m    268\u001b[0m     tensors,\n\u001b[1;32m    269\u001b[0m     grad_tensors_,\n\u001b[1;32m    270\u001b[0m     retain_graph,\n\u001b[1;32m    271\u001b[0m     create_graph,\n\u001b[1;32m    272\u001b[0m     inputs,\n\u001b[1;32m    273\u001b[0m     allow_unreachable\u001b[38;5;241m=\u001b[39m\u001b[38;5;28;01mTrue\u001b[39;00m,\n\u001b[1;32m    274\u001b[0m     accumulate_grad\u001b[38;5;241m=\u001b[39m\u001b[38;5;28;01mTrue\u001b[39;00m,\n\u001b[1;32m    275\u001b[0m )\n",
      "File \u001b[0;32m~/anaconda3/lib/python3.11/site-packages/torch/autograd/graph.py:744\u001b[0m, in \u001b[0;36m_engine_run_backward\u001b[0;34m(t_outputs, *args, **kwargs)\u001b[0m\n\u001b[1;32m    742\u001b[0m     unregister_hooks \u001b[38;5;241m=\u001b[39m _register_logging_hooks_on_whole_graph(t_outputs)\n\u001b[1;32m    743\u001b[0m \u001b[38;5;28;01mtry\u001b[39;00m:\n\u001b[0;32m--> 744\u001b[0m     \u001b[38;5;28;01mreturn\u001b[39;00m Variable\u001b[38;5;241m.\u001b[39m_execution_engine\u001b[38;5;241m.\u001b[39mrun_backward(  \u001b[38;5;66;03m# Calls into the C++ engine to run the backward pass\u001b[39;00m\n\u001b[1;32m    745\u001b[0m         t_outputs, \u001b[38;5;241m*\u001b[39margs, \u001b[38;5;241m*\u001b[39m\u001b[38;5;241m*\u001b[39mkwargs\n\u001b[1;32m    746\u001b[0m     )  \u001b[38;5;66;03m# Calls into the C++ engine to run the backward pass\u001b[39;00m\n\u001b[1;32m    747\u001b[0m \u001b[38;5;28;01mfinally\u001b[39;00m:\n\u001b[1;32m    748\u001b[0m     \u001b[38;5;28;01mif\u001b[39;00m attach_logging_hooks:\n",
      "\u001b[0;31mKeyboardInterrupt\u001b[0m: "
     ]
    }
   ],
   "source": [
    "import torch\n",
    "import torch.nn.functional as F\n",
    "from torch_geometric.nn import GATConv, GCNConv, SAGEConv\n",
    "from torch_geometric.data import Data, InMemoryDataset\n",
    "from torch_geometric.transforms import NormalizeFeatures\n",
    "from sklearn.metrics import precision_score, recall_score, f1_score, roc_auc_score, matthews_corrcoef, confusion_matrix, accuracy_score\n",
    "import matplotlib.pyplot as plt\n",
    "import numpy as np\n",
    "import json\n",
    "\n",
    "# Import GraphTransformer from core_rec.py\n",
    "from core_rec import GraphTransformer \n",
    "import pandas as pd\n",
    "\n",
    "# Normalize features\n",
    "dataset = Planetoid(root='/tmp/Cora', name='Cora', transform=NormalizeFeatures())\n",
    "data = dataset[0]\n",
    "\n",
    "# Add train_mask and test_mask\n",
    "num_nodes = data.num_nodes\n",
    "train_mask = torch.zeros(num_nodes, dtype=torch.bool)\n",
    "train_mask[:int(0.8 * num_nodes)] = True\n",
    "test_mask = ~train_mask\n",
    "\n",
    "data.train_mask = train_mask\n",
    "data.test_mask = test_mask\n",
    "\n",
    "# Add labels (y) if not already present\n",
    "num_classes = dataset.num_classes\n",
    "\n",
    "class GAT(torch.nn.Module):\n",
    "    def __init__(self, in_channels, out_channels):\n",
    "        super(GAT, self).__init__()\n",
    "        self.conv1 = GATConv(in_channels, 8, heads=8, dropout=0.6)\n",
    "        self.conv2 = GATConv(8 * 8, 8, heads=8, dropout=0.6)\n",
    "        self.conv3 = GATConv(8 * 8, out_channels, heads=1, concat=True, dropout=0.6)\n",
    "\n",
    "    def forward(self, x, edge_index):\n",
    "        x = F.dropout(x, p=0.6, training=self.training)\n",
    "        x = F.elu(self.conv1(x, edge_index))\n",
    "        x = F.dropout(x, p=0.6, training=self.training)\n",
    "        x = F.elu(self.conv2(x, edge_index))\n",
    "        x = F.dropout(x, p=0.6, training=self.training)\n",
    "        x = self.conv3(x, edge_index)\n",
    "        return F.log_softmax(x, dim=1)\n",
    "\n",
    "class GCN(torch.nn.Module):\n",
    "    def __init__(self, in_channels, out_channels):\n",
    "        super(GCN, self).__init__()\n",
    "        self.conv1 = GCNConv(in_channels, 16)\n",
    "        self.conv2 = GCNConv(16, out_channels)\n",
    "\n",
    "    def forward(self, x, edge_index):\n",
    "        x = F.relu(self.conv1(x, edge_index))\n",
    "        x = F.dropout(x, p=0.5, training=self.training)\n",
    "        x = self.conv2(x, edge_index)\n",
    "        return F.log_softmax(x, dim=1)\n",
    "\n",
    "class GraphSAGE(torch.nn.Module):\n",
    "    def __init__(self, in_channels, hidden_channels, out_channels):\n",
    "        super(GraphSAGE, self).__init__()\n",
    "        self.conv1 = SAGEConv(in_channels, hidden_channels)\n",
    "        self.conv2 = SAGEConv(hidden_channels, out_channels)\n",
    "\n",
    "    def forward(self, x, edge_index):\n",
    "        x = self.conv1(x, edge_index)\n",
    "        x = F.relu(x)\n",
    "        x = F.dropout(x, p=0.5, training=self.training)\n",
    "        x = self.conv2(x, edge_index)\n",
    "        return F.log_softmax(x, dim=1)\n",
    "\n",
    "# Define MetaExploitModel\n",
    "class MetaExploitModel(torch.nn.Module):\n",
    "    def __init__(self, input_dim):\n",
    "        super(MetaExploitModel, self).__init__()\n",
    "        num_layers = 1\n",
    "        d_model = 128\n",
    "        num_heads = 8\n",
    "        d_feedforward = 512\n",
    "        self.model = GraphTransformer(num_layers, d_model, num_heads, d_feedforward, input_dim, use_weights=True)\n",
    "    def forward(self, data):\n",
    "            adj_matrix = data.x.numpy()  # Assuming data.x is the adjacency matrix\n",
    "            adj_matrix = torch.tensor(adj_matrix, dtype=torch.float32)\n",
    "            output = self.model(adj_matrix)\n",
    "            return F.log_softmax(output, dim=1)\n",
    "\n",
    "def train(model, optimizer, is_meta_exploit=False):\n",
    "    model.train()\n",
    "    optimizer.zero_grad()\n",
    "    if is_meta_exploit:\n",
    "        out = model(data)\n",
    "    else:\n",
    "        out = model(data.x, data.edge_index)\n",
    "    loss = F.nll_loss(out[data.train_mask], data.y[data.train_mask])\n",
    "    loss.backward()\n",
    "    optimizer.step()\n",
    "    print(f\"Training Loss: {loss.item()}\")\n",
    "    return loss.item()\n",
    "\n",
    "def evaluate(model, metrics, is_meta_exploit=False):\n",
    "    model.eval()\n",
    "    with torch.no_grad():\n",
    "        if is_meta_exploit:\n",
    "            out = model(data)\n",
    "            out = out.view(data.num_nodes, -1)  # Ensure the output shape matches the number of nodes and classes\n",
    "        else:\n",
    "            out = model(data.x, data.edge_index)\n",
    "        pred = out.argmax(dim=1)\n",
    "        y_true = data.y.cpu().numpy()\n",
    "        y_pred = pred.cpu().numpy()\n",
    "\n",
    "        precision = precision_score(y_true[data.test_mask], y_pred[data.test_mask], average='macro')\n",
    "        recall = recall_score(y_true[data.test_mask], y_pred[data.test_mask], average='macro')\n",
    "        f1 = f1_score(y_true[data.test_mask], y_pred[data.test_mask], average='macro')\n",
    "\n",
    "        # Check if y_true and out have the same number of classes\n",
    "        num_classes = out.shape[1]\n",
    "        unique_labels = np.unique(y_true[data.test_mask])\n",
    "        if len(unique_labels) == num_classes:\n",
    "            roc_auc = roc_auc_score(y_true[data.test_mask], F.softmax(out[data.test_mask], dim=1).cpu().numpy(), multi_class='ovr')\n",
    "        else:\n",
    "            roc_auc = float('nan')  # Or handle this case as appropriate\n",
    "\n",
    "        mcc = matthews_corrcoef(y_true[data.test_mask], y_pred[data.test_mask])\n",
    "        accuracy = accuracy_score(y_true[data.test_mask], y_pred[data.test_mask])\n",
    "\n",
    "        cm = confusion_matrix(y_true[data.test_mask], y_pred[data.test_mask])\n",
    "        specificity = np.mean(np.diag(cm) / np.sum(cm, axis=1))\n",
    "        sensitivity = np.mean(np.diag(cm) / np.sum(cm, axis=0))\n",
    "\n",
    "        # metrics['precision'].append(precision)\n",
    "        # metrics['recall'].append(recall)\n",
    "        # metrics['f1_score'].append(f1)\n",
    "        # metrics['specificity'].append(specificity)\n",
    "        # metrics['sensitivity'].append(sensitivity)\n",
    "        # metrics['roc_auc'].append(roc_auc)\n",
    "        # metrics['mcc'].append(mcc)\n",
    "        metrics['accuracy'].append(accuracy)\n",
    "\n",
    "\n",
    "# Initialize models and optimizers with the correct number of output classes\n",
    "num_classes = dataset.num_classes\n",
    "\n",
    "gat_model = GAT(in_channels=data.num_node_features, out_channels=num_classes)\n",
    "gat_optimizer = torch.optim.Adam(gat_model.parameters(), lr=0.01, weight_decay=5e-4)\n",
    "gat_scheduler = torch.optim.lr_scheduler.ReduceLROnPlateau(gat_optimizer, mode='min', factor=0.1, patience=5, verbose=True)\n",
    "\n",
    "gcn_model = GCN(in_channels=data.num_node_features, out_channels=num_classes)\n",
    "gcn_optimizer = torch.optim.Adam(gcn_model.parameters(), lr=0.01, weight_decay=5e-4)\n",
    "gcn_scheduler = torch.optim.lr_scheduler.ReduceLROnPlateau(gcn_optimizer, mode='min', factor=0.1, patience=5, verbose=True)\n",
    "\n",
    "graph_sage_model = GraphSAGE(in_channels=data.num_node_features, hidden_channels=16, out_channels=num_classes)\n",
    "graph_sage_optimizer = torch.optim.Adam(graph_sage_model.parameters(), lr=0.01, weight_decay=5e-4)\n",
    "graph_sage_scheduler = torch.optim.lr_scheduler.ReduceLROnPlateau(graph_sage_optimizer, mode='min', factor=0.1, patience=5, verbose=True)\n",
    "\n",
    "meta_exploit_model = MetaExploitModel(input_dim=data.num_node_features)\n",
    "meta_exploit_optimizer = torch.optim.Adam(meta_exploit_model.parameters(), lr=0.01, weight_decay=5e-4)\n",
    "meta_exploit_scheduler = torch.optim.lr_scheduler.ReduceLROnPlateau(meta_exploit_optimizer, mode='min', factor=0.1, patience=5, verbose=True)\n",
    "\n",
    "# Metrics storage\n",
    "gat_metrics = {\n",
    "    # 'precision': [],\n",
    "    # 'recall': [],\n",
    "    # 'f1_score': [],\n",
    "    # 'specificity': [],\n",
    "    # 'sensitivity': [],\n",
    "    # 'roc_auc': [],\n",
    "    # 'mcc': [],\n",
    "    'accuracy': []\n",
    "}\n",
    "\n",
    "gcn_metrics = {\n",
    "    # 'precision': [],\n",
    "    # 'recall': [],\n",
    "    # 'f1_score': [],\n",
    "    # 'specificity': [],\n",
    "    # 'sensitivity': [],\n",
    "    # 'roc_auc': [],\n",
    "    # 'mcc': [],\n",
    "    'accuracy': []\n",
    "}\n",
    "\n",
    "graph_sage_metrics = {\n",
    "    # 'precision': [],\n",
    "    # 'recall': [],\n",
    "    # 'f1_score': [],\n",
    "    # 'specificity': [],\n",
    "    # 'sensitivity': [],\n",
    "    # 'roc_auc': [],\n",
    "    # 'mcc': [],\n",
    "    'accuracy': []\n",
    "}\n",
    "\n",
    "meta_exploit_metrics = {\n",
    "    # 'precision': [],\n",
    "    # 'recall': [],\n",
    "    # 'f1_score': [],\n",
    "    # 'specificity': [],\n",
    "    # 'sensitivity': [],\n",
    "    # 'roc_auc': [],\n",
    "    # 'mcc': [],\n",
    "    'accuracy': []\n",
    "}\n",
    "\n",
    "# Early stopping parameters\n",
    "patience = 10\n",
    "best_loss = float('inf')\n",
    "patience_counter = 0\n",
    "epoch=200\n",
    "# Train and evaluate GAT model\n",
    "for epoch in range(epoch):\n",
    "    loss = train(gat_model, gat_optimizer)\n",
    "    evaluate(gat_model, gat_metrics)\n",
    "    print(f'GAT Epoch {epoch}, Loss: {loss}, Accuracy: {gat_metrics[\"accuracy\"][-1]}')\n",
    "    gat_scheduler.step(loss)\n",
    "\n",
    "# Train and evaluate GCN model\n",
    "for epoch in range(epoch):\n",
    "    loss = train(gcn_model, gcn_optimizer)\n",
    "    evaluate(gcn_model, gcn_metrics)\n",
    "    print(f'GCN Epoch {epoch}, Loss: {loss}, Accuracy: {gcn_metrics[\"accuracy\"][-1]}')\n",
    "    gcn_scheduler.step(loss)\n",
    "\n",
    "# Train and evaluate GraphSAGE model\n",
    "for epoch in range(epoch):\n",
    "    loss = train(graph_sage_model, graph_sage_optimizer)\n",
    "    evaluate(graph_sage_model, graph_sage_metrics)\n",
    "    print(f'GraphSAGE Epoch {epoch}, Loss: {loss}, Accuracy: {graph_sage_metrics[\"accuracy\"][-1]}')\n",
    "    graph_sage_scheduler.step(loss)\n",
    "\n",
    "# Train and evaluate MetaExploitModel with early stopping and learning rate scheduler\n",
    "for epoch in range(epoch):\n",
    "    loss = train(meta_exploit_model, meta_exploit_optimizer, is_meta_exploit=True)\n",
    "    evaluate(meta_exploit_model, meta_exploit_metrics, is_meta_exploit=True)\n",
    "    print(f'MetaExploitModel Epoch {epoch}, Loss: {loss}, Accuracy: {meta_exploit_metrics[\"accuracy\"][-1]}')\n",
    "\n",
    "    # Update learning rate scheduler\n",
    "    meta_exploit_scheduler.step(loss)\n",
    "\n",
    "\n",
    "# Save metrics to JSON file\n",
    "metrics_dict = {\n",
    "    'GAT': gat_metrics,\n",
    "    'GCN': gcn_metrics,\n",
    "    'GraphSAGE': graph_sage_metrics,\n",
    "    'MetaExploitModel': meta_exploit_metrics\n",
    "}\n",
    "with open('metrics.json', 'w') as f:\n",
    "    json.dump(metrics_dict, f)\n",
    "\n",
    "# Plotting the accuracy metrics\n",
    "plt.figure(figsize=(12, 8))\n",
    "plt.plot(gat_metrics['accuracy'], label='GAT Accuracy')\n",
    "plt.plot(gcn_metrics['accuracy'], label='GCN Accuracy')\n",
    "plt.plot(graph_sage_metrics['accuracy'], label='GraphSAGE Accuracy')\n",
    "plt.plot(meta_exploit_metrics['accuracy'], label='CoreRec Accuracy')\n",
    "plt.xlabel('Epoch')\n",
    "plt.ylabel('Accuracy')\n",
    "plt.legend()\n",
    "plt.title('Accuracy over Epochs')   \n",
    "plt.show()"
   ]
  },
  {
   "cell_type": "code",
   "execution_count": null,
   "metadata": {},
   "outputs": [
    {
     "name": "stdout",
     "output_type": "stream",
     "text": [
      "\n",
      "# Benchmark Table\n",
      "\n",
      "| Epoch Range | GAT Accuracy | GCN Accuracy | GraphSAGE Accuracy | MetaExploitModel Accuracy |\n",
      "|-------------|--------------|--------------|--------------------|---------------------------|\n",
      "| 1-10 | 0.370 | 0.317 | 0.211 | 0.354 |\n",
      "| 11-20 | 0.676 | 0.318 | 0.337 | 0.382 |\n",
      "| 21-30 | 0.843 | 0.337 | 0.479 | 0.616 |\n",
      "| 31-40 | 0.882 | 0.436 | 0.631 | 0.692 |\n",
      "| 41-50 | 0.892 | 0.532 | 0.761 | 0.736 |\n",
      "| 51-60 | 0.891 | 0.627 | 0.841 | 0.753 |\n",
      "| 61-70 | 0.893 | 0.709 | 0.861 | 0.771 |\n",
      "| 71-80 | 0.893 | 0.757 | 0.872 | 0.771 |\n",
      "| 81-90 | 0.893 | 0.773 | 0.880 | 0.766 |\n",
      "| 91-100 | 0.893 | 0.785 | 0.884 | 0.767 |\n",
      "| 101-110 | 0.893 | 0.804 | 0.885 | 0.768 |\n",
      "| 111-120 | 0.893 | 0.824 | 0.888 | 0.765 |\n",
      "| 121-130 | 0.893 | 0.845 | 0.886 | 0.764 |\n",
      "| 131-140 | 0.893 | 0.858 | 0.886 | 0.762 |\n",
      "| 141-150 | 0.893 | 0.865 | 0.886 | 0.767 |\n",
      "| 151-160 | 0.893 | 0.865 | 0.886 | 0.769 |\n",
      "| 161-170 | 0.893 | 0.866 | 0.886 | 0.772 |\n",
      "| 171-180 | 0.893 | 0.867 | 0.886 | 0.771 |\n",
      "| 181-190 | 0.893 | 0.867 | 0.886 | 0.771 |\n",
      "| 191-200 | 0.893 | 0.780 | 0.708 | 0.540 |\n",
      "\n"
     ]
    }
   ],
   "source": [
    "\n",
    "# Generate benchmark table in markdown\n",
    "benchmark_table = \"\"\"\n",
    "# Benchmark Table\n",
    "\n",
    "| Epoch Range | GAT Accuracy | GCN Accuracy | GraphSAGE Accuracy | MetaExploitModel Accuracy |\n",
    "|-------------|--------------|--------------|--------------------|---------------------------|\n",
    "\"\"\"\n",
    "\n",
    "for start_epoch in range(0, epoch, 10):\n",
    "    end_epoch = start_epoch + 10\n",
    "    gat_acc = sum(gat_metrics['accuracy'][start_epoch:end_epoch]) / 10\n",
    "    gcn_acc = sum(gcn_metrics['accuracy'][start_epoch:end_epoch]) / 10\n",
    "    graph_sage_acc = sum(graph_sage_metrics['accuracy'][start_epoch:end_epoch]) / 10\n",
    "    meta_exploit_acc = sum(meta_exploit_metrics['accuracy'][start_epoch:end_epoch]) / 10\n",
    "    benchmark_table += f\"| {start_epoch + 1}-{end_epoch} | {gat_acc:.3f} | {gcn_acc:.3f} | {graph_sage_acc:.3f} | {meta_exploit_acc:.3f} |\\n\"\n",
    "\n",
    "print(benchmark_table)"
   ]
  },
  {
   "cell_type": "code",
   "execution_count": 10,
   "metadata": {},
   "outputs": [
    {
     "data": {
      "application/vnd.plotly.v1+json": {
       "config": {
        "plotlyServerURL": "https://plot.ly"
       },
       "data": [
        {
         "mode": "lines+markers",
         "name": "GAT Accuracy",
         "type": "scatter",
         "x": [
          "1-10",
          "11-20",
          "21-30",
          "31-40",
          "41-50",
          "51-60",
          "61-70",
          "71-80",
          "81-90",
          "91-100",
          "101-110",
          "111-120",
          "121-130",
          "131-140",
          "141-150",
          "151-160",
          "161-170",
          "171-180",
          "181-190",
          "191-200"
         ],
         "y": [
          0.37,
          0.676,
          0.843,
          0.882,
          0.892,
          0.891,
          0.893,
          0.893,
          0.893,
          0.893,
          0.893,
          0.893,
          0.893,
          0.893,
          0.893,
          0.893,
          0.893,
          0.893,
          0.893,
          0.893
         ]
        },
        {
         "mode": "lines+markers",
         "name": "GCN Accuracy",
         "type": "scatter",
         "x": [
          "1-10",
          "11-20",
          "21-30",
          "31-40",
          "41-50",
          "51-60",
          "61-70",
          "71-80",
          "81-90",
          "91-100",
          "101-110",
          "111-120",
          "121-130",
          "131-140",
          "141-150",
          "151-160",
          "161-170",
          "171-180",
          "181-190",
          "191-200"
         ],
         "y": [
          0.317,
          0.318,
          0.337,
          0.436,
          0.532,
          0.627,
          0.709,
          0.757,
          0.773,
          0.785,
          0.804,
          0.824,
          0.845,
          0.858,
          0.865,
          0.865,
          0.866,
          0.867,
          0.867,
          0.78
         ]
        },
        {
         "mode": "lines+markers",
         "name": "GraphSAGE Accuracy",
         "type": "scatter",
         "x": [
          "1-10",
          "11-20",
          "21-30",
          "31-40",
          "41-50",
          "51-60",
          "61-70",
          "71-80",
          "81-90",
          "91-100",
          "101-110",
          "111-120",
          "121-130",
          "131-140",
          "141-150",
          "151-160",
          "161-170",
          "171-180",
          "181-190",
          "191-200"
         ],
         "y": [
          0.211,
          0.337,
          0.479,
          0.631,
          0.761,
          0.841,
          0.861,
          0.872,
          0.88,
          0.884,
          0.885,
          0.888,
          0.886,
          0.886,
          0.886,
          0.886,
          0.886,
          0.886,
          0.886,
          0.708
         ]
        },
        {
         "mode": "lines+markers",
         "name": "MetaExploitModel Accuracy",
         "type": "scatter",
         "x": [
          "1-10",
          "11-20",
          "21-30",
          "31-40",
          "41-50",
          "51-60",
          "61-70",
          "71-80",
          "81-90",
          "91-100",
          "101-110",
          "111-120",
          "121-130",
          "131-140",
          "141-150",
          "151-160",
          "161-170",
          "171-180",
          "181-190",
          "191-200"
         ],
         "y": [
          0.354,
          0.382,
          0.616,
          0.692,
          0.736,
          0.753,
          0.771,
          0.771,
          0.766,
          0.767,
          0.768,
          0.765,
          0.764,
          0.762,
          0.767,
          0.769,
          0.772,
          0.771,
          0.771,
          0.54
         ]
        }
       ],
       "layout": {
        "legend": {
         "title": {
          "text": "Models"
         }
        },
        "template": {
         "data": {
          "bar": [
           {
            "error_x": {
             "color": "#2a3f5f"
            },
            "error_y": {
             "color": "#2a3f5f"
            },
            "marker": {
             "line": {
              "color": "#E5ECF6",
              "width": 0.5
             },
             "pattern": {
              "fillmode": "overlay",
              "size": 10,
              "solidity": 0.2
             }
            },
            "type": "bar"
           }
          ],
          "barpolar": [
           {
            "marker": {
             "line": {
              "color": "#E5ECF6",
              "width": 0.5
             },
             "pattern": {
              "fillmode": "overlay",
              "size": 10,
              "solidity": 0.2
             }
            },
            "type": "barpolar"
           }
          ],
          "carpet": [
           {
            "aaxis": {
             "endlinecolor": "#2a3f5f",
             "gridcolor": "white",
             "linecolor": "white",
             "minorgridcolor": "white",
             "startlinecolor": "#2a3f5f"
            },
            "baxis": {
             "endlinecolor": "#2a3f5f",
             "gridcolor": "white",
             "linecolor": "white",
             "minorgridcolor": "white",
             "startlinecolor": "#2a3f5f"
            },
            "type": "carpet"
           }
          ],
          "choropleth": [
           {
            "colorbar": {
             "outlinewidth": 0,
             "ticks": ""
            },
            "type": "choropleth"
           }
          ],
          "contour": [
           {
            "colorbar": {
             "outlinewidth": 0,
             "ticks": ""
            },
            "colorscale": [
             [
              0,
              "#0d0887"
             ],
             [
              0.1111111111111111,
              "#46039f"
             ],
             [
              0.2222222222222222,
              "#7201a8"
             ],
             [
              0.3333333333333333,
              "#9c179e"
             ],
             [
              0.4444444444444444,
              "#bd3786"
             ],
             [
              0.5555555555555556,
              "#d8576b"
             ],
             [
              0.6666666666666666,
              "#ed7953"
             ],
             [
              0.7777777777777778,
              "#fb9f3a"
             ],
             [
              0.8888888888888888,
              "#fdca26"
             ],
             [
              1,
              "#f0f921"
             ]
            ],
            "type": "contour"
           }
          ],
          "contourcarpet": [
           {
            "colorbar": {
             "outlinewidth": 0,
             "ticks": ""
            },
            "type": "contourcarpet"
           }
          ],
          "heatmap": [
           {
            "colorbar": {
             "outlinewidth": 0,
             "ticks": ""
            },
            "colorscale": [
             [
              0,
              "#0d0887"
             ],
             [
              0.1111111111111111,
              "#46039f"
             ],
             [
              0.2222222222222222,
              "#7201a8"
             ],
             [
              0.3333333333333333,
              "#9c179e"
             ],
             [
              0.4444444444444444,
              "#bd3786"
             ],
             [
              0.5555555555555556,
              "#d8576b"
             ],
             [
              0.6666666666666666,
              "#ed7953"
             ],
             [
              0.7777777777777778,
              "#fb9f3a"
             ],
             [
              0.8888888888888888,
              "#fdca26"
             ],
             [
              1,
              "#f0f921"
             ]
            ],
            "type": "heatmap"
           }
          ],
          "heatmapgl": [
           {
            "colorbar": {
             "outlinewidth": 0,
             "ticks": ""
            },
            "colorscale": [
             [
              0,
              "#0d0887"
             ],
             [
              0.1111111111111111,
              "#46039f"
             ],
             [
              0.2222222222222222,
              "#7201a8"
             ],
             [
              0.3333333333333333,
              "#9c179e"
             ],
             [
              0.4444444444444444,
              "#bd3786"
             ],
             [
              0.5555555555555556,
              "#d8576b"
             ],
             [
              0.6666666666666666,
              "#ed7953"
             ],
             [
              0.7777777777777778,
              "#fb9f3a"
             ],
             [
              0.8888888888888888,
              "#fdca26"
             ],
             [
              1,
              "#f0f921"
             ]
            ],
            "type": "heatmapgl"
           }
          ],
          "histogram": [
           {
            "marker": {
             "pattern": {
              "fillmode": "overlay",
              "size": 10,
              "solidity": 0.2
             }
            },
            "type": "histogram"
           }
          ],
          "histogram2d": [
           {
            "colorbar": {
             "outlinewidth": 0,
             "ticks": ""
            },
            "colorscale": [
             [
              0,
              "#0d0887"
             ],
             [
              0.1111111111111111,
              "#46039f"
             ],
             [
              0.2222222222222222,
              "#7201a8"
             ],
             [
              0.3333333333333333,
              "#9c179e"
             ],
             [
              0.4444444444444444,
              "#bd3786"
             ],
             [
              0.5555555555555556,
              "#d8576b"
             ],
             [
              0.6666666666666666,
              "#ed7953"
             ],
             [
              0.7777777777777778,
              "#fb9f3a"
             ],
             [
              0.8888888888888888,
              "#fdca26"
             ],
             [
              1,
              "#f0f921"
             ]
            ],
            "type": "histogram2d"
           }
          ],
          "histogram2dcontour": [
           {
            "colorbar": {
             "outlinewidth": 0,
             "ticks": ""
            },
            "colorscale": [
             [
              0,
              "#0d0887"
             ],
             [
              0.1111111111111111,
              "#46039f"
             ],
             [
              0.2222222222222222,
              "#7201a8"
             ],
             [
              0.3333333333333333,
              "#9c179e"
             ],
             [
              0.4444444444444444,
              "#bd3786"
             ],
             [
              0.5555555555555556,
              "#d8576b"
             ],
             [
              0.6666666666666666,
              "#ed7953"
             ],
             [
              0.7777777777777778,
              "#fb9f3a"
             ],
             [
              0.8888888888888888,
              "#fdca26"
             ],
             [
              1,
              "#f0f921"
             ]
            ],
            "type": "histogram2dcontour"
           }
          ],
          "mesh3d": [
           {
            "colorbar": {
             "outlinewidth": 0,
             "ticks": ""
            },
            "type": "mesh3d"
           }
          ],
          "parcoords": [
           {
            "line": {
             "colorbar": {
              "outlinewidth": 0,
              "ticks": ""
             }
            },
            "type": "parcoords"
           }
          ],
          "pie": [
           {
            "automargin": true,
            "type": "pie"
           }
          ],
          "scatter": [
           {
            "fillpattern": {
             "fillmode": "overlay",
             "size": 10,
             "solidity": 0.2
            },
            "type": "scatter"
           }
          ],
          "scatter3d": [
           {
            "line": {
             "colorbar": {
              "outlinewidth": 0,
              "ticks": ""
             }
            },
            "marker": {
             "colorbar": {
              "outlinewidth": 0,
              "ticks": ""
             }
            },
            "type": "scatter3d"
           }
          ],
          "scattercarpet": [
           {
            "marker": {
             "colorbar": {
              "outlinewidth": 0,
              "ticks": ""
             }
            },
            "type": "scattercarpet"
           }
          ],
          "scattergeo": [
           {
            "marker": {
             "colorbar": {
              "outlinewidth": 0,
              "ticks": ""
             }
            },
            "type": "scattergeo"
           }
          ],
          "scattergl": [
           {
            "marker": {
             "colorbar": {
              "outlinewidth": 0,
              "ticks": ""
             }
            },
            "type": "scattergl"
           }
          ],
          "scattermapbox": [
           {
            "marker": {
             "colorbar": {
              "outlinewidth": 0,
              "ticks": ""
             }
            },
            "type": "scattermapbox"
           }
          ],
          "scatterpolar": [
           {
            "marker": {
             "colorbar": {
              "outlinewidth": 0,
              "ticks": ""
             }
            },
            "type": "scatterpolar"
           }
          ],
          "scatterpolargl": [
           {
            "marker": {
             "colorbar": {
              "outlinewidth": 0,
              "ticks": ""
             }
            },
            "type": "scatterpolargl"
           }
          ],
          "scatterternary": [
           {
            "marker": {
             "colorbar": {
              "outlinewidth": 0,
              "ticks": ""
             }
            },
            "type": "scatterternary"
           }
          ],
          "surface": [
           {
            "colorbar": {
             "outlinewidth": 0,
             "ticks": ""
            },
            "colorscale": [
             [
              0,
              "#0d0887"
             ],
             [
              0.1111111111111111,
              "#46039f"
             ],
             [
              0.2222222222222222,
              "#7201a8"
             ],
             [
              0.3333333333333333,
              "#9c179e"
             ],
             [
              0.4444444444444444,
              "#bd3786"
             ],
             [
              0.5555555555555556,
              "#d8576b"
             ],
             [
              0.6666666666666666,
              "#ed7953"
             ],
             [
              0.7777777777777778,
              "#fb9f3a"
             ],
             [
              0.8888888888888888,
              "#fdca26"
             ],
             [
              1,
              "#f0f921"
             ]
            ],
            "type": "surface"
           }
          ],
          "table": [
           {
            "cells": {
             "fill": {
              "color": "#EBF0F8"
             },
             "line": {
              "color": "white"
             }
            },
            "header": {
             "fill": {
              "color": "#C8D4E3"
             },
             "line": {
              "color": "white"
             }
            },
            "type": "table"
           }
          ]
         },
         "layout": {
          "annotationdefaults": {
           "arrowcolor": "#2a3f5f",
           "arrowhead": 0,
           "arrowwidth": 1
          },
          "autotypenumbers": "strict",
          "coloraxis": {
           "colorbar": {
            "outlinewidth": 0,
            "ticks": ""
           }
          },
          "colorscale": {
           "diverging": [
            [
             0,
             "#8e0152"
            ],
            [
             0.1,
             "#c51b7d"
            ],
            [
             0.2,
             "#de77ae"
            ],
            [
             0.3,
             "#f1b6da"
            ],
            [
             0.4,
             "#fde0ef"
            ],
            [
             0.5,
             "#f7f7f7"
            ],
            [
             0.6,
             "#e6f5d0"
            ],
            [
             0.7,
             "#b8e186"
            ],
            [
             0.8,
             "#7fbc41"
            ],
            [
             0.9,
             "#4d9221"
            ],
            [
             1,
             "#276419"
            ]
           ],
           "sequential": [
            [
             0,
             "#0d0887"
            ],
            [
             0.1111111111111111,
             "#46039f"
            ],
            [
             0.2222222222222222,
             "#7201a8"
            ],
            [
             0.3333333333333333,
             "#9c179e"
            ],
            [
             0.4444444444444444,
             "#bd3786"
            ],
            [
             0.5555555555555556,
             "#d8576b"
            ],
            [
             0.6666666666666666,
             "#ed7953"
            ],
            [
             0.7777777777777778,
             "#fb9f3a"
            ],
            [
             0.8888888888888888,
             "#fdca26"
            ],
            [
             1,
             "#f0f921"
            ]
           ],
           "sequentialminus": [
            [
             0,
             "#0d0887"
            ],
            [
             0.1111111111111111,
             "#46039f"
            ],
            [
             0.2222222222222222,
             "#7201a8"
            ],
            [
             0.3333333333333333,
             "#9c179e"
            ],
            [
             0.4444444444444444,
             "#bd3786"
            ],
            [
             0.5555555555555556,
             "#d8576b"
            ],
            [
             0.6666666666666666,
             "#ed7953"
            ],
            [
             0.7777777777777778,
             "#fb9f3a"
            ],
            [
             0.8888888888888888,
             "#fdca26"
            ],
            [
             1,
             "#f0f921"
            ]
           ]
          },
          "colorway": [
           "#636efa",
           "#EF553B",
           "#00cc96",
           "#ab63fa",
           "#FFA15A",
           "#19d3f3",
           "#FF6692",
           "#B6E880",
           "#FF97FF",
           "#FECB52"
          ],
          "font": {
           "color": "#2a3f5f"
          },
          "geo": {
           "bgcolor": "white",
           "lakecolor": "white",
           "landcolor": "#E5ECF6",
           "showlakes": true,
           "showland": true,
           "subunitcolor": "white"
          },
          "hoverlabel": {
           "align": "left"
          },
          "hovermode": "closest",
          "mapbox": {
           "style": "light"
          },
          "paper_bgcolor": "white",
          "plot_bgcolor": "#E5ECF6",
          "polar": {
           "angularaxis": {
            "gridcolor": "white",
            "linecolor": "white",
            "ticks": ""
           },
           "bgcolor": "#E5ECF6",
           "radialaxis": {
            "gridcolor": "white",
            "linecolor": "white",
            "ticks": ""
           }
          },
          "scene": {
           "xaxis": {
            "backgroundcolor": "#E5ECF6",
            "gridcolor": "white",
            "gridwidth": 2,
            "linecolor": "white",
            "showbackground": true,
            "ticks": "",
            "zerolinecolor": "white"
           },
           "yaxis": {
            "backgroundcolor": "#E5ECF6",
            "gridcolor": "white",
            "gridwidth": 2,
            "linecolor": "white",
            "showbackground": true,
            "ticks": "",
            "zerolinecolor": "white"
           },
           "zaxis": {
            "backgroundcolor": "#E5ECF6",
            "gridcolor": "white",
            "gridwidth": 2,
            "linecolor": "white",
            "showbackground": true,
            "ticks": "",
            "zerolinecolor": "white"
           }
          },
          "shapedefaults": {
           "line": {
            "color": "#2a3f5f"
           }
          },
          "ternary": {
           "aaxis": {
            "gridcolor": "white",
            "linecolor": "white",
            "ticks": ""
           },
           "baxis": {
            "gridcolor": "white",
            "linecolor": "white",
            "ticks": ""
           },
           "bgcolor": "#E5ECF6",
           "caxis": {
            "gridcolor": "white",
            "linecolor": "white",
            "ticks": ""
           }
          },
          "title": {
           "x": 0.05
          },
          "xaxis": {
           "automargin": true,
           "gridcolor": "white",
           "linecolor": "white",
           "ticks": "",
           "title": {
            "standoff": 15
           },
           "zerolinecolor": "white",
           "zerolinewidth": 2
          },
          "yaxis": {
           "automargin": true,
           "gridcolor": "white",
           "linecolor": "white",
           "ticks": "",
           "title": {
            "standoff": 15
           },
           "zerolinecolor": "white",
           "zerolinewidth": 2
          }
         }
        },
        "title": {
         "text": "Accuracy Over Epochs"
        },
        "xaxis": {
         "title": {
          "text": "Epoch Range"
         }
        },
        "yaxis": {
         "title": {
          "text": "Accuracy"
         }
        }
       }
      }
     },
     "metadata": {},
     "output_type": "display_data"
    }
   ],
   "source": [
    "import plotly.graph_objects as go\n",
    "\n",
    "# Data\n",
    "epoch_range = [f'{i}-{i+9}' for i in range(1, 201, 10)]\n",
    "gat_accuracy = [0.370, 0.676, 0.843, 0.882, 0.892, 0.891, 0.893, 0.893, 0.893, 0.893, 0.893, 0.893, 0.893, 0.893, 0.893, 0.893, 0.893, 0.893, 0.893, 0.893]\n",
    "gcn_accuracy = [0.317, 0.318, 0.337, 0.436, 0.532, 0.627, 0.709, 0.757, 0.773, 0.785, 0.804, 0.824, 0.845, 0.858, 0.865, 0.865, 0.866, 0.867, 0.867, 0.780]\n",
    "graphsage_accuracy = [0.211, 0.337, 0.479, 0.631, 0.761, 0.841, 0.861, 0.872, 0.880, 0.884, 0.885, 0.888, 0.886, 0.886, 0.886, 0.886, 0.886, 0.886, 0.886, 0.708]\n",
    "metaexploitmodel_accuracy = [0.354, 0.382, 0.616, 0.692, 0.736, 0.753, 0.771, 0.771, 0.766, 0.767, 0.768, 0.765, 0.764, 0.762, 0.767, 0.769, 0.772, 0.771, 0.771, 0.540]\n",
    "\n",
    "# Create traces\n",
    "fig = go.Figure()\n",
    "\n",
    "fig.add_trace(go.Scatter(x=epoch_range, y=gat_accuracy, mode='lines+markers', name='GAT Accuracy'))\n",
    "fig.add_trace(go.Scatter(x=epoch_range, y=gcn_accuracy, mode='lines+markers', name='GCN Accuracy'))\n",
    "fig.add_trace(go.Scatter(x=epoch_range, y=graphsage_accuracy, mode='lines+markers', name='GraphSAGE Accuracy'))\n",
    "fig.add_trace(go.Scatter(x=epoch_range, y=metaexploitmodel_accuracy, mode='lines+markers', name='MetaExploitModel Accuracy'))\n",
    "\n",
    "# Update layout\n",
    "fig.update_layout(\n",
    "    title='Accuracy Over Epochs',\n",
    "    xaxis_title='Epoch Range',\n",
    "    yaxis_title='Accuracy',\n",
    "    legend_title='Models'\n",
    "    # template='plotly_dark'\n",
    ")\n",
    "\n",
    "# Show plot\n",
    "fig.show()"
   ]
  },
  {
   "cell_type": "code",
   "execution_count": null,
   "metadata": {},
   "outputs": [],
   "source": []
  }
 ],
 "metadata": {
  "kernelspec": {
   "display_name": "base",
   "language": "python",
   "name": "python3"
  },
  "language_info": {
   "codemirror_mode": {
    "name": "ipython",
    "version": 3
   },
   "file_extension": ".py",
   "mimetype": "text/x-python",
   "name": "python",
   "nbconvert_exporter": "python",
   "pygments_lexer": "ipython3",
   "version": "3.11.7"
  }
 },
 "nbformat": 4,
 "nbformat_minor": 2
}
