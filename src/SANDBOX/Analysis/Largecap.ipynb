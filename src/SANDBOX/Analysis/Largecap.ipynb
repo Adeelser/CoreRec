{
 "cells": [
  {
   "cell_type": "code",
   "execution_count": 10,
   "metadata": {},
   "outputs": [
    {
     "name": "stdout",
     "output_type": "stream",
     "text": [
      "Saving network data to large_network.csv...\n",
      "Generating edges...\n"
     ]
    },
    {
     "name": "stderr",
     "output_type": "stream",
     "text": [
      "100%|██████████| 150/150 [00:01<00:00, 83.63it/s]\n"
     ]
    },
    {
     "name": "stdout",
     "output_type": "stream",
     "text": [
      "Edge generation complete.\n"
     ]
    },
    {
     "name": "stderr",
     "output_type": "stream",
     "text": [
      "100%|██████████| 150/150 [03:06<00:00,  1.24s/it]"
     ]
    },
    {
     "name": "stdout",
     "output_type": "stream",
     "text": [
      "Data saving complete.\n"
     ]
    },
    {
     "name": "stderr",
     "output_type": "stream",
     "text": [
      "\n"
     ]
    }
   ],
   "source": [
    "import numpy as np\n",
    "from tqdm import tqdm\n",
    "import os\n",
    "import tempfile\n",
    "import pandas as pd\n",
    "\n",
    "# Constants\n",
    "NUM_NODES = 30_000_000\n",
    "AVG_DEGREE = 10\n",
    "CHUNK_SIZE = 1_000_000\n",
    "\n",
    "def create_memory_mapped_edge_list(num_edges):\n",
    "    # Create a memory-mapped array for edges\n",
    "    fp = tempfile.NamedTemporaryFile(delete=False)\n",
    "    fp.close()\n",
    "    edge_array = np.memmap(fp.name, dtype=np.int32, mode='w+', shape=(num_edges, 2))\n",
    "    return edge_array, fp.name\n",
    "\n",
    "def generate_edges(edge_array, num_nodes, num_edges):\n",
    "    print(\"Generating edges...\")\n",
    "    for i in tqdm(range(0, num_edges, CHUNK_SIZE)):\n",
    "        chunk_size = min(CHUNK_SIZE, num_edges - i)\n",
    "        chunk = np.random.randint(0, num_nodes, size=(chunk_size, 2))\n",
    "        edge_array[i:i+chunk_size] = chunk\n",
    "    print(\"Edge generation complete.\")\n",
    "\n",
    "def save_network_data_csv(filename='large_network.csv'):\n",
    "    print(f\"Saving network data to {filename}...\")\n",
    "\n",
    "    num_edges = NUM_NODES * AVG_DEGREE // 2\n",
    "\n",
    "    # Generate and save edges\n",
    "    edge_array, temp_file = create_memory_mapped_edge_list(num_edges)\n",
    "    generate_edges(edge_array, NUM_NODES, num_edges)\n",
    "\n",
    "    with open(filename, 'w') as f:\n",
    "        f.write(\"source,target,weight\\n\")\n",
    "        for i in tqdm(range(0, num_edges, CHUNK_SIZE)):\n",
    "            chunk_size = min(CHUNK_SIZE, num_edges - i)\n",
    "            edge_chunk = edge_array[i:i+chunk_size]\n",
    "            weights = np.random.random(chunk_size).astype(np.float32)\n",
    "            for j in range(chunk_size):\n",
    "                f.write(f\"{edge_chunk[j, 0]},{edge_chunk[j, 1]},{weights[j]}\\n\")\n",
    "\n",
    "    # Clean up\n",
    "    del edge_array\n",
    "    os.unlink(temp_file)\n",
    "\n",
    "    print(\"Data saving complete.\")\n",
    "\n",
    "# Main function to generate and save the network\n",
    "def generate_and_save_large_network():\n",
    "    save_network_data_csv()\n",
    "\n",
    "# Run the generator\n",
    "if __name__ == \"__main__\":\n",
    "    generate_and_save_large_network()"
   ]
  }
 ],
 "metadata": {
  "kernelspec": {
   "display_name": "base",
   "language": "python",
   "name": "base"
  },
  "language_info": {
   "codemirror_mode": {
    "name": "ipython",
    "version": 3
   },
   "file_extension": ".py",
   "mimetype": "text/x-python",
   "name": "python",
   "nbconvert_exporter": "python",
   "pygments_lexer": "ipython3",
   "version": "3.11.7"
  }
 },
 "nbformat": 4,
 "nbformat_minor": 2
}
